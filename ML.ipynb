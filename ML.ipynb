{
 "cells": [
  {
   "cell_type": "code",
   "execution_count": 3,
   "metadata": {},
   "outputs": [
    {
     "name": "stdout",
     "output_type": "stream",
     "text": [
      "                      baseMean  log2FoldChange     lfcSE       stat  \\\n",
      "ENSG00000251562   58541.614076        9.287611  0.724679  12.816173   \n",
      "ENSG00000225630   22180.244811       -8.842033  0.712668 -12.406939   \n",
      "ENSG00000132613    2807.616384       -6.627583  0.555617 -11.928326   \n",
      "ENSG00000196091    1447.347375       -6.286227  0.537697 -11.691029   \n",
      "ENSG00000212907  194636.565062       -7.638408  0.676400 -11.292742   \n",
      "ENSG00000105605    2961.414881       -7.421986  0.660600 -11.235213   \n",
      "ENSG00000236824    4731.099743      -10.490418  0.933605 -11.236464   \n",
      "ENSG00000124766   93833.610865        8.724711  0.794537  10.980872   \n",
      "ENSG00000134917     630.654858       -6.212766  0.575136 -10.802249   \n",
      "ENSG00000184113    2273.464886       -7.007336  0.653983 -10.714861   \n",
      "\n",
      "                       pvalue          padj  \n",
      "ENSG00000251562  1.331094e-37  4.164859e-33  \n",
      "ENSG00000225630  2.396394e-35  3.749039e-31  \n",
      "ENSG00000132613  8.425031e-33  8.787027e-29  \n",
      "ENSG00000196091  1.416590e-31  1.108092e-27  \n",
      "ENSG00000212907  1.425203e-29  8.918633e-26  \n",
      "ENSG00000105605  2.738320e-29  1.223990e-25  \n",
      "ENSG00000236824  2.699796e-29  1.223990e-25  \n",
      "ENSG00000124766  4.723402e-28  1.847382e-24  \n",
      "ENSG00000134917  3.358727e-27  1.167680e-23  \n",
      "ENSG00000184113  8.668729e-27  2.712359e-23  \n"
     ]
    }
   ],
   "source": [
    "import pandas as pd\n",
    "\n",
    "deg_df = pd.read_csv(\"Result/DESeq2_results.csv\", index_col=0)\n",
    "\n",
    "# 통계적으로 유의한 유전자 선별 (일반적인 cutoff: padj < 0.05, |log2FoldChange| > 2)\n",
    "significant_deg = deg_df[\n",
    "    (deg_df['padj'] < 0.05) & \n",
    "    (abs(deg_df['log2FoldChange']) > 2)\n",
    "].sort_values(by='padj')\n",
    "\n",
    "print(significant_deg.head(10))\n"
   ]
  },
  {
   "cell_type": "code",
   "execution_count": 4,
   "metadata": {},
   "outputs": [
    {
     "data": {
      "text/html": [
       "<div>\n",
       "<style scoped>\n",
       "    .dataframe tbody tr th:only-of-type {\n",
       "        vertical-align: middle;\n",
       "    }\n",
       "\n",
       "    .dataframe tbody tr th {\n",
       "        vertical-align: top;\n",
       "    }\n",
       "\n",
       "    .dataframe thead th {\n",
       "        text-align: right;\n",
       "    }\n",
       "</style>\n",
       "<table border=\"1\" class=\"dataframe\">\n",
       "  <thead>\n",
       "    <tr style=\"text-align: right;\">\n",
       "      <th></th>\n",
       "      <th>baseMean</th>\n",
       "      <th>log2FoldChange</th>\n",
       "      <th>lfcSE</th>\n",
       "      <th>stat</th>\n",
       "      <th>pvalue</th>\n",
       "      <th>padj</th>\n",
       "    </tr>\n",
       "  </thead>\n",
       "  <tbody>\n",
       "    <tr>\n",
       "      <th>ENSG00000251562</th>\n",
       "      <td>58541.614076</td>\n",
       "      <td>9.287611</td>\n",
       "      <td>0.724679</td>\n",
       "      <td>12.816173</td>\n",
       "      <td>1.331094e-37</td>\n",
       "      <td>4.164859e-33</td>\n",
       "    </tr>\n",
       "    <tr>\n",
       "      <th>ENSG00000225630</th>\n",
       "      <td>22180.244811</td>\n",
       "      <td>-8.842033</td>\n",
       "      <td>0.712668</td>\n",
       "      <td>-12.406939</td>\n",
       "      <td>2.396394e-35</td>\n",
       "      <td>3.749039e-31</td>\n",
       "    </tr>\n",
       "    <tr>\n",
       "      <th>ENSG00000132613</th>\n",
       "      <td>2807.616384</td>\n",
       "      <td>-6.627583</td>\n",
       "      <td>0.555617</td>\n",
       "      <td>-11.928326</td>\n",
       "      <td>8.425031e-33</td>\n",
       "      <td>8.787027e-29</td>\n",
       "    </tr>\n",
       "    <tr>\n",
       "      <th>ENSG00000196091</th>\n",
       "      <td>1447.347375</td>\n",
       "      <td>-6.286227</td>\n",
       "      <td>0.537697</td>\n",
       "      <td>-11.691029</td>\n",
       "      <td>1.416590e-31</td>\n",
       "      <td>1.108092e-27</td>\n",
       "    </tr>\n",
       "    <tr>\n",
       "      <th>ENSG00000212907</th>\n",
       "      <td>194636.565062</td>\n",
       "      <td>-7.638408</td>\n",
       "      <td>0.676400</td>\n",
       "      <td>-11.292742</td>\n",
       "      <td>1.425203e-29</td>\n",
       "      <td>8.918633e-26</td>\n",
       "    </tr>\n",
       "    <tr>\n",
       "      <th>...</th>\n",
       "      <td>...</td>\n",
       "      <td>...</td>\n",
       "      <td>...</td>\n",
       "      <td>...</td>\n",
       "      <td>...</td>\n",
       "      <td>...</td>\n",
       "    </tr>\n",
       "    <tr>\n",
       "      <th>ENSG00000204952</th>\n",
       "      <td>3.469176</td>\n",
       "      <td>-5.208570</td>\n",
       "      <td>2.100198</td>\n",
       "      <td>-2.480038</td>\n",
       "      <td>1.313686e-02</td>\n",
       "      <td>4.995613e-02</td>\n",
       "    </tr>\n",
       "    <tr>\n",
       "      <th>ENSG00000279656</th>\n",
       "      <td>83.248212</td>\n",
       "      <td>-2.511826</td>\n",
       "      <td>1.012817</td>\n",
       "      <td>-2.480039</td>\n",
       "      <td>1.313681e-02</td>\n",
       "      <td>4.995613e-02</td>\n",
       "    </tr>\n",
       "    <tr>\n",
       "      <th>ENSG00000228039</th>\n",
       "      <td>3.377059</td>\n",
       "      <td>-5.172127</td>\n",
       "      <td>2.085758</td>\n",
       "      <td>-2.479735</td>\n",
       "      <td>1.314801e-02</td>\n",
       "      <td>4.998569e-02</td>\n",
       "    </tr>\n",
       "    <tr>\n",
       "      <th>ENSG00000185792</th>\n",
       "      <td>3.377059</td>\n",
       "      <td>-5.172127</td>\n",
       "      <td>2.085758</td>\n",
       "      <td>-2.479735</td>\n",
       "      <td>1.314801e-02</td>\n",
       "      <td>4.998569e-02</td>\n",
       "    </tr>\n",
       "    <tr>\n",
       "      <th>ENSG00000179256</th>\n",
       "      <td>6.646045</td>\n",
       "      <td>4.356112</td>\n",
       "      <td>1.756712</td>\n",
       "      <td>2.479697</td>\n",
       "      <td>1.314942e-02</td>\n",
       "      <td>4.998569e-02</td>\n",
       "    </tr>\n",
       "  </tbody>\n",
       "</table>\n",
       "<p>7073 rows × 6 columns</p>\n",
       "</div>"
      ],
      "text/plain": [
       "                      baseMean  log2FoldChange     lfcSE       stat  \\\n",
       "ENSG00000251562   58541.614076        9.287611  0.724679  12.816173   \n",
       "ENSG00000225630   22180.244811       -8.842033  0.712668 -12.406939   \n",
       "ENSG00000132613    2807.616384       -6.627583  0.555617 -11.928326   \n",
       "ENSG00000196091    1447.347375       -6.286227  0.537697 -11.691029   \n",
       "ENSG00000212907  194636.565062       -7.638408  0.676400 -11.292742   \n",
       "...                        ...             ...       ...        ...   \n",
       "ENSG00000204952       3.469176       -5.208570  2.100198  -2.480038   \n",
       "ENSG00000279656      83.248212       -2.511826  1.012817  -2.480039   \n",
       "ENSG00000228039       3.377059       -5.172127  2.085758  -2.479735   \n",
       "ENSG00000185792       3.377059       -5.172127  2.085758  -2.479735   \n",
       "ENSG00000179256       6.646045        4.356112  1.756712   2.479697   \n",
       "\n",
       "                       pvalue          padj  \n",
       "ENSG00000251562  1.331094e-37  4.164859e-33  \n",
       "ENSG00000225630  2.396394e-35  3.749039e-31  \n",
       "ENSG00000132613  8.425031e-33  8.787027e-29  \n",
       "ENSG00000196091  1.416590e-31  1.108092e-27  \n",
       "ENSG00000212907  1.425203e-29  8.918633e-26  \n",
       "...                       ...           ...  \n",
       "ENSG00000204952  1.313686e-02  4.995613e-02  \n",
       "ENSG00000279656  1.313681e-02  4.995613e-02  \n",
       "ENSG00000228039  1.314801e-02  4.998569e-02  \n",
       "ENSG00000185792  1.314801e-02  4.998569e-02  \n",
       "ENSG00000179256  1.314942e-02  4.998569e-02  \n",
       "\n",
       "[7073 rows x 6 columns]"
      ]
     },
     "execution_count": 4,
     "metadata": {},
     "output_type": "execute_result"
    }
   ],
   "source": [
    "significant_deg"
   ]
  },
  {
   "cell_type": "code",
   "execution_count": 10,
   "metadata": {},
   "outputs": [
    {
     "name": "stdout",
     "output_type": "stream",
     "text": [
      "                                        name  intersection_size       p_value  \\\n",
      "0                      biological regulation               3296  1.059754e-50   \n",
      "1           regulation of biological process               3195  7.477963e-47   \n",
      "2                      developmental process               1874  2.207014e-46   \n",
      "3           anatomical structure development               1739  3.787809e-46   \n",
      "4             regulation of cellular process               3093  1.424319e-43   \n",
      "5         multicellular organism development               1399  9.765379e-40   \n",
      "6    positive regulation of cellular process               1682  7.973271e-36   \n",
      "7           multicellular organismal process               2000  3.451467e-35   \n",
      "8                         system development               1208  9.811060e-35   \n",
      "9  positive regulation of biological process               1759  1.946016e-34   \n",
      "\n",
      "  source                                        description  \n",
      "0  GO:BP  \"Any process that modulates a measurable attri...  \n",
      "1  GO:BP  \"Any process that modulates the frequency, rat...  \n",
      "2  GO:BP  \"A biological process whose specific outcome i...  \n",
      "3  GO:BP  \"The biological process whose specific outcome...  \n",
      "4  GO:BP  \"Any process that modulates the frequency, rat...  \n",
      "5  GO:BP  \"The biological process whose specific outcome...  \n",
      "6  GO:BP  \"Any process that activates or increases the f...  \n",
      "7  GO:BP  \"Any biological process, occurring at the leve...  \n",
      "8  GO:BP  \"The process whose specific outcome is the pro...  \n",
      "9  GO:BP  \"Any process that activates or increases the f...  \n"
     ]
    }
   ],
   "source": [
    "import pandas as pd\n",
    "\n",
    "enrichment_df = pd.read_csv(\"Result/enrichment_results.csv\")\n",
    "\n",
    "# 유의한 biological pathway 또는 기능 선택 (p-value < 0.05 기준)\n",
    "important_pathways = enrichment_df[enrichment_df['p_value'] < 0.05]\n",
    "\n",
    "# 올바르게 컬럼 이름을 수정\n",
    "print(important_pathways[['name', 'intersection_size', 'p_value', 'source', 'description']].head(10))\n"
   ]
  },
  {
   "cell_type": "code",
   "execution_count": 11,
   "metadata": {},
   "outputs": [
    {
     "data": {
      "text/html": [
       "<div>\n",
       "<style scoped>\n",
       "    .dataframe tbody tr th:only-of-type {\n",
       "        vertical-align: middle;\n",
       "    }\n",
       "\n",
       "    .dataframe tbody tr th {\n",
       "        vertical-align: top;\n",
       "    }\n",
       "\n",
       "    .dataframe thead th {\n",
       "        text-align: right;\n",
       "    }\n",
       "</style>\n",
       "<table border=\"1\" class=\"dataframe\">\n",
       "  <thead>\n",
       "    <tr style=\"text-align: right;\">\n",
       "      <th></th>\n",
       "      <th>Unnamed: 0</th>\n",
       "      <th>source</th>\n",
       "      <th>native</th>\n",
       "      <th>name</th>\n",
       "      <th>p_value</th>\n",
       "      <th>significant</th>\n",
       "      <th>description</th>\n",
       "      <th>term_size</th>\n",
       "      <th>query_size</th>\n",
       "      <th>intersection_size</th>\n",
       "      <th>effective_domain_size</th>\n",
       "      <th>precision</th>\n",
       "      <th>recall</th>\n",
       "      <th>query</th>\n",
       "      <th>parents</th>\n",
       "    </tr>\n",
       "  </thead>\n",
       "  <tbody>\n",
       "    <tr>\n",
       "      <th>0</th>\n",
       "      <td>0</td>\n",
       "      <td>GO:BP</td>\n",
       "      <td>GO:0065007</td>\n",
       "      <td>biological regulation</td>\n",
       "      <td>1.059754e-50</td>\n",
       "      <td>True</td>\n",
       "      <td>\"Any process that modulates a measurable attri...</td>\n",
       "      <td>12671</td>\n",
       "      <td>4718</td>\n",
       "      <td>3296</td>\n",
       "      <td>21017</td>\n",
       "      <td>0.698601</td>\n",
       "      <td>0.260122</td>\n",
       "      <td>query_1</td>\n",
       "      <td>['GO:0008150']</td>\n",
       "    </tr>\n",
       "    <tr>\n",
       "      <th>1</th>\n",
       "      <td>1</td>\n",
       "      <td>GO:BP</td>\n",
       "      <td>GO:0050789</td>\n",
       "      <td>regulation of biological process</td>\n",
       "      <td>7.477963e-47</td>\n",
       "      <td>True</td>\n",
       "      <td>\"Any process that modulates the frequency, rat...</td>\n",
       "      <td>12278</td>\n",
       "      <td>4718</td>\n",
       "      <td>3195</td>\n",
       "      <td>21017</td>\n",
       "      <td>0.677194</td>\n",
       "      <td>0.260222</td>\n",
       "      <td>query_1</td>\n",
       "      <td>['GO:0008150', 'GO:0065007']</td>\n",
       "    </tr>\n",
       "    <tr>\n",
       "      <th>2</th>\n",
       "      <td>2</td>\n",
       "      <td>GO:BP</td>\n",
       "      <td>GO:0032502</td>\n",
       "      <td>developmental process</td>\n",
       "      <td>2.207014e-46</td>\n",
       "      <td>True</td>\n",
       "      <td>\"A biological process whose specific outcome i...</td>\n",
       "      <td>6478</td>\n",
       "      <td>4718</td>\n",
       "      <td>1874</td>\n",
       "      <td>21017</td>\n",
       "      <td>0.397202</td>\n",
       "      <td>0.289287</td>\n",
       "      <td>query_1</td>\n",
       "      <td>['GO:0008150']</td>\n",
       "    </tr>\n",
       "    <tr>\n",
       "      <th>3</th>\n",
       "      <td>3</td>\n",
       "      <td>GO:BP</td>\n",
       "      <td>GO:0048856</td>\n",
       "      <td>anatomical structure development</td>\n",
       "      <td>3.787809e-46</td>\n",
       "      <td>True</td>\n",
       "      <td>\"The biological process whose specific outcome...</td>\n",
       "      <td>5924</td>\n",
       "      <td>4718</td>\n",
       "      <td>1739</td>\n",
       "      <td>21017</td>\n",
       "      <td>0.368588</td>\n",
       "      <td>0.293552</td>\n",
       "      <td>query_1</td>\n",
       "      <td>['GO:0032502']</td>\n",
       "    </tr>\n",
       "    <tr>\n",
       "      <th>4</th>\n",
       "      <td>4</td>\n",
       "      <td>GO:BP</td>\n",
       "      <td>GO:0050794</td>\n",
       "      <td>regulation of cellular process</td>\n",
       "      <td>1.424319e-43</td>\n",
       "      <td>True</td>\n",
       "      <td>\"Any process that modulates the frequency, rat...</td>\n",
       "      <td>11876</td>\n",
       "      <td>4718</td>\n",
       "      <td>3093</td>\n",
       "      <td>21017</td>\n",
       "      <td>0.655574</td>\n",
       "      <td>0.260441</td>\n",
       "      <td>query_1</td>\n",
       "      <td>['GO:0009987', 'GO:0050789']</td>\n",
       "    </tr>\n",
       "    <tr>\n",
       "      <th>...</th>\n",
       "      <td>...</td>\n",
       "      <td>...</td>\n",
       "      <td>...</td>\n",
       "      <td>...</td>\n",
       "      <td>...</td>\n",
       "      <td>...</td>\n",
       "      <td>...</td>\n",
       "      <td>...</td>\n",
       "      <td>...</td>\n",
       "      <td>...</td>\n",
       "      <td>...</td>\n",
       "      <td>...</td>\n",
       "      <td>...</td>\n",
       "      <td>...</td>\n",
       "      <td>...</td>\n",
       "    </tr>\n",
       "    <tr>\n",
       "      <th>442</th>\n",
       "      <td>442</td>\n",
       "      <td>GO:BP</td>\n",
       "      <td>GO:0010638</td>\n",
       "      <td>positive regulation of organelle organization</td>\n",
       "      <td>4.337277e-02</td>\n",
       "      <td>True</td>\n",
       "      <td>\"Any process that increases the frequency, rat...</td>\n",
       "      <td>481</td>\n",
       "      <td>4718</td>\n",
       "      <td>147</td>\n",
       "      <td>21017</td>\n",
       "      <td>0.031157</td>\n",
       "      <td>0.305613</td>\n",
       "      <td>query_1</td>\n",
       "      <td>['GO:0006996', 'GO:0033043', 'GO:0051130']</td>\n",
       "    </tr>\n",
       "    <tr>\n",
       "      <th>443</th>\n",
       "      <td>443</td>\n",
       "      <td>GO:BP</td>\n",
       "      <td>GO:0048562</td>\n",
       "      <td>embryonic organ morphogenesis</td>\n",
       "      <td>4.387693e-02</td>\n",
       "      <td>True</td>\n",
       "      <td>\"Morphogenesis, during the embryonic phase, of...</td>\n",
       "      <td>305</td>\n",
       "      <td>4718</td>\n",
       "      <td>100</td>\n",
       "      <td>21017</td>\n",
       "      <td>0.021195</td>\n",
       "      <td>0.327869</td>\n",
       "      <td>query_1</td>\n",
       "      <td>['GO:0009887', 'GO:0048568', 'GO:0048598']</td>\n",
       "    </tr>\n",
       "    <tr>\n",
       "      <th>444</th>\n",
       "      <td>444</td>\n",
       "      <td>GO:BP</td>\n",
       "      <td>GO:2000779</td>\n",
       "      <td>regulation of double-strand break repair</td>\n",
       "      <td>4.401553e-02</td>\n",
       "      <td>True</td>\n",
       "      <td>\"Any process that modulates the frequency, rat...</td>\n",
       "      <td>132</td>\n",
       "      <td>4718</td>\n",
       "      <td>51</td>\n",
       "      <td>21017</td>\n",
       "      <td>0.010810</td>\n",
       "      <td>0.386364</td>\n",
       "      <td>query_1</td>\n",
       "      <td>['GO:0006282', 'GO:0006302']</td>\n",
       "    </tr>\n",
       "    <tr>\n",
       "      <th>445</th>\n",
       "      <td>445</td>\n",
       "      <td>GO:BP</td>\n",
       "      <td>GO:0007605</td>\n",
       "      <td>sensory perception of sound</td>\n",
       "      <td>4.473281e-02</td>\n",
       "      <td>True</td>\n",
       "      <td>\"The series of events required for an organism...</td>\n",
       "      <td>166</td>\n",
       "      <td>4718</td>\n",
       "      <td>61</td>\n",
       "      <td>21017</td>\n",
       "      <td>0.012929</td>\n",
       "      <td>0.367470</td>\n",
       "      <td>query_1</td>\n",
       "      <td>['GO:0050954']</td>\n",
       "    </tr>\n",
       "    <tr>\n",
       "      <th>446</th>\n",
       "      <td>446</td>\n",
       "      <td>REAC</td>\n",
       "      <td>REAC:R-HSA-2559584</td>\n",
       "      <td>Formation of Senescence-Associated Heterochrom...</td>\n",
       "      <td>4.961941e-02</td>\n",
       "      <td>True</td>\n",
       "      <td>Formation of Senescence-Associated Heterochrom...</td>\n",
       "      <td>16</td>\n",
       "      <td>2932</td>\n",
       "      <td>12</td>\n",
       "      <td>10916</td>\n",
       "      <td>0.004093</td>\n",
       "      <td>0.750000</td>\n",
       "      <td>query_1</td>\n",
       "      <td>['REAC:R-HSA-2559586']</td>\n",
       "    </tr>\n",
       "  </tbody>\n",
       "</table>\n",
       "<p>447 rows × 15 columns</p>\n",
       "</div>"
      ],
      "text/plain": [
       "     Unnamed: 0 source              native  \\\n",
       "0             0  GO:BP          GO:0065007   \n",
       "1             1  GO:BP          GO:0050789   \n",
       "2             2  GO:BP          GO:0032502   \n",
       "3             3  GO:BP          GO:0048856   \n",
       "4             4  GO:BP          GO:0050794   \n",
       "..          ...    ...                 ...   \n",
       "442         442  GO:BP          GO:0010638   \n",
       "443         443  GO:BP          GO:0048562   \n",
       "444         444  GO:BP          GO:2000779   \n",
       "445         445  GO:BP          GO:0007605   \n",
       "446         446   REAC  REAC:R-HSA-2559584   \n",
       "\n",
       "                                                  name       p_value  \\\n",
       "0                                biological regulation  1.059754e-50   \n",
       "1                     regulation of biological process  7.477963e-47   \n",
       "2                                developmental process  2.207014e-46   \n",
       "3                     anatomical structure development  3.787809e-46   \n",
       "4                       regulation of cellular process  1.424319e-43   \n",
       "..                                                 ...           ...   \n",
       "442      positive regulation of organelle organization  4.337277e-02   \n",
       "443                      embryonic organ morphogenesis  4.387693e-02   \n",
       "444           regulation of double-strand break repair  4.401553e-02   \n",
       "445                        sensory perception of sound  4.473281e-02   \n",
       "446  Formation of Senescence-Associated Heterochrom...  4.961941e-02   \n",
       "\n",
       "     significant                                        description  \\\n",
       "0           True  \"Any process that modulates a measurable attri...   \n",
       "1           True  \"Any process that modulates the frequency, rat...   \n",
       "2           True  \"A biological process whose specific outcome i...   \n",
       "3           True  \"The biological process whose specific outcome...   \n",
       "4           True  \"Any process that modulates the frequency, rat...   \n",
       "..           ...                                                ...   \n",
       "442         True  \"Any process that increases the frequency, rat...   \n",
       "443         True  \"Morphogenesis, during the embryonic phase, of...   \n",
       "444         True  \"Any process that modulates the frequency, rat...   \n",
       "445         True  \"The series of events required for an organism...   \n",
       "446         True  Formation of Senescence-Associated Heterochrom...   \n",
       "\n",
       "     term_size  query_size  intersection_size  effective_domain_size  \\\n",
       "0        12671        4718               3296                  21017   \n",
       "1        12278        4718               3195                  21017   \n",
       "2         6478        4718               1874                  21017   \n",
       "3         5924        4718               1739                  21017   \n",
       "4        11876        4718               3093                  21017   \n",
       "..         ...         ...                ...                    ...   \n",
       "442        481        4718                147                  21017   \n",
       "443        305        4718                100                  21017   \n",
       "444        132        4718                 51                  21017   \n",
       "445        166        4718                 61                  21017   \n",
       "446         16        2932                 12                  10916   \n",
       "\n",
       "     precision    recall    query                                     parents  \n",
       "0     0.698601  0.260122  query_1                              ['GO:0008150']  \n",
       "1     0.677194  0.260222  query_1                ['GO:0008150', 'GO:0065007']  \n",
       "2     0.397202  0.289287  query_1                              ['GO:0008150']  \n",
       "3     0.368588  0.293552  query_1                              ['GO:0032502']  \n",
       "4     0.655574  0.260441  query_1                ['GO:0009987', 'GO:0050789']  \n",
       "..         ...       ...      ...                                         ...  \n",
       "442   0.031157  0.305613  query_1  ['GO:0006996', 'GO:0033043', 'GO:0051130']  \n",
       "443   0.021195  0.327869  query_1  ['GO:0009887', 'GO:0048568', 'GO:0048598']  \n",
       "444   0.010810  0.386364  query_1                ['GO:0006282', 'GO:0006302']  \n",
       "445   0.012929  0.367470  query_1                              ['GO:0050954']  \n",
       "446   0.004093  0.750000  query_1                      ['REAC:R-HSA-2559586']  \n",
       "\n",
       "[447 rows x 15 columns]"
      ]
     },
     "execution_count": 11,
     "metadata": {},
     "output_type": "execute_result"
    }
   ],
   "source": [
    "important_pathways"
   ]
  },
  {
   "cell_type": "code",
   "execution_count": 12,
   "metadata": {},
   "outputs": [
    {
     "name": "stdout",
     "output_type": "stream",
     "text": [
      "                      baseMean  log2FoldChange     lfcSE       stat  \\\n",
      "ENSG00000251562   58541.614076        9.287611  0.724679  12.816173   \n",
      "ENSG00000225630   22180.244811       -8.842033  0.712668 -12.406939   \n",
      "ENSG00000132613    2807.616384       -6.627583  0.555617 -11.928326   \n",
      "ENSG00000196091    1447.347375       -6.286227  0.537697 -11.691029   \n",
      "ENSG00000212907  194636.565062       -7.638408  0.676400 -11.292742   \n",
      "ENSG00000105605    2961.414881       -7.421986  0.660600 -11.235213   \n",
      "ENSG00000236824    4731.099743      -10.490418  0.933605 -11.236464   \n",
      "ENSG00000124766   93833.610865        8.724711  0.794537  10.980872   \n",
      "ENSG00000134917     630.654858       -6.212766  0.575136 -10.802249   \n",
      "ENSG00000184113    2273.464886       -7.007336  0.653983 -10.714861   \n",
      "\n",
      "                       pvalue          padj  \n",
      "ENSG00000251562  1.331094e-37  4.164859e-33  \n",
      "ENSG00000225630  2.396394e-35  3.749039e-31  \n",
      "ENSG00000132613  8.425031e-33  8.787027e-29  \n",
      "ENSG00000196091  1.416590e-31  1.108092e-27  \n",
      "ENSG00000212907  1.425203e-29  8.918633e-26  \n",
      "ENSG00000105605  2.738320e-29  1.223990e-25  \n",
      "ENSG00000236824  2.699796e-29  1.223990e-25  \n",
      "ENSG00000124766  4.723402e-28  1.847382e-24  \n",
      "ENSG00000134917  3.358727e-27  1.167680e-23  \n",
      "ENSG00000184113  8.668729e-27  2.712359e-23  \n"
     ]
    }
   ],
   "source": [
    "# Step 1. 중요 DEG 유전자 선별 (DESeq2 결과 분석)\n",
    "\n",
    "significant_deg = deg_df[\n",
    "    (deg_df['padj'] < 0.05) & (abs(deg_df['log2FoldChange']) > 2)\n",
    "].sort_values(by='padj')\n",
    "\n",
    "# 중요 DEG 유전자 저장\n",
    "significant_deg.to_csv(\"Result/significant_deg.csv\")\n",
    "\n",
    "# 중요 DEG 유전자 목록 확인\n",
    "print(significant_deg.head(10))\n"
   ]
  },
  {
   "cell_type": "code",
   "execution_count": 13,
   "metadata": {},
   "outputs": [
    {
     "name": "stdout",
     "output_type": "stream",
     "text": [
      "                                 name  intersection_size       p_value source  \\\n",
      "0    anatomical structure development               1465  3.646183e-55  GO:BP   \n",
      "1               developmental process               1565  3.745076e-53  GO:BP   \n",
      "2               biological regulation               2654  7.278624e-48  GO:BP   \n",
      "3    multicellular organismal process               1680  5.886848e-46  GO:BP   \n",
      "4    regulation of biological process               2579  1.163973e-45  GO:BP   \n",
      "5  multicellular organism development               1169  1.800708e-43  GO:BP   \n",
      "6                  system development               1024  2.483020e-41  GO:BP   \n",
      "7      regulation of cellular process               2487  3.714238e-40  GO:BP   \n",
      "8                  cell communication               1509  8.444217e-39  GO:BP   \n",
      "9                           signaling               1500  7.364257e-38  GO:BP   \n",
      "\n",
      "                                         description  \n",
      "0  \"The biological process whose specific outcome...  \n",
      "1  \"A biological process whose specific outcome i...  \n",
      "2  \"Any process that modulates a measurable attri...  \n",
      "3  \"Any biological process, occurring at the leve...  \n",
      "4  \"Any process that modulates the frequency, rat...  \n",
      "5  \"The biological process whose specific outcome...  \n",
      "6  \"The process whose specific outcome is the pro...  \n",
      "7  \"Any process that modulates the frequency, rat...  \n",
      "8  \"Any process that mediates interactions betwee...  \n",
      "9  \"The entirety of a process in which informatio...  \n"
     ]
    }
   ],
   "source": [
    "from gprofiler import GProfiler\n",
    "import pandas as pd\n",
    "\n",
    "sig_genes = pd.read_csv(\"Result/significant_deg.csv\", index_col=0).index.tolist()\n",
    "\n",
    "gp = GProfiler(return_dataframe=True)\n",
    "enrichment_results = gp.profile(\n",
    "    organism='hsapiens',\n",
    "    query=sig_genes,\n",
    "    sources=['GO:BP', 'KEGG', 'REAC']\n",
    ")\n",
    "\n",
    "important_pathways = enrichment_results[\n",
    "    enrichment_results['p_value'] < 0.05\n",
    "].sort_values(by='p_value')\n",
    "\n",
    "# 중요 pathway 저장\n",
    "important_pathways.to_csv(\"Result/important_pathways.csv\", index=False)\n",
    "\n",
    "# 상위 10개 경로 확인\n",
    "print(important_pathways[['name', 'intersection_size', 'p_value', 'source', 'description']].head(10))"
   ]
  },
  {
   "cell_type": "code",
   "execution_count": 25,
   "metadata": {},
   "outputs": [
    {
     "name": "stdout",
     "output_type": "stream",
     "text": [
      "                 Tumor_SRR30510137  Tumor_SRR30510151  Tumor_SRR30510181  \\\n",
      "Geneid                                                                     \n",
      "ENSG00000279928                  6                  0                  2   \n",
      "ENSG00000228037                  0                  0                  7   \n",
      "ENSG00000142611               2403                735                168   \n",
      "ENSG00000284616                  0                  0                  0   \n",
      "ENSG00000157911               1369                537                889   \n",
      "\n",
      "                 Normal_SRR28602760  Normal_SRR28602761  Normal_SRR28602767  \n",
      "Geneid                                                                       \n",
      "ENSG00000279928                   2                   2                   6  \n",
      "ENSG00000228037                  15                   8                   6  \n",
      "ENSG00000142611                1128                1247                 504  \n",
      "ENSG00000284616                   0                   0                   0  \n",
      "ENSG00000157911                 805                1177                1301  \n",
      "Geneid              ENSG00000142655  ENSG00000149527  ENSG00000224387  \\\n",
      "Tumor_SRR30510137         15.499599        11.618739         0.000000   \n",
      "Tumor_SRR30510151         14.186313        13.294885        13.197013   \n",
      "Tumor_SRR30510181         15.979257         6.823718         0.000000   \n",
      "Normal_SRR28602760        18.338600        17.813395        17.151065   \n",
      "Normal_SRR28602761        18.145496        18.362158        17.444795   \n",
      "\n",
      "Geneid              ENSG00000284703  ENSG00000226457  ENSG00000279457  \\\n",
      "Tumor_SRR30510137          0.000000        17.716562        14.573099   \n",
      "Tumor_SRR30510151          0.000000        14.909248        13.573158   \n",
      "Tumor_SRR30510181          0.000000        19.432765        14.725096   \n",
      "Normal_SRR28602760        19.713390        15.494195        18.046976   \n",
      "Normal_SRR28602761        16.973159         0.000000        18.482603   \n",
      "\n",
      "Geneid              ENSG00000229393  ENSG00000162444  ENSG00000284745  \\\n",
      "Tumor_SRR30510137          0.000000         9.707485         0.000000   \n",
      "Tumor_SRR30510151         12.674401         9.707485         0.000000   \n",
      "Tumor_SRR30510181          0.000000        12.875876         0.000000   \n",
      "Normal_SRR28602760        16.532177        15.648301         0.000000   \n",
      "Normal_SRR28602761        18.066503        18.629090        18.170761   \n",
      "\n",
      "Geneid              ENSG00000285945  ...  ENSG00000198938  ENSG00000198840  \\\n",
      "Tumor_SRR30510137          0.000000  ...        13.210209         9.232951   \n",
      "Tumor_SRR30510151          0.000000  ...        12.796128         9.459928   \n",
      "Tumor_SRR30510181          0.000000  ...        13.748510        10.884501   \n",
      "Normal_SRR28602760        19.315714  ...        18.576332        18.620130   \n",
      "Normal_SRR28602761        18.178213  ...        18.681980        18.532974   \n",
      "\n",
      "Geneid              ENSG00000212907  ENSG00000198886  ENSG00000198786  \\\n",
      "Tumor_SRR30510137         10.182024        11.435825        11.926006   \n",
      "Tumor_SRR30510151         10.399114        12.018916        12.400614   \n",
      "Tumor_SRR30510181         10.849102        12.157291        13.023750   \n",
      "Normal_SRR28602760        18.431230        18.439496        18.188806   \n",
      "Normal_SRR28602761        18.685995        18.686464        18.826397   \n",
      "\n",
      "Geneid              ENSG00000198695  ENSG00000198727  ENSG00000210195  \\\n",
      "Tumor_SRR30510137         11.868703        13.549554        16.725131   \n",
      "Tumor_SRR30510151         12.715816        13.043350        17.725124   \n",
      "Tumor_SRR30510181         12.608830        13.138387        19.174428   \n",
      "Normal_SRR28602760        18.131688        18.616127        15.346641   \n",
      "Normal_SRR28602761        18.842568        18.565011        14.609698   \n",
      "\n",
      "Geneid              ENSG00000210196  ENSG00000277196  \n",
      "Tumor_SRR30510137         11.456909         9.800687  \n",
      "Tumor_SRR30510151         11.790413        12.858157  \n",
      "Tumor_SRR30510181         15.326093        13.481019  \n",
      "Normal_SRR28602760        18.347171        18.711463  \n",
      "Normal_SRR28602761        18.705175        18.281545  \n",
      "\n",
      "[5 rows x 7073 columns]\n"
     ]
    }
   ],
   "source": [
    "import pandas as pd\n",
    "import numpy as np\n",
    "\n",
    "# 데이터 로드 시 Geneid를 인덱스로 지정하여 로드\n",
    "counts_df = pd.read_csv(\"Result/combined_counts_df.csv\", index_col=0)\n",
    "\n",
    "# 현재의 데이터 확인\n",
    "print(counts_df.head())\n",
    "\n",
    "# 데이터 전치 (유전자가 컬럼이 되도록)\n",
    "X = counts_df.T\n",
    "\n",
    "# 중요 유전자 로드\n",
    "important_genes = pd.read_csv(\"Result/significant_deg.csv\", index_col=0).index\n",
    "\n",
    "# 중요 유전자만 필터링 (교집합을 통해 안전하게 필터링)\n",
    "important_genes_filtered = X.columns.intersection(important_genes)\n",
    "X_filtered = X[important_genes_filtered]\n",
    "\n",
    "# CPM 정규화\n",
    "def cpm(df):\n",
    "    return (df / df.sum(axis=0)) * 1e6\n",
    "\n",
    "X_cpm = cpm(X_filtered)\n",
    "X_log = np.log2(X_cpm + 1)\n",
    "\n",
    "# 레이블 설정\n",
    "labels = ['Tumor', 'Tumor', 'Tumor', 'Normal', 'Normal', 'Normal']\n",
    "y = labels\n",
    "\n",
    "# 결과 확인\n",
    "print(X_log.head())\n"
   ]
  },
  {
   "cell_type": "code",
   "execution_count": 26,
   "metadata": {},
   "outputs": [
    {
     "data": {
      "text/html": [
       "<div>\n",
       "<style scoped>\n",
       "    .dataframe tbody tr th:only-of-type {\n",
       "        vertical-align: middle;\n",
       "    }\n",
       "\n",
       "    .dataframe tbody tr th {\n",
       "        vertical-align: top;\n",
       "    }\n",
       "\n",
       "    .dataframe thead th {\n",
       "        text-align: right;\n",
       "    }\n",
       "</style>\n",
       "<table border=\"1\" class=\"dataframe\">\n",
       "  <thead>\n",
       "    <tr style=\"text-align: right;\">\n",
       "      <th>Geneid</th>\n",
       "      <th>ENSG00000142655</th>\n",
       "      <th>ENSG00000149527</th>\n",
       "      <th>ENSG00000224387</th>\n",
       "      <th>ENSG00000284703</th>\n",
       "      <th>ENSG00000226457</th>\n",
       "      <th>ENSG00000279457</th>\n",
       "      <th>ENSG00000229393</th>\n",
       "      <th>ENSG00000162444</th>\n",
       "      <th>ENSG00000284745</th>\n",
       "      <th>ENSG00000285945</th>\n",
       "      <th>...</th>\n",
       "      <th>ENSG00000198938</th>\n",
       "      <th>ENSG00000198840</th>\n",
       "      <th>ENSG00000212907</th>\n",
       "      <th>ENSG00000198886</th>\n",
       "      <th>ENSG00000198786</th>\n",
       "      <th>ENSG00000198695</th>\n",
       "      <th>ENSG00000198727</th>\n",
       "      <th>ENSG00000210195</th>\n",
       "      <th>ENSG00000210196</th>\n",
       "      <th>ENSG00000277196</th>\n",
       "    </tr>\n",
       "  </thead>\n",
       "  <tbody>\n",
       "    <tr>\n",
       "      <th>Tumor_SRR30510137</th>\n",
       "      <td>15.499599</td>\n",
       "      <td>11.618739</td>\n",
       "      <td>0.000000</td>\n",
       "      <td>0.000000</td>\n",
       "      <td>17.716562</td>\n",
       "      <td>14.573099</td>\n",
       "      <td>0.000000</td>\n",
       "      <td>9.707485</td>\n",
       "      <td>0.000000</td>\n",
       "      <td>0.000000</td>\n",
       "      <td>...</td>\n",
       "      <td>13.210209</td>\n",
       "      <td>9.232951</td>\n",
       "      <td>10.182024</td>\n",
       "      <td>11.435825</td>\n",
       "      <td>11.926006</td>\n",
       "      <td>11.868703</td>\n",
       "      <td>13.549554</td>\n",
       "      <td>16.725131</td>\n",
       "      <td>11.456909</td>\n",
       "      <td>9.800687</td>\n",
       "    </tr>\n",
       "    <tr>\n",
       "      <th>Tumor_SRR30510151</th>\n",
       "      <td>14.186313</td>\n",
       "      <td>13.294885</td>\n",
       "      <td>13.197013</td>\n",
       "      <td>0.000000</td>\n",
       "      <td>14.909248</td>\n",
       "      <td>13.573158</td>\n",
       "      <td>12.674401</td>\n",
       "      <td>9.707485</td>\n",
       "      <td>0.000000</td>\n",
       "      <td>0.000000</td>\n",
       "      <td>...</td>\n",
       "      <td>12.796128</td>\n",
       "      <td>9.459928</td>\n",
       "      <td>10.399114</td>\n",
       "      <td>12.018916</td>\n",
       "      <td>12.400614</td>\n",
       "      <td>12.715816</td>\n",
       "      <td>13.043350</td>\n",
       "      <td>17.725124</td>\n",
       "      <td>11.790413</td>\n",
       "      <td>12.858157</td>\n",
       "    </tr>\n",
       "    <tr>\n",
       "      <th>Tumor_SRR30510181</th>\n",
       "      <td>15.979257</td>\n",
       "      <td>6.823718</td>\n",
       "      <td>0.000000</td>\n",
       "      <td>0.000000</td>\n",
       "      <td>19.432765</td>\n",
       "      <td>14.725096</td>\n",
       "      <td>0.000000</td>\n",
       "      <td>12.875876</td>\n",
       "      <td>0.000000</td>\n",
       "      <td>0.000000</td>\n",
       "      <td>...</td>\n",
       "      <td>13.748510</td>\n",
       "      <td>10.884501</td>\n",
       "      <td>10.849102</td>\n",
       "      <td>12.157291</td>\n",
       "      <td>13.023750</td>\n",
       "      <td>12.608830</td>\n",
       "      <td>13.138387</td>\n",
       "      <td>19.174428</td>\n",
       "      <td>15.326093</td>\n",
       "      <td>13.481019</td>\n",
       "    </tr>\n",
       "    <tr>\n",
       "      <th>Normal_SRR28602760</th>\n",
       "      <td>18.338600</td>\n",
       "      <td>17.813395</td>\n",
       "      <td>17.151065</td>\n",
       "      <td>19.713390</td>\n",
       "      <td>15.494195</td>\n",
       "      <td>18.046976</td>\n",
       "      <td>16.532177</td>\n",
       "      <td>15.648301</td>\n",
       "      <td>0.000000</td>\n",
       "      <td>19.315714</td>\n",
       "      <td>...</td>\n",
       "      <td>18.576332</td>\n",
       "      <td>18.620130</td>\n",
       "      <td>18.431230</td>\n",
       "      <td>18.439496</td>\n",
       "      <td>18.188806</td>\n",
       "      <td>18.131688</td>\n",
       "      <td>18.616127</td>\n",
       "      <td>15.346641</td>\n",
       "      <td>18.347171</td>\n",
       "      <td>18.711463</td>\n",
       "    </tr>\n",
       "    <tr>\n",
       "      <th>Normal_SRR28602761</th>\n",
       "      <td>18.145496</td>\n",
       "      <td>18.362158</td>\n",
       "      <td>17.444795</td>\n",
       "      <td>16.973159</td>\n",
       "      <td>0.000000</td>\n",
       "      <td>18.482603</td>\n",
       "      <td>18.066503</td>\n",
       "      <td>18.629090</td>\n",
       "      <td>18.170761</td>\n",
       "      <td>18.178213</td>\n",
       "      <td>...</td>\n",
       "      <td>18.681980</td>\n",
       "      <td>18.532974</td>\n",
       "      <td>18.685995</td>\n",
       "      <td>18.686464</td>\n",
       "      <td>18.826397</td>\n",
       "      <td>18.842568</td>\n",
       "      <td>18.565011</td>\n",
       "      <td>14.609698</td>\n",
       "      <td>18.705175</td>\n",
       "      <td>18.281545</td>\n",
       "    </tr>\n",
       "    <tr>\n",
       "      <th>Normal_SRR28602767</th>\n",
       "      <td>17.925704</td>\n",
       "      <td>18.678015</td>\n",
       "      <td>19.346608</td>\n",
       "      <td>13.513839</td>\n",
       "      <td>0.000000</td>\n",
       "      <td>18.191022</td>\n",
       "      <td>19.251612</td>\n",
       "      <td>19.026562</td>\n",
       "      <td>19.427098</td>\n",
       "      <td>15.633916</td>\n",
       "      <td>...</td>\n",
       "      <td>17.271524</td>\n",
       "      <td>17.711239</td>\n",
       "      <td>17.750018</td>\n",
       "      <td>17.687834</td>\n",
       "      <td>17.738828</td>\n",
       "      <td>17.786009</td>\n",
       "      <td>17.465147</td>\n",
       "      <td>14.024765</td>\n",
       "      <td>17.548687</td>\n",
       "      <td>17.826059</td>\n",
       "    </tr>\n",
       "  </tbody>\n",
       "</table>\n",
       "<p>6 rows × 7073 columns</p>\n",
       "</div>"
      ],
      "text/plain": [
       "Geneid              ENSG00000142655  ENSG00000149527  ENSG00000224387  \\\n",
       "Tumor_SRR30510137         15.499599        11.618739         0.000000   \n",
       "Tumor_SRR30510151         14.186313        13.294885        13.197013   \n",
       "Tumor_SRR30510181         15.979257         6.823718         0.000000   \n",
       "Normal_SRR28602760        18.338600        17.813395        17.151065   \n",
       "Normal_SRR28602761        18.145496        18.362158        17.444795   \n",
       "Normal_SRR28602767        17.925704        18.678015        19.346608   \n",
       "\n",
       "Geneid              ENSG00000284703  ENSG00000226457  ENSG00000279457  \\\n",
       "Tumor_SRR30510137          0.000000        17.716562        14.573099   \n",
       "Tumor_SRR30510151          0.000000        14.909248        13.573158   \n",
       "Tumor_SRR30510181          0.000000        19.432765        14.725096   \n",
       "Normal_SRR28602760        19.713390        15.494195        18.046976   \n",
       "Normal_SRR28602761        16.973159         0.000000        18.482603   \n",
       "Normal_SRR28602767        13.513839         0.000000        18.191022   \n",
       "\n",
       "Geneid              ENSG00000229393  ENSG00000162444  ENSG00000284745  \\\n",
       "Tumor_SRR30510137          0.000000         9.707485         0.000000   \n",
       "Tumor_SRR30510151         12.674401         9.707485         0.000000   \n",
       "Tumor_SRR30510181          0.000000        12.875876         0.000000   \n",
       "Normal_SRR28602760        16.532177        15.648301         0.000000   \n",
       "Normal_SRR28602761        18.066503        18.629090        18.170761   \n",
       "Normal_SRR28602767        19.251612        19.026562        19.427098   \n",
       "\n",
       "Geneid              ENSG00000285945  ...  ENSG00000198938  ENSG00000198840  \\\n",
       "Tumor_SRR30510137          0.000000  ...        13.210209         9.232951   \n",
       "Tumor_SRR30510151          0.000000  ...        12.796128         9.459928   \n",
       "Tumor_SRR30510181          0.000000  ...        13.748510        10.884501   \n",
       "Normal_SRR28602760        19.315714  ...        18.576332        18.620130   \n",
       "Normal_SRR28602761        18.178213  ...        18.681980        18.532974   \n",
       "Normal_SRR28602767        15.633916  ...        17.271524        17.711239   \n",
       "\n",
       "Geneid              ENSG00000212907  ENSG00000198886  ENSG00000198786  \\\n",
       "Tumor_SRR30510137         10.182024        11.435825        11.926006   \n",
       "Tumor_SRR30510151         10.399114        12.018916        12.400614   \n",
       "Tumor_SRR30510181         10.849102        12.157291        13.023750   \n",
       "Normal_SRR28602760        18.431230        18.439496        18.188806   \n",
       "Normal_SRR28602761        18.685995        18.686464        18.826397   \n",
       "Normal_SRR28602767        17.750018        17.687834        17.738828   \n",
       "\n",
       "Geneid              ENSG00000198695  ENSG00000198727  ENSG00000210195  \\\n",
       "Tumor_SRR30510137         11.868703        13.549554        16.725131   \n",
       "Tumor_SRR30510151         12.715816        13.043350        17.725124   \n",
       "Tumor_SRR30510181         12.608830        13.138387        19.174428   \n",
       "Normal_SRR28602760        18.131688        18.616127        15.346641   \n",
       "Normal_SRR28602761        18.842568        18.565011        14.609698   \n",
       "Normal_SRR28602767        17.786009        17.465147        14.024765   \n",
       "\n",
       "Geneid              ENSG00000210196  ENSG00000277196  \n",
       "Tumor_SRR30510137         11.456909         9.800687  \n",
       "Tumor_SRR30510151         11.790413        12.858157  \n",
       "Tumor_SRR30510181         15.326093        13.481019  \n",
       "Normal_SRR28602760        18.347171        18.711463  \n",
       "Normal_SRR28602761        18.705175        18.281545  \n",
       "Normal_SRR28602767        17.548687        17.826059  \n",
       "\n",
       "[6 rows x 7073 columns]"
      ]
     },
     "execution_count": 26,
     "metadata": {},
     "output_type": "execute_result"
    }
   ],
   "source": [
    "X_log"
   ]
  },
  {
   "cell_type": "code",
   "execution_count": 29,
   "metadata": {},
   "outputs": [
    {
     "name": "stdout",
     "output_type": "stream",
     "text": [
      "(6, 7073)\n",
      "Index(['Tumor_SRR30510137', 'Tumor_SRR30510151', 'Tumor_SRR30510181',\n",
      "       'Normal_SRR28602760', 'Normal_SRR28602761', 'Normal_SRR28602767'],\n",
      "      dtype='object')\n"
     ]
    }
   ],
   "source": [
    "print(X_log.shape)\n",
    "print(X_log.index)"
   ]
  },
  {
   "cell_type": "code",
   "execution_count": 30,
   "metadata": {},
   "outputs": [
    {
     "name": "stdout",
     "output_type": "stream",
     "text": [
      "Fitting 2 folds for each of 243 candidates, totalling 486 fits\n"
     ]
    },
    {
     "name": "stderr",
     "output_type": "stream",
     "text": [
      "/home/min/anaconda3/envs/BIO/lib/python3.10/site-packages/xgboost/training.py:183: UserWarning: [16:09:56] WARNING: /workspace/src/learner.cc:738: \n",
      "Parameters: { \"use_label_encoder\" } are not used.\n",
      "\n",
      "  bst.update(dtrain, iteration=i, fobj=obj)\n",
      "/home/min/anaconda3/envs/BIO/lib/python3.10/site-packages/xgboost/training.py:183: UserWarning: [16:09:56] WARNING: /workspace/src/learner.cc:738: \n",
      "Parameters: { \"use_label_encoder\" } are not used.\n",
      "\n",
      "  bst.update(dtrain, iteration=i, fobj=obj)\n",
      "/home/min/anaconda3/envs/BIO/lib/python3.10/site-packages/xgboost/training.py:183: UserWarning: [16:09:56] WARNING: /workspace/src/learner.cc:738: \n",
      "Parameters: { \"use_label_encoder\" } are not used.\n",
      "\n",
      "  bst.update(dtrain, iteration=i, fobj=obj)\n",
      "/home/min/anaconda3/envs/BIO/lib/python3.10/site-packages/xgboost/training.py:183: UserWarning: [16:09:56] WARNING: /workspace/src/learner.cc:738: \n",
      "Parameters: { \"use_label_encoder\" } are not used.\n",
      "\n",
      "  bst.update(dtrain, iteration=i, fobj=obj)\n",
      "/home/min/anaconda3/envs/BIO/lib/python3.10/site-packages/xgboost/training.py:183: UserWarning: [16:09:56] WARNING: /workspace/src/learner.cc:738: \n",
      "Parameters: { \"use_label_encoder\" } are not used.\n",
      "\n",
      "  bst.update(dtrain, iteration=i, fobj=obj)\n",
      "/home/min/anaconda3/envs/BIO/lib/python3.10/site-packages/xgboost/training.py:183: UserWarning: [16:09:56] WARNING: /workspace/src/learner.cc:738: \n",
      "Parameters: { \"use_label_encoder\" } are not used.\n",
      "\n",
      "  bst.update(dtrain, iteration=i, fobj=obj)\n",
      "/home/min/anaconda3/envs/BIO/lib/python3.10/site-packages/xgboost/training.py:183: UserWarning: [16:09:56] WARNING: /workspace/src/learner.cc:738: \n",
      "Parameters: { \"use_label_encoder\" } are not used.\n",
      "\n",
      "  bst.update(dtrain, iteration=i, fobj=obj)\n",
      "/home/min/anaconda3/envs/BIO/lib/python3.10/site-packages/xgboost/training.py:183: UserWarning: [16:09:56] WARNING: /workspace/src/learner.cc:738: \n",
      "Parameters: { \"use_label_encoder\" } are not used.\n",
      "\n",
      "  bst.update(dtrain, iteration=i, fobj=obj)\n",
      "/home/min/anaconda3/envs/BIO/lib/python3.10/site-packages/xgboost/training.py:183: UserWarning: [16:09:56] WARNING: /workspace/src/learner.cc:738: \n",
      "Parameters: { \"use_label_encoder\" } are not used.\n",
      "\n",
      "  bst.update(dtrain, iteration=i, fobj=obj)\n",
      "/home/min/anaconda3/envs/BIO/lib/python3.10/site-packages/xgboost/training.py:183: UserWarning: [16:09:56] WARNING: /workspace/src/learner.cc:738: \n",
      "Parameters: { \"use_label_encoder\" } are not used.\n",
      "\n",
      "  bst.update(dtrain, iteration=i, fobj=obj)\n",
      "/home/min/anaconda3/envs/BIO/lib/python3.10/site-packages/xgboost/training.py:183: UserWarning: [16:09:56] WARNING: /workspace/src/learner.cc:738: \n",
      "Parameters: { \"use_label_encoder\" } are not used.\n",
      "\n",
      "  bst.update(dtrain, iteration=i, fobj=obj)\n",
      "/home/min/anaconda3/envs/BIO/lib/python3.10/site-packages/xgboost/training.py:183: UserWarning: [16:09:56] WARNING: /workspace/src/learner.cc:738: \n",
      "Parameters: { \"use_label_encoder\" } are not used.\n",
      "\n",
      "  bst.update(dtrain, iteration=i, fobj=obj)\n",
      "/home/min/anaconda3/envs/BIO/lib/python3.10/site-packages/xgboost/training.py:183: UserWarning: [16:09:56] WARNING: /workspace/src/learner.cc:738: \n",
      "Parameters: { \"use_label_encoder\" } are not used.\n",
      "\n",
      "  bst.update(dtrain, iteration=i, fobj=obj)\n",
      "/home/min/anaconda3/envs/BIO/lib/python3.10/site-packages/xgboost/training.py:183: UserWarning: [16:09:56] WARNING: /workspace/src/learner.cc:738: \n",
      "Parameters: { \"use_label_encoder\" } are not used.\n",
      "\n",
      "  bst.update(dtrain, iteration=i, fobj=obj)\n",
      "/home/min/anaconda3/envs/BIO/lib/python3.10/site-packages/xgboost/training.py:183: UserWarning: [16:09:56] WARNING: /workspace/src/learner.cc:738: \n",
      "Parameters: { \"use_label_encoder\" } are not used.\n",
      "\n",
      "  bst.update(dtrain, iteration=i, fobj=obj)\n",
      "/home/min/anaconda3/envs/BIO/lib/python3.10/site-packages/xgboost/training.py:183: UserWarning: [16:09:56] WARNING: /workspace/src/learner.cc:738: \n",
      "Parameters: { \"use_label_encoder\" } are not used.\n",
      "\n",
      "  bst.update(dtrain, iteration=i, fobj=obj)\n"
     ]
    },
    {
     "name": "stdout",
     "output_type": "stream",
     "text": [
      "[CV] END colsample_bytree=0.7, learning_rate=0.01, max_depth=3, n_estimators=50, subsample=0.9; total time=   2.3s\n",
      "[CV] END colsample_bytree=0.7, learning_rate=0.01, max_depth=3, n_estimators=50, subsample=0.8; total time=   2.3s\n",
      "[CV] END colsample_bytree=0.7, learning_rate=0.01, max_depth=3, n_estimators=50, subsample=0.7; total time=   2.5s\n",
      "[CV] END colsample_bytree=0.7, learning_rate=0.01, max_depth=3, n_estimators=50, subsample=0.8; total time=   2.5s\n",
      "[CV] END colsample_bytree=0.7, learning_rate=0.01, max_depth=3, n_estimators=50, subsample=0.7; total time=   2.5s\n",
      "[CV] END colsample_bytree=0.7, learning_rate=0.01, max_depth=3, n_estimators=50, subsample=0.9; total time=   2.6s\n",
      "[CV] END colsample_bytree=0.7, learning_rate=0.01, max_depth=3, n_estimators=100, subsample=0.9; total time=   2.9s\n",
      "[CV] END colsample_bytree=0.7, learning_rate=0.01, max_depth=3, n_estimators=100, subsample=0.8; total time=   3.0s\n",
      "[CV] END colsample_bytree=0.7, learning_rate=0.01, max_depth=3, n_estimators=100, subsample=0.7; total time=   3.0s\n",
      "[CV] END colsample_bytree=0.7, learning_rate=0.01, max_depth=3, n_estimators=100, subsample=0.7; total time=   3.1s\n"
     ]
    },
    {
     "name": "stderr",
     "output_type": "stream",
     "text": [
      "/home/min/anaconda3/envs/BIO/lib/python3.10/site-packages/xgboost/training.py:183: UserWarning: [16:09:57] WARNING: /workspace/src/learner.cc:738: \n",
      "Parameters: { \"use_label_encoder\" } are not used.\n",
      "\n",
      "  bst.update(dtrain, iteration=i, fobj=obj)\n"
     ]
    },
    {
     "name": "stdout",
     "output_type": "stream",
     "text": [
      "[CV] END colsample_bytree=0.7, learning_rate=0.01, max_depth=3, n_estimators=100, subsample=0.8; total time=   3.1s\n",
      "[CV] END colsample_bytree=0.7, learning_rate=0.01, max_depth=3, n_estimators=100, subsample=0.9; total time=   3.1s\n"
     ]
    },
    {
     "name": "stderr",
     "output_type": "stream",
     "text": [
      "/home/min/anaconda3/envs/BIO/lib/python3.10/site-packages/xgboost/training.py:183: UserWarning: [16:09:58] WARNING: /workspace/src/learner.cc:738: \n",
      "Parameters: { \"use_label_encoder\" } are not used.\n",
      "\n",
      "  bst.update(dtrain, iteration=i, fobj=obj)\n",
      "/home/min/anaconda3/envs/BIO/lib/python3.10/site-packages/xgboost/training.py:183: UserWarning: [16:09:58] WARNING: /workspace/src/learner.cc:738: \n",
      "Parameters: { \"use_label_encoder\" } are not used.\n",
      "\n",
      "  bst.update(dtrain, iteration=i, fobj=obj)\n",
      "/home/min/anaconda3/envs/BIO/lib/python3.10/site-packages/xgboost/training.py:183: UserWarning: [16:09:58] WARNING: /workspace/src/learner.cc:738: \n",
      "Parameters: { \"use_label_encoder\" } are not used.\n",
      "\n",
      "  bst.update(dtrain, iteration=i, fobj=obj)\n",
      "/home/min/anaconda3/envs/BIO/lib/python3.10/site-packages/xgboost/training.py:183: UserWarning: [16:09:58] WARNING: /workspace/src/learner.cc:738: \n",
      "Parameters: { \"use_label_encoder\" } are not used.\n",
      "\n",
      "  bst.update(dtrain, iteration=i, fobj=obj)\n",
      "/home/min/anaconda3/envs/BIO/lib/python3.10/site-packages/xgboost/training.py:183: UserWarning: [16:09:58] WARNING: /workspace/src/learner.cc:738: \n",
      "Parameters: { \"use_label_encoder\" } are not used.\n",
      "\n",
      "  bst.update(dtrain, iteration=i, fobj=obj)\n",
      "/home/min/anaconda3/envs/BIO/lib/python3.10/site-packages/xgboost/training.py:183: UserWarning: [16:09:58] WARNING: /workspace/src/learner.cc:738: \n",
      "Parameters: { \"use_label_encoder\" } are not used.\n",
      "\n",
      "  bst.update(dtrain, iteration=i, fobj=obj)\n",
      "/home/min/anaconda3/envs/BIO/lib/python3.10/site-packages/xgboost/training.py:183: UserWarning: [16:09:58] WARNING: /workspace/src/learner.cc:738: \n",
      "Parameters: { \"use_label_encoder\" } are not used.\n",
      "\n",
      "  bst.update(dtrain, iteration=i, fobj=obj)\n",
      "/home/min/anaconda3/envs/BIO/lib/python3.10/site-packages/xgboost/training.py:183: UserWarning: [16:09:58] WARNING: /workspace/src/learner.cc:738: \n",
      "Parameters: { \"use_label_encoder\" } are not used.\n",
      "\n",
      "  bst.update(dtrain, iteration=i, fobj=obj)\n",
      "/home/min/anaconda3/envs/BIO/lib/python3.10/site-packages/xgboost/training.py:183: UserWarning: [16:09:58] WARNING: /workspace/src/learner.cc:738: \n",
      "Parameters: { \"use_label_encoder\" } are not used.\n",
      "\n",
      "  bst.update(dtrain, iteration=i, fobj=obj)\n",
      "/home/min/anaconda3/envs/BIO/lib/python3.10/site-packages/xgboost/training.py:183: UserWarning: [16:09:58] WARNING: /workspace/src/learner.cc:738: \n",
      "Parameters: { \"use_label_encoder\" } are not used.\n",
      "\n",
      "  bst.update(dtrain, iteration=i, fobj=obj)\n",
      "/home/min/anaconda3/envs/BIO/lib/python3.10/site-packages/xgboost/training.py:183: UserWarning: [16:09:58] WARNING: /workspace/src/learner.cc:738: \n",
      "Parameters: { \"use_label_encoder\" } are not used.\n",
      "\n",
      "  bst.update(dtrain, iteration=i, fobj=obj)\n"
     ]
    },
    {
     "name": "stdout",
     "output_type": "stream",
     "text": [
      "[CV] END colsample_bytree=0.7, learning_rate=0.01, max_depth=3, n_estimators=200, subsample=0.8; total time=   3.8s\n",
      "[CV] END colsample_bytree=0.7, learning_rate=0.01, max_depth=3, n_estimators=200, subsample=0.7; total time=   4.0s\n",
      "[CV] END colsample_bytree=0.7, learning_rate=0.01, max_depth=5, n_estimators=50, subsample=0.7; total time=   1.5s\n",
      "[CV] END colsample_bytree=0.7, learning_rate=0.01, max_depth=3, n_estimators=200, subsample=0.8; total time=   4.1s\n",
      "[CV] END colsample_bytree=0.7, learning_rate=0.01, max_depth=3, n_estimators=200, subsample=0.7; total time=   4.2s\n",
      "[CV] END colsample_bytree=0.7, learning_rate=0.01, max_depth=5, n_estimators=50, subsample=0.8; total time=   1.6s\n",
      "[CV] END colsample_bytree=0.7, learning_rate=0.01, max_depth=5, n_estimators=50, subsample=0.7; total time=   1.7s\n",
      "[CV] END colsample_bytree=0.7, learning_rate=0.01, max_depth=5, n_estimators=50, subsample=0.8; total time=   1.6s\n",
      "[CV] END colsample_bytree=0.7, learning_rate=0.01, max_depth=5, n_estimators=50, subsample=0.9; total time=   1.6s\n",
      "[CV] END colsample_bytree=0.7, learning_rate=0.01, max_depth=5, n_estimators=50, subsample=0.9; total time=   1.5s\n"
     ]
    },
    {
     "name": "stderr",
     "output_type": "stream",
     "text": [
      "/home/min/anaconda3/envs/BIO/lib/python3.10/site-packages/xgboost/training.py:183: UserWarning: [16:09:59] WARNING: /workspace/src/learner.cc:738: \n",
      "Parameters: { \"use_label_encoder\" } are not used.\n",
      "\n",
      "  bst.update(dtrain, iteration=i, fobj=obj)\n",
      "/home/min/anaconda3/envs/BIO/lib/python3.10/site-packages/xgboost/training.py:183: UserWarning: [16:09:59] WARNING: /workspace/src/learner.cc:738: \n",
      "Parameters: { \"use_label_encoder\" } are not used.\n",
      "\n",
      "  bst.update(dtrain, iteration=i, fobj=obj)\n",
      "/home/min/anaconda3/envs/BIO/lib/python3.10/site-packages/xgboost/training.py:183: UserWarning: [16:09:59] WARNING: /workspace/src/learner.cc:738: \n",
      "Parameters: { \"use_label_encoder\" } are not used.\n",
      "\n",
      "  bst.update(dtrain, iteration=i, fobj=obj)\n",
      "/home/min/anaconda3/envs/BIO/lib/python3.10/site-packages/xgboost/training.py:183: UserWarning: [16:09:59] WARNING: /workspace/src/learner.cc:738: \n",
      "Parameters: { \"use_label_encoder\" } are not used.\n",
      "\n",
      "  bst.update(dtrain, iteration=i, fobj=obj)\n",
      "/home/min/anaconda3/envs/BIO/lib/python3.10/site-packages/xgboost/training.py:183: UserWarning: [16:09:59] WARNING: /workspace/src/learner.cc:738: \n",
      "Parameters: { \"use_label_encoder\" } are not used.\n",
      "\n",
      "  bst.update(dtrain, iteration=i, fobj=obj)\n",
      "/home/min/anaconda3/envs/BIO/lib/python3.10/site-packages/xgboost/training.py:183: UserWarning: [16:09:59] WARNING: /workspace/src/learner.cc:738: \n",
      "Parameters: { \"use_label_encoder\" } are not used.\n",
      "\n",
      "  bst.update(dtrain, iteration=i, fobj=obj)\n",
      "/home/min/anaconda3/envs/BIO/lib/python3.10/site-packages/xgboost/training.py:183: UserWarning: [16:09:59] WARNING: /workspace/src/learner.cc:738: \n",
      "Parameters: { \"use_label_encoder\" } are not used.\n",
      "\n",
      "  bst.update(dtrain, iteration=i, fobj=obj)\n",
      "/home/min/anaconda3/envs/BIO/lib/python3.10/site-packages/xgboost/training.py:183: UserWarning: [16:09:59] WARNING: /workspace/src/learner.cc:738: \n",
      "Parameters: { \"use_label_encoder\" } are not used.\n",
      "\n",
      "  bst.update(dtrain, iteration=i, fobj=obj)\n"
     ]
    },
    {
     "name": "stdout",
     "output_type": "stream",
     "text": [
      "[CV] END colsample_bytree=0.7, learning_rate=0.01, max_depth=5, n_estimators=100, subsample=0.7; total time=   2.0s\n",
      "[CV] END colsample_bytree=0.7, learning_rate=0.01, max_depth=5, n_estimators=100, subsample=0.7; total time=   2.0s\n",
      "[CV] END colsample_bytree=0.7, learning_rate=0.01, max_depth=5, n_estimators=100, subsample=0.8; total time=   2.0s\n",
      "[CV] END colsample_bytree=0.7, learning_rate=0.01, max_depth=5, n_estimators=100, subsample=0.8; total time=   2.1s\n"
     ]
    },
    {
     "name": "stderr",
     "output_type": "stream",
     "text": [
      "/home/min/anaconda3/envs/BIO/lib/python3.10/site-packages/xgboost/training.py:183: UserWarning: [16:10:00] WARNING: /workspace/src/learner.cc:738: \n",
      "Parameters: { \"use_label_encoder\" } are not used.\n",
      "\n",
      "  bst.update(dtrain, iteration=i, fobj=obj)\n",
      "/home/min/anaconda3/envs/BIO/lib/python3.10/site-packages/xgboost/training.py:183: UserWarning: [16:10:00] WARNING: /workspace/src/learner.cc:738: \n",
      "Parameters: { \"use_label_encoder\" } are not used.\n",
      "\n",
      "  bst.update(dtrain, iteration=i, fobj=obj)\n"
     ]
    },
    {
     "name": "stdout",
     "output_type": "stream",
     "text": [
      "[CV] END colsample_bytree=0.7, learning_rate=0.01, max_depth=3, n_estimators=200, subsample=0.9; total time=   3.1s\n",
      "[CV] END colsample_bytree=0.7, learning_rate=0.01, max_depth=3, n_estimators=200, subsample=0.9; total time=   3.4s\n"
     ]
    },
    {
     "name": "stderr",
     "output_type": "stream",
     "text": [
      "/home/min/anaconda3/envs/BIO/lib/python3.10/site-packages/xgboost/training.py:183: UserWarning: [16:10:00] WARNING: /workspace/src/learner.cc:738: \n",
      "Parameters: { \"use_label_encoder\" } are not used.\n",
      "\n",
      "  bst.update(dtrain, iteration=i, fobj=obj)\n",
      "/home/min/anaconda3/envs/BIO/lib/python3.10/site-packages/xgboost/training.py:183: UserWarning: [16:10:00] WARNING: /workspace/src/learner.cc:738: \n",
      "Parameters: { \"use_label_encoder\" } are not used.\n",
      "\n",
      "  bst.update(dtrain, iteration=i, fobj=obj)\n",
      "/home/min/anaconda3/envs/BIO/lib/python3.10/site-packages/xgboost/training.py:183: UserWarning: [16:10:00] WARNING: /workspace/src/learner.cc:738: \n",
      "Parameters: { \"use_label_encoder\" } are not used.\n",
      "\n",
      "  bst.update(dtrain, iteration=i, fobj=obj)\n",
      "/home/min/anaconda3/envs/BIO/lib/python3.10/site-packages/xgboost/training.py:183: UserWarning: [16:10:00] WARNING: /workspace/src/learner.cc:738: \n",
      "Parameters: { \"use_label_encoder\" } are not used.\n",
      "\n",
      "  bst.update(dtrain, iteration=i, fobj=obj)\n",
      "/home/min/anaconda3/envs/BIO/lib/python3.10/site-packages/xgboost/training.py:183: UserWarning: [16:10:00] WARNING: /workspace/src/learner.cc:738: \n",
      "Parameters: { \"use_label_encoder\" } are not used.\n",
      "\n",
      "  bst.update(dtrain, iteration=i, fobj=obj)\n"
     ]
    },
    {
     "name": "stdout",
     "output_type": "stream",
     "text": [
      "[CV] END colsample_bytree=0.7, learning_rate=0.01, max_depth=5, n_estimators=100, subsample=0.9; total time=   2.0s\n",
      "[CV] END colsample_bytree=0.7, learning_rate=0.01, max_depth=7, n_estimators=50, subsample=0.7; total time=   1.5s\n",
      "[CV] END colsample_bytree=0.7, learning_rate=0.01, max_depth=5, n_estimators=100, subsample=0.9; total time=   2.2s\n",
      "[CV] END colsample_bytree=0.7, learning_rate=0.01, max_depth=7, n_estimators=50, subsample=0.7; total time=   1.6s\n"
     ]
    },
    {
     "name": "stderr",
     "output_type": "stream",
     "text": [
      "/home/min/anaconda3/envs/BIO/lib/python3.10/site-packages/xgboost/training.py:183: UserWarning: [16:10:01] WARNING: /workspace/src/learner.cc:738: \n",
      "Parameters: { \"use_label_encoder\" } are not used.\n",
      "\n",
      "  bst.update(dtrain, iteration=i, fobj=obj)\n"
     ]
    },
    {
     "name": "stdout",
     "output_type": "stream",
     "text": [
      "[CV] END colsample_bytree=0.7, learning_rate=0.01, max_depth=7, n_estimators=50, subsample=0.8; total time=   1.5s\n",
      "[CV] END colsample_bytree=0.7, learning_rate=0.01, max_depth=7, n_estimators=50, subsample=0.8; total time=   1.6s\n",
      "[CV] END colsample_bytree=0.7, learning_rate=0.01, max_depth=7, n_estimators=50, subsample=0.9; total time=   1.5s\n",
      "[CV] END colsample_bytree=0.7, learning_rate=0.01, max_depth=7, n_estimators=50, subsample=0.9; total time=   1.5s\n"
     ]
    },
    {
     "name": "stderr",
     "output_type": "stream",
     "text": [
      "/home/min/anaconda3/envs/BIO/lib/python3.10/site-packages/xgboost/training.py:183: UserWarning: [16:10:01] WARNING: /workspace/src/learner.cc:738: \n",
      "Parameters: { \"use_label_encoder\" } are not used.\n",
      "\n",
      "  bst.update(dtrain, iteration=i, fobj=obj)\n",
      "/home/min/anaconda3/envs/BIO/lib/python3.10/site-packages/xgboost/training.py:183: UserWarning: [16:10:01] WARNING: /workspace/src/learner.cc:738: \n",
      "Parameters: { \"use_label_encoder\" } are not used.\n",
      "\n",
      "  bst.update(dtrain, iteration=i, fobj=obj)\n",
      "/home/min/anaconda3/envs/BIO/lib/python3.10/site-packages/xgboost/training.py:183: UserWarning: [16:10:01] WARNING: /workspace/src/learner.cc:738: \n",
      "Parameters: { \"use_label_encoder\" } are not used.\n",
      "\n",
      "  bst.update(dtrain, iteration=i, fobj=obj)\n",
      "/home/min/anaconda3/envs/BIO/lib/python3.10/site-packages/xgboost/training.py:183: UserWarning: [16:10:01] WARNING: /workspace/src/learner.cc:738: \n",
      "Parameters: { \"use_label_encoder\" } are not used.\n",
      "\n",
      "  bst.update(dtrain, iteration=i, fobj=obj)\n"
     ]
    },
    {
     "name": "stdout",
     "output_type": "stream",
     "text": [
      "[CV] END colsample_bytree=0.7, learning_rate=0.01, max_depth=5, n_estimators=200, subsample=0.7; total time=   2.9s\n",
      "[CV] END colsample_bytree=0.7, learning_rate=0.01, max_depth=5, n_estimators=200, subsample=0.7; total time=   3.0s\n"
     ]
    },
    {
     "name": "stderr",
     "output_type": "stream",
     "text": [
      "/home/min/anaconda3/envs/BIO/lib/python3.10/site-packages/xgboost/training.py:183: UserWarning: [16:10:02] WARNING: /workspace/src/learner.cc:738: \n",
      "Parameters: { \"use_label_encoder\" } are not used.\n",
      "\n",
      "  bst.update(dtrain, iteration=i, fobj=obj)\n",
      "/home/min/anaconda3/envs/BIO/lib/python3.10/site-packages/xgboost/training.py:183: UserWarning: [16:10:02] WARNING: /workspace/src/learner.cc:738: \n",
      "Parameters: { \"use_label_encoder\" } are not used.\n",
      "\n",
      "  bst.update(dtrain, iteration=i, fobj=obj)\n",
      "/home/min/anaconda3/envs/BIO/lib/python3.10/site-packages/xgboost/training.py:183: UserWarning: [16:10:02] WARNING: /workspace/src/learner.cc:738: \n",
      "Parameters: { \"use_label_encoder\" } are not used.\n",
      "\n",
      "  bst.update(dtrain, iteration=i, fobj=obj)\n",
      "/home/min/anaconda3/envs/BIO/lib/python3.10/site-packages/xgboost/training.py:183: UserWarning: [16:10:02] WARNING: /workspace/src/learner.cc:738: \n",
      "Parameters: { \"use_label_encoder\" } are not used.\n",
      "\n",
      "  bst.update(dtrain, iteration=i, fobj=obj)\n"
     ]
    },
    {
     "name": "stdout",
     "output_type": "stream",
     "text": [
      "[CV] END colsample_bytree=0.7, learning_rate=0.01, max_depth=5, n_estimators=200, subsample=0.8; total time=   3.1s\n",
      "[CV] END colsample_bytree=0.7, learning_rate=0.01, max_depth=5, n_estimators=200, subsample=0.9; total time=   3.0s\n",
      "[CV] END colsample_bytree=0.7, learning_rate=0.01, max_depth=5, n_estimators=200, subsample=0.9; total time=   3.2s\n",
      "[CV] END colsample_bytree=0.7, learning_rate=0.01, max_depth=7, n_estimators=100, subsample=0.7; total time=   2.2s\n",
      "[CV] END colsample_bytree=0.7, learning_rate=0.01, max_depth=7, n_estimators=100, subsample=0.7; total time=   2.0s\n"
     ]
    },
    {
     "name": "stderr",
     "output_type": "stream",
     "text": [
      "/home/min/anaconda3/envs/BIO/lib/python3.10/site-packages/xgboost/training.py:183: UserWarning: [16:10:02] WARNING: /workspace/src/learner.cc:738: \n",
      "Parameters: { \"use_label_encoder\" } are not used.\n",
      "\n",
      "  bst.update(dtrain, iteration=i, fobj=obj)\n",
      "/home/min/anaconda3/envs/BIO/lib/python3.10/site-packages/xgboost/training.py:183: UserWarning: [16:10:02] WARNING: /workspace/src/learner.cc:738: \n",
      "Parameters: { \"use_label_encoder\" } are not used.\n",
      "\n",
      "  bst.update(dtrain, iteration=i, fobj=obj)\n",
      "/home/min/anaconda3/envs/BIO/lib/python3.10/site-packages/xgboost/training.py:183: UserWarning: [16:10:02] WARNING: /workspace/src/learner.cc:738: \n",
      "Parameters: { \"use_label_encoder\" } are not used.\n",
      "\n",
      "  bst.update(dtrain, iteration=i, fobj=obj)\n",
      "/home/min/anaconda3/envs/BIO/lib/python3.10/site-packages/xgboost/training.py:183: UserWarning: [16:10:02] WARNING: /workspace/src/learner.cc:738: \n",
      "Parameters: { \"use_label_encoder\" } are not used.\n",
      "\n",
      "  bst.update(dtrain, iteration=i, fobj=obj)\n"
     ]
    },
    {
     "name": "stdout",
     "output_type": "stream",
     "text": [
      "[CV] END colsample_bytree=0.7, learning_rate=0.01, max_depth=7, n_estimators=100, subsample=0.9; total time=   1.9s\n",
      "[CV] END colsample_bytree=0.7, learning_rate=0.01, max_depth=7, n_estimators=100, subsample=0.8; total time=   2.0s\n"
     ]
    },
    {
     "name": "stderr",
     "output_type": "stream",
     "text": [
      "/home/min/anaconda3/envs/BIO/lib/python3.10/site-packages/xgboost/training.py:183: UserWarning: [16:10:03] WARNING: /workspace/src/learner.cc:738: \n",
      "Parameters: { \"use_label_encoder\" } are not used.\n",
      "\n",
      "  bst.update(dtrain, iteration=i, fobj=obj)\n",
      "/home/min/anaconda3/envs/BIO/lib/python3.10/site-packages/xgboost/training.py:183: UserWarning: [16:10:03] WARNING: /workspace/src/learner.cc:738: \n",
      "Parameters: { \"use_label_encoder\" } are not used.\n",
      "\n",
      "  bst.update(dtrain, iteration=i, fobj=obj)\n",
      "/home/min/anaconda3/envs/BIO/lib/python3.10/site-packages/xgboost/training.py:183: UserWarning: [16:10:03] WARNING: /workspace/src/learner.cc:738: \n",
      "Parameters: { \"use_label_encoder\" } are not used.\n",
      "\n",
      "  bst.update(dtrain, iteration=i, fobj=obj)\n"
     ]
    },
    {
     "name": "stdout",
     "output_type": "stream",
     "text": [
      "[CV] END colsample_bytree=0.7, learning_rate=0.01, max_depth=7, n_estimators=100, subsample=0.9; total time=   2.1s\n",
      "[CV] END colsample_bytree=0.7, learning_rate=0.01, max_depth=7, n_estimators=100, subsample=0.8; total time=   2.2s\n",
      "[CV] END colsample_bytree=0.7, learning_rate=0.01, max_depth=5, n_estimators=200, subsample=0.8; total time=   4.1s\n"
     ]
    },
    {
     "name": "stderr",
     "output_type": "stream",
     "text": [
      "/home/min/anaconda3/envs/BIO/lib/python3.10/site-packages/xgboost/training.py:183: UserWarning: [16:10:03] WARNING: /workspace/src/learner.cc:738: \n",
      "Parameters: { \"use_label_encoder\" } are not used.\n",
      "\n",
      "  bst.update(dtrain, iteration=i, fobj=obj)\n",
      "/home/min/anaconda3/envs/BIO/lib/python3.10/site-packages/xgboost/training.py:183: UserWarning: [16:10:03] WARNING: /workspace/src/learner.cc:738: \n",
      "Parameters: { \"use_label_encoder\" } are not used.\n",
      "\n",
      "  bst.update(dtrain, iteration=i, fobj=obj)\n"
     ]
    },
    {
     "name": "stdout",
     "output_type": "stream",
     "text": [
      "[CV] END colsample_bytree=0.7, learning_rate=0.05, max_depth=3, n_estimators=50, subsample=0.7; total time=   1.5s\n",
      "[CV] END colsample_bytree=0.7, learning_rate=0.05, max_depth=3, n_estimators=50, subsample=0.7; total time=   1.5s\n"
     ]
    },
    {
     "name": "stderr",
     "output_type": "stream",
     "text": [
      "/home/min/anaconda3/envs/BIO/lib/python3.10/site-packages/xgboost/training.py:183: UserWarning: [16:10:03] WARNING: /workspace/src/learner.cc:738: \n",
      "Parameters: { \"use_label_encoder\" } are not used.\n",
      "\n",
      "  bst.update(dtrain, iteration=i, fobj=obj)\n",
      "/home/min/anaconda3/envs/BIO/lib/python3.10/site-packages/xgboost/training.py:183: UserWarning: [16:10:03] WARNING: /workspace/src/learner.cc:738: \n",
      "Parameters: { \"use_label_encoder\" } are not used.\n",
      "\n",
      "  bst.update(dtrain, iteration=i, fobj=obj)\n",
      "/home/min/anaconda3/envs/BIO/lib/python3.10/site-packages/xgboost/training.py:183: UserWarning: [16:10:03] WARNING: /workspace/src/learner.cc:738: \n",
      "Parameters: { \"use_label_encoder\" } are not used.\n",
      "\n",
      "  bst.update(dtrain, iteration=i, fobj=obj)\n"
     ]
    },
    {
     "name": "stdout",
     "output_type": "stream",
     "text": [
      "[CV] END colsample_bytree=0.7, learning_rate=0.05, max_depth=3, n_estimators=50, subsample=0.8; total time=   1.5s\n",
      "[CV] END colsample_bytree=0.7, learning_rate=0.05, max_depth=3, n_estimators=50, subsample=0.9; total time=   1.4s\n",
      "[CV] END colsample_bytree=0.7, learning_rate=0.05, max_depth=3, n_estimators=50, subsample=0.8; total time=   1.5s\n"
     ]
    },
    {
     "name": "stderr",
     "output_type": "stream",
     "text": [
      "/home/min/anaconda3/envs/BIO/lib/python3.10/site-packages/xgboost/training.py:183: UserWarning: [16:10:04] WARNING: /workspace/src/learner.cc:738: \n",
      "Parameters: { \"use_label_encoder\" } are not used.\n",
      "\n",
      "  bst.update(dtrain, iteration=i, fobj=obj)\n",
      "/home/min/anaconda3/envs/BIO/lib/python3.10/site-packages/xgboost/training.py:183: UserWarning: [16:10:04] WARNING: /workspace/src/learner.cc:738: \n",
      "Parameters: { \"use_label_encoder\" } are not used.\n",
      "\n",
      "  bst.update(dtrain, iteration=i, fobj=obj)\n"
     ]
    },
    {
     "name": "stdout",
     "output_type": "stream",
     "text": [
      "[CV] END colsample_bytree=0.7, learning_rate=0.05, max_depth=3, n_estimators=50, subsample=0.9; total time=   1.6s\n",
      "[CV] END colsample_bytree=0.7, learning_rate=0.01, max_depth=7, n_estimators=200, subsample=0.7; total time=   3.0s\n"
     ]
    },
    {
     "name": "stderr",
     "output_type": "stream",
     "text": [
      "/home/min/anaconda3/envs/BIO/lib/python3.10/site-packages/xgboost/training.py:183: UserWarning: [16:10:04] WARNING: /workspace/src/learner.cc:738: \n",
      "Parameters: { \"use_label_encoder\" } are not used.\n",
      "\n",
      "  bst.update(dtrain, iteration=i, fobj=obj)\n",
      "/home/min/anaconda3/envs/BIO/lib/python3.10/site-packages/xgboost/training.py:183: UserWarning: [16:10:04] WARNING: /workspace/src/learner.cc:738: \n",
      "Parameters: { \"use_label_encoder\" } are not used.\n",
      "\n",
      "  bst.update(dtrain, iteration=i, fobj=obj)\n",
      "/home/min/anaconda3/envs/BIO/lib/python3.10/site-packages/xgboost/training.py:183: UserWarning: [16:10:04] WARNING: /workspace/src/learner.cc:738: \n",
      "Parameters: { \"use_label_encoder\" } are not used.\n",
      "\n",
      "  bst.update(dtrain, iteration=i, fobj=obj)\n"
     ]
    },
    {
     "name": "stdout",
     "output_type": "stream",
     "text": [
      "[CV] END colsample_bytree=0.7, learning_rate=0.01, max_depth=7, n_estimators=200, subsample=0.7; total time=   3.1s\n",
      "[CV] END colsample_bytree=0.7, learning_rate=0.01, max_depth=7, n_estimators=200, subsample=0.8; total time=   3.2s\n",
      "[CV] END colsample_bytree=0.7, learning_rate=0.01, max_depth=7, n_estimators=200, subsample=0.9; total time=   3.0s\n",
      "[CV] END colsample_bytree=0.7, learning_rate=0.05, max_depth=3, n_estimators=100, subsample=0.7; total time=   2.0s\n",
      "[CV] END colsample_bytree=0.7, learning_rate=0.01, max_depth=7, n_estimators=200, subsample=0.8; total time=   3.4s\n"
     ]
    },
    {
     "name": "stderr",
     "output_type": "stream",
     "text": [
      "/home/min/anaconda3/envs/BIO/lib/python3.10/site-packages/xgboost/training.py:183: UserWarning: [16:10:05] WARNING: /workspace/src/learner.cc:738: \n",
      "Parameters: { \"use_label_encoder\" } are not used.\n",
      "\n",
      "  bst.update(dtrain, iteration=i, fobj=obj)\n",
      "/home/min/anaconda3/envs/BIO/lib/python3.10/site-packages/xgboost/training.py:183: UserWarning: [16:10:05] WARNING: /workspace/src/learner.cc:738: \n",
      "Parameters: { \"use_label_encoder\" } are not used.\n",
      "\n",
      "  bst.update(dtrain, iteration=i, fobj=obj)\n",
      "/home/min/anaconda3/envs/BIO/lib/python3.10/site-packages/xgboost/training.py:183: UserWarning: [16:10:05] WARNING: /workspace/src/learner.cc:738: \n",
      "Parameters: { \"use_label_encoder\" } are not used.\n",
      "\n",
      "  bst.update(dtrain, iteration=i, fobj=obj)\n"
     ]
    },
    {
     "name": "stdout",
     "output_type": "stream",
     "text": [
      "[CV] END colsample_bytree=0.7, learning_rate=0.01, max_depth=7, n_estimators=200, subsample=0.9; total time=   3.1s\n",
      "[CV] END colsample_bytree=0.7, learning_rate=0.05, max_depth=3, n_estimators=100, subsample=0.8; total time=   2.0s\n",
      "[CV] END colsample_bytree=0.7, learning_rate=0.05, max_depth=3, n_estimators=100, subsample=0.8; total time=   2.1s\n",
      "[CV] END colsample_bytree=0.7, learning_rate=0.05, max_depth=3, n_estimators=100, subsample=0.7; total time=   2.1s\n"
     ]
    },
    {
     "name": "stderr",
     "output_type": "stream",
     "text": [
      "/home/min/anaconda3/envs/BIO/lib/python3.10/site-packages/xgboost/training.py:183: UserWarning: [16:10:05] WARNING: /workspace/src/learner.cc:738: \n",
      "Parameters: { \"use_label_encoder\" } are not used.\n",
      "\n",
      "  bst.update(dtrain, iteration=i, fobj=obj)\n",
      "/home/min/anaconda3/envs/BIO/lib/python3.10/site-packages/xgboost/training.py:183: UserWarning: [16:10:05] WARNING: /workspace/src/learner.cc:738: \n",
      "Parameters: { \"use_label_encoder\" } are not used.\n",
      "\n",
      "  bst.update(dtrain, iteration=i, fobj=obj)\n",
      "/home/min/anaconda3/envs/BIO/lib/python3.10/site-packages/xgboost/training.py:183: UserWarning: [16:10:05] WARNING: /workspace/src/learner.cc:738: \n",
      "Parameters: { \"use_label_encoder\" } are not used.\n",
      "\n",
      "  bst.update(dtrain, iteration=i, fobj=obj)\n"
     ]
    },
    {
     "name": "stdout",
     "output_type": "stream",
     "text": [
      "[CV] END colsample_bytree=0.7, learning_rate=0.05, max_depth=3, n_estimators=100, subsample=0.9; total time=   1.9s\n"
     ]
    },
    {
     "name": "stderr",
     "output_type": "stream",
     "text": [
      "/home/min/anaconda3/envs/BIO/lib/python3.10/site-packages/xgboost/training.py:183: UserWarning: [16:10:05] WARNING: /workspace/src/learner.cc:738: \n",
      "Parameters: { \"use_label_encoder\" } are not used.\n",
      "\n",
      "  bst.update(dtrain, iteration=i, fobj=obj)\n",
      "/home/min/anaconda3/envs/BIO/lib/python3.10/site-packages/xgboost/training.py:183: UserWarning: [16:10:05] WARNING: /workspace/src/learner.cc:738: \n",
      "Parameters: { \"use_label_encoder\" } are not used.\n",
      "\n",
      "  bst.update(dtrain, iteration=i, fobj=obj)\n",
      "/home/min/anaconda3/envs/BIO/lib/python3.10/site-packages/xgboost/training.py:183: UserWarning: [16:10:05] WARNING: /workspace/src/learner.cc:738: \n",
      "Parameters: { \"use_label_encoder\" } are not used.\n",
      "\n",
      "  bst.update(dtrain, iteration=i, fobj=obj)\n",
      "/home/min/anaconda3/envs/BIO/lib/python3.10/site-packages/xgboost/training.py:183: UserWarning: [16:10:05] WARNING: /workspace/src/learner.cc:738: \n",
      "Parameters: { \"use_label_encoder\" } are not used.\n",
      "\n",
      "  bst.update(dtrain, iteration=i, fobj=obj)\n",
      "/home/min/anaconda3/envs/BIO/lib/python3.10/site-packages/xgboost/training.py:183: UserWarning: [16:10:05] WARNING: /workspace/src/learner.cc:738: \n",
      "Parameters: { \"use_label_encoder\" } are not used.\n",
      "\n",
      "  bst.update(dtrain, iteration=i, fobj=obj)\n"
     ]
    },
    {
     "name": "stdout",
     "output_type": "stream",
     "text": [
      "[CV] END colsample_bytree=0.7, learning_rate=0.05, max_depth=3, n_estimators=100, subsample=0.9; total time=   2.2s\n"
     ]
    },
    {
     "name": "stderr",
     "output_type": "stream",
     "text": [
      "/home/min/anaconda3/envs/BIO/lib/python3.10/site-packages/xgboost/training.py:183: UserWarning: [16:10:06] WARNING: /workspace/src/learner.cc:738: \n",
      "Parameters: { \"use_label_encoder\" } are not used.\n",
      "\n",
      "  bst.update(dtrain, iteration=i, fobj=obj)\n"
     ]
    },
    {
     "name": "stdout",
     "output_type": "stream",
     "text": [
      "[CV] END colsample_bytree=0.7, learning_rate=0.05, max_depth=5, n_estimators=50, subsample=0.7; total time=   1.5s\n",
      "[CV] END colsample_bytree=0.7, learning_rate=0.05, max_depth=5, n_estimators=50, subsample=0.7; total time=   1.5s\n",
      "[CV] END colsample_bytree=0.7, learning_rate=0.05, max_depth=5, n_estimators=50, subsample=0.8; total time=   1.5s\n",
      "[CV] END colsample_bytree=0.7, learning_rate=0.05, max_depth=5, n_estimators=50, subsample=0.8; total time=   1.5s\n",
      "[CV] END colsample_bytree=0.7, learning_rate=0.05, max_depth=5, n_estimators=50, subsample=0.9; total time=   1.4s\n",
      "[CV] END colsample_bytree=0.7, learning_rate=0.05, max_depth=5, n_estimators=50, subsample=0.9; total time=   1.5s\n"
     ]
    },
    {
     "name": "stderr",
     "output_type": "stream",
     "text": [
      "/home/min/anaconda3/envs/BIO/lib/python3.10/site-packages/xgboost/training.py:183: UserWarning: [16:10:06] WARNING: /workspace/src/learner.cc:738: \n",
      "Parameters: { \"use_label_encoder\" } are not used.\n",
      "\n",
      "  bst.update(dtrain, iteration=i, fobj=obj)\n",
      "/home/min/anaconda3/envs/BIO/lib/python3.10/site-packages/xgboost/training.py:183: UserWarning: [16:10:06] WARNING: /workspace/src/learner.cc:738: \n",
      "Parameters: { \"use_label_encoder\" } are not used.\n",
      "\n",
      "  bst.update(dtrain, iteration=i, fobj=obj)\n",
      "/home/min/anaconda3/envs/BIO/lib/python3.10/site-packages/xgboost/training.py:183: UserWarning: [16:10:07] WARNING: /workspace/src/learner.cc:738: \n",
      "Parameters: { \"use_label_encoder\" } are not used.\n",
      "\n",
      "  bst.update(dtrain, iteration=i, fobj=obj)\n"
     ]
    },
    {
     "name": "stdout",
     "output_type": "stream",
     "text": [
      "[CV] END colsample_bytree=0.7, learning_rate=0.05, max_depth=3, n_estimators=200, subsample=0.7; total time=   3.2s\n",
      "[CV] END colsample_bytree=0.7, learning_rate=0.05, max_depth=3, n_estimators=200, subsample=0.8; total time=   3.1s\n",
      "[CV] END colsample_bytree=0.7, learning_rate=0.05, max_depth=5, n_estimators=100, subsample=0.7; total time=   2.0s\n"
     ]
    },
    {
     "name": "stderr",
     "output_type": "stream",
     "text": [
      "/home/min/anaconda3/envs/BIO/lib/python3.10/site-packages/xgboost/training.py:183: UserWarning: [16:10:07] WARNING: /workspace/src/learner.cc:738: \n",
      "Parameters: { \"use_label_encoder\" } are not used.\n",
      "\n",
      "  bst.update(dtrain, iteration=i, fobj=obj)\n",
      "/home/min/anaconda3/envs/BIO/lib/python3.10/site-packages/xgboost/training.py:183: UserWarning: [16:10:07] WARNING: /workspace/src/learner.cc:738: \n",
      "Parameters: { \"use_label_encoder\" } are not used.\n",
      "\n",
      "  bst.update(dtrain, iteration=i, fobj=obj)\n",
      "/home/min/anaconda3/envs/BIO/lib/python3.10/site-packages/xgboost/training.py:183: UserWarning: [16:10:07] WARNING: /workspace/src/learner.cc:738: \n",
      "Parameters: { \"use_label_encoder\" } are not used.\n",
      "\n",
      "  bst.update(dtrain, iteration=i, fobj=obj)\n",
      "/home/min/anaconda3/envs/BIO/lib/python3.10/site-packages/xgboost/training.py:183: UserWarning: [16:10:07] WARNING: /workspace/src/learner.cc:738: \n",
      "Parameters: { \"use_label_encoder\" } are not used.\n",
      "\n",
      "  bst.update(dtrain, iteration=i, fobj=obj)\n"
     ]
    },
    {
     "name": "stdout",
     "output_type": "stream",
     "text": [
      "[CV] END colsample_bytree=0.7, learning_rate=0.05, max_depth=5, n_estimators=100, subsample=0.7; total time=   2.1s\n",
      "[CV] END colsample_bytree=0.7, learning_rate=0.05, max_depth=3, n_estimators=200, subsample=0.7; total time=   3.3s\n",
      "[CV] END colsample_bytree=0.7, learning_rate=0.05, max_depth=5, n_estimators=100, subsample=0.8; total time=   2.0s\n",
      "[CV] END colsample_bytree=0.7, learning_rate=0.05, max_depth=3, n_estimators=200, subsample=0.9; total time=   3.0s\n",
      "[CV] END colsample_bytree=0.7, learning_rate=0.05, max_depth=3, n_estimators=200, subsample=0.8; total time=   3.1s\n",
      "[CV] END colsample_bytree=0.7, learning_rate=0.05, max_depth=3, n_estimators=200, subsample=0.9; total time=   2.9s\n"
     ]
    },
    {
     "name": "stderr",
     "output_type": "stream",
     "text": [
      "/home/min/anaconda3/envs/BIO/lib/python3.10/site-packages/xgboost/training.py:183: UserWarning: [16:10:07] WARNING: /workspace/src/learner.cc:738: \n",
      "Parameters: { \"use_label_encoder\" } are not used.\n",
      "\n",
      "  bst.update(dtrain, iteration=i, fobj=obj)\n",
      "/home/min/anaconda3/envs/BIO/lib/python3.10/site-packages/xgboost/training.py:183: UserWarning: [16:10:07] WARNING: /workspace/src/learner.cc:738: \n",
      "Parameters: { \"use_label_encoder\" } are not used.\n",
      "\n",
      "  bst.update(dtrain, iteration=i, fobj=obj)\n",
      "/home/min/anaconda3/envs/BIO/lib/python3.10/site-packages/xgboost/training.py:183: UserWarning: [16:10:07] WARNING: /workspace/src/learner.cc:738: \n",
      "Parameters: { \"use_label_encoder\" } are not used.\n",
      "\n",
      "  bst.update(dtrain, iteration=i, fobj=obj)\n",
      "/home/min/anaconda3/envs/BIO/lib/python3.10/site-packages/xgboost/training.py:183: UserWarning: [16:10:07] WARNING: /workspace/src/learner.cc:738: \n",
      "Parameters: { \"use_label_encoder\" } are not used.\n",
      "\n",
      "  bst.update(dtrain, iteration=i, fobj=obj)\n",
      "/home/min/anaconda3/envs/BIO/lib/python3.10/site-packages/xgboost/training.py:183: UserWarning: [16:10:07] WARNING: /workspace/src/learner.cc:738: \n",
      "Parameters: { \"use_label_encoder\" } are not used.\n",
      "\n",
      "  bst.update(dtrain, iteration=i, fobj=obj)\n"
     ]
    },
    {
     "name": "stdout",
     "output_type": "stream",
     "text": [
      "[CV] END colsample_bytree=0.7, learning_rate=0.05, max_depth=5, n_estimators=100, subsample=0.8; total time=   2.0s\n"
     ]
    },
    {
     "name": "stderr",
     "output_type": "stream",
     "text": [
      "/home/min/anaconda3/envs/BIO/lib/python3.10/site-packages/xgboost/training.py:183: UserWarning: [16:10:08] WARNING: /workspace/src/learner.cc:738: \n",
      "Parameters: { \"use_label_encoder\" } are not used.\n",
      "\n",
      "  bst.update(dtrain, iteration=i, fobj=obj)\n",
      "/home/min/anaconda3/envs/BIO/lib/python3.10/site-packages/xgboost/training.py:183: UserWarning: [16:10:08] WARNING: /workspace/src/learner.cc:738: \n",
      "Parameters: { \"use_label_encoder\" } are not used.\n",
      "\n",
      "  bst.update(dtrain, iteration=i, fobj=obj)\n",
      "/home/min/anaconda3/envs/BIO/lib/python3.10/site-packages/xgboost/training.py:183: UserWarning: [16:10:08] WARNING: /workspace/src/learner.cc:738: \n",
      "Parameters: { \"use_label_encoder\" } are not used.\n",
      "\n",
      "  bst.update(dtrain, iteration=i, fobj=obj)\n",
      "/home/min/anaconda3/envs/BIO/lib/python3.10/site-packages/xgboost/training.py:183: UserWarning: [16:10:08] WARNING: /workspace/src/learner.cc:738: \n",
      "Parameters: { \"use_label_encoder\" } are not used.\n",
      "\n",
      "  bst.update(dtrain, iteration=i, fobj=obj)\n"
     ]
    },
    {
     "name": "stdout",
     "output_type": "stream",
     "text": [
      "[CV] END colsample_bytree=0.7, learning_rate=0.05, max_depth=5, n_estimators=100, subsample=0.9; total time=   2.0s\n",
      "[CV] END colsample_bytree=0.7, learning_rate=0.05, max_depth=5, n_estimators=100, subsample=0.9; total time=   2.0s\n"
     ]
    },
    {
     "name": "stderr",
     "output_type": "stream",
     "text": [
      "/home/min/anaconda3/envs/BIO/lib/python3.10/site-packages/xgboost/training.py:183: UserWarning: [16:10:08] WARNING: /workspace/src/learner.cc:738: \n",
      "Parameters: { \"use_label_encoder\" } are not used.\n",
      "\n",
      "  bst.update(dtrain, iteration=i, fobj=obj)\n"
     ]
    },
    {
     "name": "stdout",
     "output_type": "stream",
     "text": [
      "[CV] END colsample_bytree=0.7, learning_rate=0.05, max_depth=7, n_estimators=50, subsample=0.7; total time=   1.5s\n",
      "[CV] END colsample_bytree=0.7, learning_rate=0.05, max_depth=7, n_estimators=50, subsample=0.7; total time=   1.5s\n",
      "[CV] END colsample_bytree=0.7, learning_rate=0.05, max_depth=7, n_estimators=50, subsample=0.8; total time=   1.5s\n"
     ]
    },
    {
     "name": "stderr",
     "output_type": "stream",
     "text": [
      "/home/min/anaconda3/envs/BIO/lib/python3.10/site-packages/xgboost/training.py:183: UserWarning: [16:10:08] WARNING: /workspace/src/learner.cc:738: \n",
      "Parameters: { \"use_label_encoder\" } are not used.\n",
      "\n",
      "  bst.update(dtrain, iteration=i, fobj=obj)\n",
      "/home/min/anaconda3/envs/BIO/lib/python3.10/site-packages/xgboost/training.py:183: UserWarning: [16:10:09] WARNING: /workspace/src/learner.cc:738: \n",
      "Parameters: { \"use_label_encoder\" } are not used.\n",
      "\n",
      "  bst.update(dtrain, iteration=i, fobj=obj)\n"
     ]
    },
    {
     "name": "stdout",
     "output_type": "stream",
     "text": [
      "[CV] END colsample_bytree=0.7, learning_rate=0.05, max_depth=7, n_estimators=50, subsample=0.8; total time=   1.5s\n",
      "[CV] END colsample_bytree=0.7, learning_rate=0.05, max_depth=7, n_estimators=50, subsample=0.9; total time=   1.6s\n",
      "[CV] END colsample_bytree=0.7, learning_rate=0.05, max_depth=7, n_estimators=50, subsample=0.9; total time=   1.6s\n"
     ]
    },
    {
     "name": "stderr",
     "output_type": "stream",
     "text": [
      "/home/min/anaconda3/envs/BIO/lib/python3.10/site-packages/xgboost/training.py:183: UserWarning: [16:10:09] WARNING: /workspace/src/learner.cc:738: \n",
      "Parameters: { \"use_label_encoder\" } are not used.\n",
      "\n",
      "  bst.update(dtrain, iteration=i, fobj=obj)\n",
      "/home/min/anaconda3/envs/BIO/lib/python3.10/site-packages/xgboost/training.py:183: UserWarning: [16:10:09] WARNING: /workspace/src/learner.cc:738: \n",
      "Parameters: { \"use_label_encoder\" } are not used.\n",
      "\n",
      "  bst.update(dtrain, iteration=i, fobj=obj)\n",
      "/home/min/anaconda3/envs/BIO/lib/python3.10/site-packages/xgboost/training.py:183: UserWarning: [16:10:09] WARNING: /workspace/src/learner.cc:738: \n",
      "Parameters: { \"use_label_encoder\" } are not used.\n",
      "\n",
      "  bst.update(dtrain, iteration=i, fobj=obj)\n"
     ]
    },
    {
     "name": "stdout",
     "output_type": "stream",
     "text": [
      "[CV] END colsample_bytree=0.7, learning_rate=0.05, max_depth=7, n_estimators=100, subsample=0.7; total time=   2.0s\n",
      "[CV] END colsample_bytree=0.7, learning_rate=0.05, max_depth=5, n_estimators=200, subsample=0.7; total time=   3.1s\n",
      "[CV] END colsample_bytree=0.7, learning_rate=0.05, max_depth=5, n_estimators=200, subsample=0.7; total time=   3.1s\n",
      "[CV] END colsample_bytree=0.7, learning_rate=0.05, max_depth=5, n_estimators=200, subsample=0.8; total time=   3.1s\n"
     ]
    },
    {
     "name": "stderr",
     "output_type": "stream",
     "text": [
      "/home/min/anaconda3/envs/BIO/lib/python3.10/site-packages/xgboost/training.py:183: UserWarning: [16:10:09] WARNING: /workspace/src/learner.cc:738: \n",
      "Parameters: { \"use_label_encoder\" } are not used.\n",
      "\n",
      "  bst.update(dtrain, iteration=i, fobj=obj)\n",
      "/home/min/anaconda3/envs/BIO/lib/python3.10/site-packages/xgboost/training.py:183: UserWarning: [16:10:09] WARNING: /workspace/src/learner.cc:738: \n",
      "Parameters: { \"use_label_encoder\" } are not used.\n",
      "\n",
      "  bst.update(dtrain, iteration=i, fobj=obj)\n",
      "/home/min/anaconda3/envs/BIO/lib/python3.10/site-packages/xgboost/training.py:183: UserWarning: [16:10:09] WARNING: /workspace/src/learner.cc:738: \n",
      "Parameters: { \"use_label_encoder\" } are not used.\n",
      "\n",
      "  bst.update(dtrain, iteration=i, fobj=obj)\n"
     ]
    },
    {
     "name": "stdout",
     "output_type": "stream",
     "text": [
      "[CV] END colsample_bytree=0.7, learning_rate=0.05, max_depth=5, n_estimators=200, subsample=0.9; total time=   3.0s\n",
      "[CV] END colsample_bytree=0.7, learning_rate=0.05, max_depth=5, n_estimators=200, subsample=0.8; total time=   3.5s\n",
      "[CV] END colsample_bytree=0.7, learning_rate=0.05, max_depth=7, n_estimators=100, subsample=0.7; total time=   2.2s\n",
      "[CV] END colsample_bytree=0.7, learning_rate=0.05, max_depth=5, n_estimators=200, subsample=0.9; total time=   3.1s\n"
     ]
    },
    {
     "name": "stderr",
     "output_type": "stream",
     "text": [
      "/home/min/anaconda3/envs/BIO/lib/python3.10/site-packages/xgboost/training.py:183: UserWarning: [16:10:10] WARNING: /workspace/src/learner.cc:738: \n",
      "Parameters: { \"use_label_encoder\" } are not used.\n",
      "\n",
      "  bst.update(dtrain, iteration=i, fobj=obj)\n",
      "/home/min/anaconda3/envs/BIO/lib/python3.10/site-packages/xgboost/training.py:183: UserWarning: [16:10:10] WARNING: /workspace/src/learner.cc:738: \n",
      "Parameters: { \"use_label_encoder\" } are not used.\n",
      "\n",
      "  bst.update(dtrain, iteration=i, fobj=obj)\n",
      "/home/min/anaconda3/envs/BIO/lib/python3.10/site-packages/xgboost/training.py:183: UserWarning: [16:10:10] WARNING: /workspace/src/learner.cc:738: \n",
      "Parameters: { \"use_label_encoder\" } are not used.\n",
      "\n",
      "  bst.update(dtrain, iteration=i, fobj=obj)\n",
      "/home/min/anaconda3/envs/BIO/lib/python3.10/site-packages/xgboost/training.py:183: UserWarning: [16:10:10] WARNING: /workspace/src/learner.cc:738: \n",
      "Parameters: { \"use_label_encoder\" } are not used.\n",
      "\n",
      "  bst.update(dtrain, iteration=i, fobj=obj)\n"
     ]
    },
    {
     "name": "stdout",
     "output_type": "stream",
     "text": [
      "[CV] END colsample_bytree=0.7, learning_rate=0.05, max_depth=7, n_estimators=100, subsample=0.8; total time=   2.1s\n",
      "[CV] END colsample_bytree=0.7, learning_rate=0.05, max_depth=7, n_estimators=100, subsample=0.8; total time=   2.1s\n"
     ]
    },
    {
     "name": "stderr",
     "output_type": "stream",
     "text": [
      "/home/min/anaconda3/envs/BIO/lib/python3.10/site-packages/xgboost/training.py:183: UserWarning: [16:10:10] WARNING: /workspace/src/learner.cc:738: \n",
      "Parameters: { \"use_label_encoder\" } are not used.\n",
      "\n",
      "  bst.update(dtrain, iteration=i, fobj=obj)\n",
      "/home/min/anaconda3/envs/BIO/lib/python3.10/site-packages/xgboost/training.py:183: UserWarning: [16:10:10] WARNING: /workspace/src/learner.cc:738: \n",
      "Parameters: { \"use_label_encoder\" } are not used.\n",
      "\n",
      "  bst.update(dtrain, iteration=i, fobj=obj)\n",
      "/home/min/anaconda3/envs/BIO/lib/python3.10/site-packages/xgboost/training.py:183: UserWarning: [16:10:10] WARNING: /workspace/src/learner.cc:738: \n",
      "Parameters: { \"use_label_encoder\" } are not used.\n",
      "\n",
      "  bst.update(dtrain, iteration=i, fobj=obj)\n",
      "/home/min/anaconda3/envs/BIO/lib/python3.10/site-packages/xgboost/training.py:183: UserWarning: [16:10:10] WARNING: /workspace/src/learner.cc:738: \n",
      "Parameters: { \"use_label_encoder\" } are not used.\n",
      "\n",
      "  bst.update(dtrain, iteration=i, fobj=obj)\n"
     ]
    },
    {
     "name": "stdout",
     "output_type": "stream",
     "text": [
      "[CV] END colsample_bytree=0.7, learning_rate=0.05, max_depth=7, n_estimators=100, subsample=0.9; total time=   2.0s\n",
      "[CV] END colsample_bytree=0.7, learning_rate=0.05, max_depth=7, n_estimators=100, subsample=0.9; total time=   2.0s\n"
     ]
    },
    {
     "name": "stderr",
     "output_type": "stream",
     "text": [
      "/home/min/anaconda3/envs/BIO/lib/python3.10/site-packages/xgboost/training.py:183: UserWarning: [16:10:11] WARNING: /workspace/src/learner.cc:738: \n",
      "Parameters: { \"use_label_encoder\" } are not used.\n",
      "\n",
      "  bst.update(dtrain, iteration=i, fobj=obj)\n",
      "/home/min/anaconda3/envs/BIO/lib/python3.10/site-packages/xgboost/training.py:183: UserWarning: [16:10:11] WARNING: /workspace/src/learner.cc:738: \n",
      "Parameters: { \"use_label_encoder\" } are not used.\n",
      "\n",
      "  bst.update(dtrain, iteration=i, fobj=obj)\n"
     ]
    },
    {
     "name": "stdout",
     "output_type": "stream",
     "text": [
      "[CV] END colsample_bytree=0.7, learning_rate=0.1, max_depth=3, n_estimators=50, subsample=0.7; total time=   1.5s\n",
      "[CV] END colsample_bytree=0.7, learning_rate=0.1, max_depth=3, n_estimators=50, subsample=0.7; total time=   1.6s\n"
     ]
    },
    {
     "name": "stderr",
     "output_type": "stream",
     "text": [
      "/home/min/anaconda3/envs/BIO/lib/python3.10/site-packages/xgboost/training.py:183: UserWarning: [16:10:11] WARNING: /workspace/src/learner.cc:738: \n",
      "Parameters: { \"use_label_encoder\" } are not used.\n",
      "\n",
      "  bst.update(dtrain, iteration=i, fobj=obj)\n",
      "/home/min/anaconda3/envs/BIO/lib/python3.10/site-packages/xgboost/training.py:183: UserWarning: [16:10:11] WARNING: /workspace/src/learner.cc:738: \n",
      "Parameters: { \"use_label_encoder\" } are not used.\n",
      "\n",
      "  bst.update(dtrain, iteration=i, fobj=obj)\n"
     ]
    },
    {
     "name": "stdout",
     "output_type": "stream",
     "text": [
      "[CV] END colsample_bytree=0.7, learning_rate=0.1, max_depth=3, n_estimators=50, subsample=0.8; total time=   1.5s\n",
      "[CV] END colsample_bytree=0.7, learning_rate=0.1, max_depth=3, n_estimators=50, subsample=0.9; total time=   1.5s\n",
      "[CV] END colsample_bytree=0.7, learning_rate=0.1, max_depth=3, n_estimators=50, subsample=0.8; total time=   1.7s\n"
     ]
    },
    {
     "name": "stderr",
     "output_type": "stream",
     "text": [
      "/home/min/anaconda3/envs/BIO/lib/python3.10/site-packages/xgboost/training.py:183: UserWarning: [16:10:11] WARNING: /workspace/src/learner.cc:738: \n",
      "Parameters: { \"use_label_encoder\" } are not used.\n",
      "\n",
      "  bst.update(dtrain, iteration=i, fobj=obj)\n",
      "/home/min/anaconda3/envs/BIO/lib/python3.10/site-packages/xgboost/training.py:183: UserWarning: [16:10:12] WARNING: /workspace/src/learner.cc:738: \n",
      "Parameters: { \"use_label_encoder\" } are not used.\n",
      "\n",
      "  bst.update(dtrain, iteration=i, fobj=obj)\n"
     ]
    },
    {
     "name": "stdout",
     "output_type": "stream",
     "text": [
      "[CV] END colsample_bytree=0.7, learning_rate=0.1, max_depth=3, n_estimators=50, subsample=0.9; total time=   1.5s\n",
      "[CV] END colsample_bytree=0.7, learning_rate=0.05, max_depth=7, n_estimators=200, subsample=0.7; total time=   3.0s\n",
      "[CV] END colsample_bytree=0.7, learning_rate=0.05, max_depth=7, n_estimators=200, subsample=0.7; total time=   3.0s\n",
      "[CV] END colsample_bytree=0.7, learning_rate=0.05, max_depth=7, n_estimators=200, subsample=0.8; total time=   3.0s\n"
     ]
    },
    {
     "name": "stderr",
     "output_type": "stream",
     "text": [
      "/home/min/anaconda3/envs/BIO/lib/python3.10/site-packages/xgboost/training.py:183: UserWarning: [16:10:12] WARNING: /workspace/src/learner.cc:738: \n",
      "Parameters: { \"use_label_encoder\" } are not used.\n",
      "\n",
      "  bst.update(dtrain, iteration=i, fobj=obj)\n",
      "/home/min/anaconda3/envs/BIO/lib/python3.10/site-packages/xgboost/training.py:183: UserWarning: [16:10:12] WARNING: /workspace/src/learner.cc:738: \n",
      "Parameters: { \"use_label_encoder\" } are not used.\n",
      "\n",
      "  bst.update(dtrain, iteration=i, fobj=obj)\n",
      "/home/min/anaconda3/envs/BIO/lib/python3.10/site-packages/xgboost/training.py:183: UserWarning: [16:10:12] WARNING: /workspace/src/learner.cc:738: \n",
      "Parameters: { \"use_label_encoder\" } are not used.\n",
      "\n",
      "  bst.update(dtrain, iteration=i, fobj=obj)\n"
     ]
    },
    {
     "name": "stdout",
     "output_type": "stream",
     "text": [
      "[CV] END colsample_bytree=0.7, learning_rate=0.05, max_depth=7, n_estimators=200, subsample=0.8; total time=   3.2s\n",
      "[CV] END colsample_bytree=0.7, learning_rate=0.1, max_depth=3, n_estimators=100, subsample=0.7; total time=   2.1s\n"
     ]
    },
    {
     "name": "stderr",
     "output_type": "stream",
     "text": [
      "/home/min/anaconda3/envs/BIO/lib/python3.10/site-packages/xgboost/training.py:183: UserWarning: [16:10:12] WARNING: /workspace/src/learner.cc:738: \n",
      "Parameters: { \"use_label_encoder\" } are not used.\n",
      "\n",
      "  bst.update(dtrain, iteration=i, fobj=obj)\n",
      "/home/min/anaconda3/envs/BIO/lib/python3.10/site-packages/xgboost/training.py:183: UserWarning: [16:10:12] WARNING: /workspace/src/learner.cc:738: \n",
      "Parameters: { \"use_label_encoder\" } are not used.\n",
      "\n",
      "  bst.update(dtrain, iteration=i, fobj=obj)\n"
     ]
    },
    {
     "name": "stdout",
     "output_type": "stream",
     "text": [
      "[CV] END colsample_bytree=0.7, learning_rate=0.1, max_depth=3, n_estimators=100, subsample=0.7; total time=   2.1s\n",
      "[CV] END colsample_bytree=0.7, learning_rate=0.05, max_depth=7, n_estimators=200, subsample=0.9; total time=   3.0s\n",
      "[CV] END colsample_bytree=0.7, learning_rate=0.05, max_depth=7, n_estimators=200, subsample=0.9; total time=   3.0s\n",
      "[CV] END colsample_bytree=0.7, learning_rate=0.1, max_depth=3, n_estimators=100, subsample=0.8; total time=   2.0s\n"
     ]
    },
    {
     "name": "stderr",
     "output_type": "stream",
     "text": [
      "/home/min/anaconda3/envs/BIO/lib/python3.10/site-packages/xgboost/training.py:183: UserWarning: [16:10:12] WARNING: /workspace/src/learner.cc:738: \n",
      "Parameters: { \"use_label_encoder\" } are not used.\n",
      "\n",
      "  bst.update(dtrain, iteration=i, fobj=obj)\n",
      "/home/min/anaconda3/envs/BIO/lib/python3.10/site-packages/xgboost/training.py:183: UserWarning: [16:10:12] WARNING: /workspace/src/learner.cc:738: \n",
      "Parameters: { \"use_label_encoder\" } are not used.\n",
      "\n",
      "  bst.update(dtrain, iteration=i, fobj=obj)\n"
     ]
    },
    {
     "name": "stdout",
     "output_type": "stream",
     "text": [
      "[CV] END colsample_bytree=0.7, learning_rate=0.1, max_depth=3, n_estimators=100, subsample=0.8; total time=   2.0s\n"
     ]
    },
    {
     "name": "stderr",
     "output_type": "stream",
     "text": [
      "/home/min/anaconda3/envs/BIO/lib/python3.10/site-packages/xgboost/training.py:183: UserWarning: [16:10:13] WARNING: /workspace/src/learner.cc:738: \n",
      "Parameters: { \"use_label_encoder\" } are not used.\n",
      "\n",
      "  bst.update(dtrain, iteration=i, fobj=obj)\n",
      "/home/min/anaconda3/envs/BIO/lib/python3.10/site-packages/xgboost/training.py:183: UserWarning: [16:10:13] WARNING: /workspace/src/learner.cc:738: \n",
      "Parameters: { \"use_label_encoder\" } are not used.\n",
      "\n",
      "  bst.update(dtrain, iteration=i, fobj=obj)\n",
      "/home/min/anaconda3/envs/BIO/lib/python3.10/site-packages/xgboost/training.py:183: UserWarning: [16:10:13] WARNING: /workspace/src/learner.cc:738: \n",
      "Parameters: { \"use_label_encoder\" } are not used.\n",
      "\n",
      "  bst.update(dtrain, iteration=i, fobj=obj)\n",
      "/home/min/anaconda3/envs/BIO/lib/python3.10/site-packages/xgboost/training.py:183: UserWarning: [16:10:13] WARNING: /workspace/src/learner.cc:738: \n",
      "Parameters: { \"use_label_encoder\" } are not used.\n",
      "\n",
      "  bst.update(dtrain, iteration=i, fobj=obj)\n",
      "/home/min/anaconda3/envs/BIO/lib/python3.10/site-packages/xgboost/training.py:183: UserWarning: [16:10:13] WARNING: /workspace/src/learner.cc:738: \n",
      "Parameters: { \"use_label_encoder\" } are not used.\n",
      "\n",
      "  bst.update(dtrain, iteration=i, fobj=obj)\n",
      "/home/min/anaconda3/envs/BIO/lib/python3.10/site-packages/xgboost/training.py:183: UserWarning: [16:10:13] WARNING: /workspace/src/learner.cc:738: \n",
      "Parameters: { \"use_label_encoder\" } are not used.\n",
      "\n",
      "  bst.update(dtrain, iteration=i, fobj=obj)\n"
     ]
    },
    {
     "name": "stdout",
     "output_type": "stream",
     "text": [
      "[CV] END colsample_bytree=0.7, learning_rate=0.1, max_depth=3, n_estimators=100, subsample=0.9; total time=   2.1s\n",
      "[CV] END colsample_bytree=0.7, learning_rate=0.1, max_depth=3, n_estimators=100, subsample=0.9; total time=   2.1s\n"
     ]
    },
    {
     "name": "stderr",
     "output_type": "stream",
     "text": [
      "/home/min/anaconda3/envs/BIO/lib/python3.10/site-packages/xgboost/training.py:183: UserWarning: [16:10:13] WARNING: /workspace/src/learner.cc:738: \n",
      "Parameters: { \"use_label_encoder\" } are not used.\n",
      "\n",
      "  bst.update(dtrain, iteration=i, fobj=obj)\n"
     ]
    },
    {
     "name": "stdout",
     "output_type": "stream",
     "text": [
      "[CV] END colsample_bytree=0.7, learning_rate=0.1, max_depth=5, n_estimators=50, subsample=0.7; total time=   1.5s\n"
     ]
    },
    {
     "name": "stderr",
     "output_type": "stream",
     "text": [
      "/home/min/anaconda3/envs/BIO/lib/python3.10/site-packages/xgboost/training.py:183: UserWarning: [16:10:13] WARNING: /workspace/src/learner.cc:738: \n",
      "Parameters: { \"use_label_encoder\" } are not used.\n",
      "\n",
      "  bst.update(dtrain, iteration=i, fobj=obj)\n",
      "/home/min/anaconda3/envs/BIO/lib/python3.10/site-packages/xgboost/training.py:183: UserWarning: [16:10:14] WARNING: /workspace/src/learner.cc:738: \n",
      "Parameters: { \"use_label_encoder\" } are not used.\n",
      "\n",
      "  bst.update(dtrain, iteration=i, fobj=obj)\n"
     ]
    },
    {
     "name": "stdout",
     "output_type": "stream",
     "text": [
      "[CV] END colsample_bytree=0.7, learning_rate=0.1, max_depth=5, n_estimators=50, subsample=0.8; total time=   1.5s\n",
      "[CV] END colsample_bytree=0.7, learning_rate=0.1, max_depth=5, n_estimators=50, subsample=0.7; total time=   1.7s\n",
      "[CV] END colsample_bytree=0.7, learning_rate=0.1, max_depth=5, n_estimators=50, subsample=0.9; total time=   1.5s\n",
      "[CV] END colsample_bytree=0.7, learning_rate=0.1, max_depth=5, n_estimators=50, subsample=0.8; total time=   1.5s\n",
      "[CV] END colsample_bytree=0.7, learning_rate=0.1, max_depth=5, n_estimators=50, subsample=0.9; total time=   1.5s\n"
     ]
    },
    {
     "name": "stderr",
     "output_type": "stream",
     "text": [
      "/home/min/anaconda3/envs/BIO/lib/python3.10/site-packages/xgboost/training.py:183: UserWarning: [16:10:14] WARNING: /workspace/src/learner.cc:738: \n",
      "Parameters: { \"use_label_encoder\" } are not used.\n",
      "\n",
      "  bst.update(dtrain, iteration=i, fobj=obj)\n",
      "/home/min/anaconda3/envs/BIO/lib/python3.10/site-packages/xgboost/training.py:183: UserWarning: [16:10:14] WARNING: /workspace/src/learner.cc:738: \n",
      "Parameters: { \"use_label_encoder\" } are not used.\n",
      "\n",
      "  bst.update(dtrain, iteration=i, fobj=obj)\n",
      "/home/min/anaconda3/envs/BIO/lib/python3.10/site-packages/xgboost/training.py:183: UserWarning: [16:10:14] WARNING: /workspace/src/learner.cc:738: \n",
      "Parameters: { \"use_label_encoder\" } are not used.\n",
      "\n",
      "  bst.update(dtrain, iteration=i, fobj=obj)\n",
      "/home/min/anaconda3/envs/BIO/lib/python3.10/site-packages/xgboost/training.py:183: UserWarning: [16:10:14] WARNING: /workspace/src/learner.cc:738: \n",
      "Parameters: { \"use_label_encoder\" } are not used.\n",
      "\n",
      "  bst.update(dtrain, iteration=i, fobj=obj)\n",
      "/home/min/anaconda3/envs/BIO/lib/python3.10/site-packages/xgboost/training.py:183: UserWarning: [16:10:14] WARNING: /workspace/src/learner.cc:738: \n",
      "Parameters: { \"use_label_encoder\" } are not used.\n",
      "\n",
      "  bst.update(dtrain, iteration=i, fobj=obj)\n",
      "/home/min/anaconda3/envs/BIO/lib/python3.10/site-packages/xgboost/training.py:183: UserWarning: [16:10:14] WARNING: /workspace/src/learner.cc:738: \n",
      "Parameters: { \"use_label_encoder\" } are not used.\n",
      "\n",
      "  bst.update(dtrain, iteration=i, fobj=obj)\n"
     ]
    },
    {
     "name": "stdout",
     "output_type": "stream",
     "text": [
      "[CV] END colsample_bytree=0.7, learning_rate=0.1, max_depth=5, n_estimators=100, subsample=0.7; total time=   2.0s\n",
      "[CV] END colsample_bytree=0.7, learning_rate=0.1, max_depth=3, n_estimators=200, subsample=0.7; total time=   3.2s\n",
      "[CV] END colsample_bytree=0.7, learning_rate=0.1, max_depth=3, n_estimators=200, subsample=0.8; total time=   3.0s\n",
      "[CV] END colsample_bytree=0.7, learning_rate=0.1, max_depth=3, n_estimators=200, subsample=0.8; total time=   3.0s\n",
      "[CV] END colsample_bytree=0.7, learning_rate=0.1, max_depth=3, n_estimators=200, subsample=0.7; total time=   3.1s\n",
      "[CV] END colsample_bytree=0.7, learning_rate=0.1, max_depth=5, n_estimators=100, subsample=0.7; total time=   2.1s\n",
      "[CV] END colsample_bytree=0.7, learning_rate=0.1, max_depth=3, n_estimators=200, subsample=0.9; total time=   3.2s\n",
      "[CV] END colsample_bytree=0.7, learning_rate=0.1, max_depth=3, n_estimators=200, subsample=0.9; total time=   3.0s\n",
      "[CV] END colsample_bytree=0.7, learning_rate=0.1, max_depth=5, n_estimators=100, subsample=0.8; total time=   2.0s\n",
      "[CV] END colsample_bytree=0.7, learning_rate=0.1, max_depth=5, n_estimators=100, subsample=0.8; total time=   2.0s\n"
     ]
    },
    {
     "name": "stderr",
     "output_type": "stream",
     "text": [
      "/home/min/anaconda3/envs/BIO/lib/python3.10/site-packages/xgboost/training.py:183: UserWarning: [16:10:15] WARNING: /workspace/src/learner.cc:738: \n",
      "Parameters: { \"use_label_encoder\" } are not used.\n",
      "\n",
      "  bst.update(dtrain, iteration=i, fobj=obj)\n",
      "/home/min/anaconda3/envs/BIO/lib/python3.10/site-packages/xgboost/training.py:183: UserWarning: [16:10:15] WARNING: /workspace/src/learner.cc:738: \n",
      "Parameters: { \"use_label_encoder\" } are not used.\n",
      "\n",
      "  bst.update(dtrain, iteration=i, fobj=obj)\n",
      "/home/min/anaconda3/envs/BIO/lib/python3.10/site-packages/xgboost/training.py:183: UserWarning: [16:10:15] WARNING: /workspace/src/learner.cc:738: \n",
      "Parameters: { \"use_label_encoder\" } are not used.\n",
      "\n",
      "  bst.update(dtrain, iteration=i, fobj=obj)\n",
      "/home/min/anaconda3/envs/BIO/lib/python3.10/site-packages/xgboost/training.py:183: UserWarning: [16:10:15] WARNING: /workspace/src/learner.cc:738: \n",
      "Parameters: { \"use_label_encoder\" } are not used.\n",
      "\n",
      "  bst.update(dtrain, iteration=i, fobj=obj)\n",
      "/home/min/anaconda3/envs/BIO/lib/python3.10/site-packages/xgboost/training.py:183: UserWarning: [16:10:15] WARNING: /workspace/src/learner.cc:738: \n",
      "Parameters: { \"use_label_encoder\" } are not used.\n",
      "\n",
      "  bst.update(dtrain, iteration=i, fobj=obj)\n",
      "/home/min/anaconda3/envs/BIO/lib/python3.10/site-packages/xgboost/training.py:183: UserWarning: [16:10:15] WARNING: /workspace/src/learner.cc:738: \n",
      "Parameters: { \"use_label_encoder\" } are not used.\n",
      "\n",
      "  bst.update(dtrain, iteration=i, fobj=obj)\n",
      "/home/min/anaconda3/envs/BIO/lib/python3.10/site-packages/xgboost/training.py:183: UserWarning: [16:10:15] WARNING: /workspace/src/learner.cc:738: \n",
      "Parameters: { \"use_label_encoder\" } are not used.\n",
      "\n",
      "  bst.update(dtrain, iteration=i, fobj=obj)\n",
      "/home/min/anaconda3/envs/BIO/lib/python3.10/site-packages/xgboost/training.py:183: UserWarning: [16:10:15] WARNING: /workspace/src/learner.cc:738: \n",
      "Parameters: { \"use_label_encoder\" } are not used.\n",
      "\n",
      "  bst.update(dtrain, iteration=i, fobj=obj)\n"
     ]
    },
    {
     "name": "stdout",
     "output_type": "stream",
     "text": [
      "[CV] END colsample_bytree=0.7, learning_rate=0.1, max_depth=5, n_estimators=100, subsample=0.9; total time=   2.0s\n"
     ]
    },
    {
     "name": "stderr",
     "output_type": "stream",
     "text": [
      "/home/min/anaconda3/envs/BIO/lib/python3.10/site-packages/xgboost/training.py:183: UserWarning: [16:10:15] WARNING: /workspace/src/learner.cc:738: \n",
      "Parameters: { \"use_label_encoder\" } are not used.\n",
      "\n",
      "  bst.update(dtrain, iteration=i, fobj=obj)\n",
      "/home/min/anaconda3/envs/BIO/lib/python3.10/site-packages/xgboost/training.py:183: UserWarning: [16:10:16] WARNING: /workspace/src/learner.cc:738: \n",
      "Parameters: { \"use_label_encoder\" } are not used.\n",
      "\n",
      "  bst.update(dtrain, iteration=i, fobj=obj)\n"
     ]
    },
    {
     "name": "stdout",
     "output_type": "stream",
     "text": [
      "[CV] END colsample_bytree=0.7, learning_rate=0.1, max_depth=5, n_estimators=100, subsample=0.9; total time=   2.0s\n"
     ]
    },
    {
     "name": "stderr",
     "output_type": "stream",
     "text": [
      "/home/min/anaconda3/envs/BIO/lib/python3.10/site-packages/xgboost/training.py:183: UserWarning: [16:10:16] WARNING: /workspace/src/learner.cc:738: \n",
      "Parameters: { \"use_label_encoder\" } are not used.\n",
      "\n",
      "  bst.update(dtrain, iteration=i, fobj=obj)\n"
     ]
    },
    {
     "name": "stdout",
     "output_type": "stream",
     "text": [
      "[CV] END colsample_bytree=0.7, learning_rate=0.1, max_depth=7, n_estimators=50, subsample=0.8; total time=   1.5s\n",
      "[CV] END colsample_bytree=0.7, learning_rate=0.1, max_depth=7, n_estimators=50, subsample=0.7; total time=   1.5s\n",
      "[CV] END colsample_bytree=0.7, learning_rate=0.1, max_depth=7, n_estimators=50, subsample=0.7; total time=   1.6s\n",
      "[CV] END colsample_bytree=0.7, learning_rate=0.1, max_depth=7, n_estimators=50, subsample=0.8; total time=   1.5s\n",
      "[CV] END colsample_bytree=0.7, learning_rate=0.1, max_depth=7, n_estimators=50, subsample=0.9; total time=   1.5s\n",
      "[CV] END colsample_bytree=0.7, learning_rate=0.1, max_depth=7, n_estimators=50, subsample=0.9; total time=   1.5s\n"
     ]
    },
    {
     "name": "stderr",
     "output_type": "stream",
     "text": [
      "/home/min/anaconda3/envs/BIO/lib/python3.10/site-packages/xgboost/training.py:183: UserWarning: [16:10:16] WARNING: /workspace/src/learner.cc:738: \n",
      "Parameters: { \"use_label_encoder\" } are not used.\n",
      "\n",
      "  bst.update(dtrain, iteration=i, fobj=obj)\n",
      "/home/min/anaconda3/envs/BIO/lib/python3.10/site-packages/xgboost/training.py:183: UserWarning: [16:10:17] WARNING: /workspace/src/learner.cc:738: \n",
      "Parameters: { \"use_label_encoder\" } are not used.\n",
      "\n",
      "  bst.update(dtrain, iteration=i, fobj=obj)\n",
      "/home/min/anaconda3/envs/BIO/lib/python3.10/site-packages/xgboost/training.py:183: UserWarning: [16:10:17] WARNING: /workspace/src/learner.cc:738: \n",
      "Parameters: { \"use_label_encoder\" } are not used.\n",
      "\n",
      "  bst.update(dtrain, iteration=i, fobj=obj)\n",
      "/home/min/anaconda3/envs/BIO/lib/python3.10/site-packages/xgboost/training.py:183: UserWarning: [16:10:17] WARNING: /workspace/src/learner.cc:738: \n",
      "Parameters: { \"use_label_encoder\" } are not used.\n",
      "\n",
      "  bst.update(dtrain, iteration=i, fobj=obj)\n",
      "/home/min/anaconda3/envs/BIO/lib/python3.10/site-packages/xgboost/training.py:183: UserWarning: [16:10:17] WARNING: /workspace/src/learner.cc:738: \n",
      "Parameters: { \"use_label_encoder\" } are not used.\n",
      "\n",
      "  bst.update(dtrain, iteration=i, fobj=obj)\n"
     ]
    },
    {
     "name": "stdout",
     "output_type": "stream",
     "text": [
      "[CV] END colsample_bytree=0.7, learning_rate=0.1, max_depth=5, n_estimators=200, subsample=0.7; total time=   3.0s\n",
      "[CV] END colsample_bytree=0.7, learning_rate=0.1, max_depth=5, n_estimators=200, subsample=0.8; total time=   2.9s\n"
     ]
    },
    {
     "name": "stderr",
     "output_type": "stream",
     "text": [
      "/home/min/anaconda3/envs/BIO/lib/python3.10/site-packages/xgboost/training.py:183: UserWarning: [16:10:17] WARNING: /workspace/src/learner.cc:738: \n",
      "Parameters: { \"use_label_encoder\" } are not used.\n",
      "\n",
      "  bst.update(dtrain, iteration=i, fobj=obj)\n",
      "/home/min/anaconda3/envs/BIO/lib/python3.10/site-packages/xgboost/training.py:183: UserWarning: [16:10:17] WARNING: /workspace/src/learner.cc:738: \n",
      "Parameters: { \"use_label_encoder\" } are not used.\n",
      "\n",
      "  bst.update(dtrain, iteration=i, fobj=obj)\n"
     ]
    },
    {
     "name": "stdout",
     "output_type": "stream",
     "text": [
      "[CV] END colsample_bytree=0.7, learning_rate=0.1, max_depth=7, n_estimators=100, subsample=0.7; total time=   2.1s\n",
      "[CV] END colsample_bytree=0.7, learning_rate=0.1, max_depth=5, n_estimators=200, subsample=0.8; total time=   3.1s\n",
      "[CV] END colsample_bytree=0.7, learning_rate=0.1, max_depth=5, n_estimators=200, subsample=0.7; total time=   3.2s\n",
      "[CV] END colsample_bytree=0.7, learning_rate=0.1, max_depth=7, n_estimators=100, subsample=0.7; total time=   1.9s\n"
     ]
    },
    {
     "name": "stderr",
     "output_type": "stream",
     "text": [
      "/home/min/anaconda3/envs/BIO/lib/python3.10/site-packages/xgboost/training.py:183: UserWarning: [16:10:17] WARNING: /workspace/src/learner.cc:738: \n",
      "Parameters: { \"use_label_encoder\" } are not used.\n",
      "\n",
      "  bst.update(dtrain, iteration=i, fobj=obj)\n",
      "/home/min/anaconda3/envs/BIO/lib/python3.10/site-packages/xgboost/training.py:183: UserWarning: [16:10:17] WARNING: /workspace/src/learner.cc:738: \n",
      "Parameters: { \"use_label_encoder\" } are not used.\n",
      "\n",
      "  bst.update(dtrain, iteration=i, fobj=obj)\n"
     ]
    },
    {
     "name": "stdout",
     "output_type": "stream",
     "text": [
      "[CV] END colsample_bytree=0.7, learning_rate=0.1, max_depth=7, n_estimators=100, subsample=0.8; total time=   2.0s\n",
      "[CV] END colsample_bytree=0.7, learning_rate=0.1, max_depth=5, n_estimators=200, subsample=0.9; total time=   3.0s\n"
     ]
    },
    {
     "name": "stderr",
     "output_type": "stream",
     "text": [
      "/home/min/anaconda3/envs/BIO/lib/python3.10/site-packages/xgboost/training.py:183: UserWarning: [16:10:18] WARNING: /workspace/src/learner.cc:738: \n",
      "Parameters: { \"use_label_encoder\" } are not used.\n",
      "\n",
      "  bst.update(dtrain, iteration=i, fobj=obj)\n",
      "/home/min/anaconda3/envs/BIO/lib/python3.10/site-packages/xgboost/training.py:183: UserWarning: [16:10:18] WARNING: /workspace/src/learner.cc:738: \n",
      "Parameters: { \"use_label_encoder\" } are not used.\n",
      "\n",
      "  bst.update(dtrain, iteration=i, fobj=obj)\n",
      "/home/min/anaconda3/envs/BIO/lib/python3.10/site-packages/xgboost/training.py:183: UserWarning: [16:10:18] WARNING: /workspace/src/learner.cc:738: \n",
      "Parameters: { \"use_label_encoder\" } are not used.\n",
      "\n",
      "  bst.update(dtrain, iteration=i, fobj=obj)\n",
      "/home/min/anaconda3/envs/BIO/lib/python3.10/site-packages/xgboost/training.py:183: UserWarning: [16:10:18] WARNING: /workspace/src/learner.cc:738: \n",
      "Parameters: { \"use_label_encoder\" } are not used.\n",
      "\n",
      "  bst.update(dtrain, iteration=i, fobj=obj)\n"
     ]
    },
    {
     "name": "stdout",
     "output_type": "stream",
     "text": [
      "[CV] END colsample_bytree=0.7, learning_rate=0.1, max_depth=7, n_estimators=100, subsample=0.8; total time=   2.0s\n",
      "[CV] END colsample_bytree=0.7, learning_rate=0.1, max_depth=5, n_estimators=200, subsample=0.9; total time=   3.4s\n",
      "[CV] END colsample_bytree=0.7, learning_rate=0.1, max_depth=7, n_estimators=100, subsample=0.9; total time=   2.0s\n"
     ]
    },
    {
     "name": "stderr",
     "output_type": "stream",
     "text": [
      "/home/min/anaconda3/envs/BIO/lib/python3.10/site-packages/xgboost/training.py:183: UserWarning: [16:10:18] WARNING: /workspace/src/learner.cc:738: \n",
      "Parameters: { \"use_label_encoder\" } are not used.\n",
      "\n",
      "  bst.update(dtrain, iteration=i, fobj=obj)\n",
      "/home/min/anaconda3/envs/BIO/lib/python3.10/site-packages/xgboost/training.py:183: UserWarning: [16:10:18] WARNING: /workspace/src/learner.cc:738: \n",
      "Parameters: { \"use_label_encoder\" } are not used.\n",
      "\n",
      "  bst.update(dtrain, iteration=i, fobj=obj)\n"
     ]
    },
    {
     "name": "stdout",
     "output_type": "stream",
     "text": [
      "[CV] END colsample_bytree=0.7, learning_rate=0.1, max_depth=7, n_estimators=100, subsample=0.9; total time=   2.0s\n"
     ]
    },
    {
     "name": "stderr",
     "output_type": "stream",
     "text": [
      "/home/min/anaconda3/envs/BIO/lib/python3.10/site-packages/xgboost/training.py:183: UserWarning: [16:10:18] WARNING: /workspace/src/learner.cc:738: \n",
      "Parameters: { \"use_label_encoder\" } are not used.\n",
      "\n",
      "  bst.update(dtrain, iteration=i, fobj=obj)\n",
      "/home/min/anaconda3/envs/BIO/lib/python3.10/site-packages/xgboost/training.py:183: UserWarning: [16:10:18] WARNING: /workspace/src/learner.cc:738: \n",
      "Parameters: { \"use_label_encoder\" } are not used.\n",
      "\n",
      "  bst.update(dtrain, iteration=i, fobj=obj)\n",
      "/home/min/anaconda3/envs/BIO/lib/python3.10/site-packages/xgboost/training.py:183: UserWarning: [16:10:18] WARNING: /workspace/src/learner.cc:738: \n",
      "Parameters: { \"use_label_encoder\" } are not used.\n",
      "\n",
      "  bst.update(dtrain, iteration=i, fobj=obj)\n"
     ]
    },
    {
     "name": "stdout",
     "output_type": "stream",
     "text": [
      "[CV] END colsample_bytree=0.8, learning_rate=0.01, max_depth=3, n_estimators=50, subsample=0.7; total time=   1.4s\n",
      "[CV] END colsample_bytree=0.8, learning_rate=0.01, max_depth=3, n_estimators=50, subsample=0.8; total time=   1.5s\n",
      "[CV] END colsample_bytree=0.8, learning_rate=0.01, max_depth=3, n_estimators=50, subsample=0.7; total time=   1.5s\n",
      "[CV] END colsample_bytree=0.8, learning_rate=0.01, max_depth=3, n_estimators=50, subsample=0.8; total time=   1.5s\n"
     ]
    },
    {
     "name": "stderr",
     "output_type": "stream",
     "text": [
      "/home/min/anaconda3/envs/BIO/lib/python3.10/site-packages/xgboost/training.py:183: UserWarning: [16:10:19] WARNING: /workspace/src/learner.cc:738: \n",
      "Parameters: { \"use_label_encoder\" } are not used.\n",
      "\n",
      "  bst.update(dtrain, iteration=i, fobj=obj)\n"
     ]
    },
    {
     "name": "stdout",
     "output_type": "stream",
     "text": [
      "[CV] END colsample_bytree=0.8, learning_rate=0.01, max_depth=3, n_estimators=50, subsample=0.9; total time=   1.5s\n",
      "[CV] END colsample_bytree=0.8, learning_rate=0.01, max_depth=3, n_estimators=50, subsample=0.9; total time=   1.5s\n"
     ]
    },
    {
     "name": "stderr",
     "output_type": "stream",
     "text": [
      "/home/min/anaconda3/envs/BIO/lib/python3.10/site-packages/xgboost/training.py:183: UserWarning: [16:10:19] WARNING: /workspace/src/learner.cc:738: \n",
      "Parameters: { \"use_label_encoder\" } are not used.\n",
      "\n",
      "  bst.update(dtrain, iteration=i, fobj=obj)\n",
      "/home/min/anaconda3/envs/BIO/lib/python3.10/site-packages/xgboost/training.py:183: UserWarning: [16:10:19] WARNING: /workspace/src/learner.cc:738: \n",
      "Parameters: { \"use_label_encoder\" } are not used.\n",
      "\n",
      "  bst.update(dtrain, iteration=i, fobj=obj)\n",
      "/home/min/anaconda3/envs/BIO/lib/python3.10/site-packages/xgboost/training.py:183: UserWarning: [16:10:19] WARNING: /workspace/src/learner.cc:738: \n",
      "Parameters: { \"use_label_encoder\" } are not used.\n",
      "\n",
      "  bst.update(dtrain, iteration=i, fobj=obj)\n",
      "/home/min/anaconda3/envs/BIO/lib/python3.10/site-packages/xgboost/training.py:183: UserWarning: [16:10:19] WARNING: /workspace/src/learner.cc:738: \n",
      "Parameters: { \"use_label_encoder\" } are not used.\n",
      "\n",
      "  bst.update(dtrain, iteration=i, fobj=obj)\n"
     ]
    },
    {
     "name": "stdout",
     "output_type": "stream",
     "text": [
      "[CV] END colsample_bytree=0.7, learning_rate=0.1, max_depth=7, n_estimators=200, subsample=0.7; total time=   3.1s\n",
      "[CV] END colsample_bytree=0.7, learning_rate=0.1, max_depth=7, n_estimators=200, subsample=0.7; total time=   3.0s\n",
      "[CV] END colsample_bytree=0.7, learning_rate=0.1, max_depth=7, n_estimators=200, subsample=0.8; total time=   3.1s\n",
      "[CV] END colsample_bytree=0.7, learning_rate=0.1, max_depth=7, n_estimators=200, subsample=0.8; total time=   3.1s\n"
     ]
    },
    {
     "name": "stderr",
     "output_type": "stream",
     "text": [
      "/home/min/anaconda3/envs/BIO/lib/python3.10/site-packages/xgboost/training.py:183: UserWarning: [16:10:19] WARNING: /workspace/src/learner.cc:738: \n",
      "Parameters: { \"use_label_encoder\" } are not used.\n",
      "\n",
      "  bst.update(dtrain, iteration=i, fobj=obj)\n",
      "/home/min/anaconda3/envs/BIO/lib/python3.10/site-packages/xgboost/training.py:183: UserWarning: [16:10:19] WARNING: /workspace/src/learner.cc:738: \n",
      "Parameters: { \"use_label_encoder\" } are not used.\n",
      "\n",
      "  bst.update(dtrain, iteration=i, fobj=obj)\n",
      "/home/min/anaconda3/envs/BIO/lib/python3.10/site-packages/xgboost/training.py:183: UserWarning: [16:10:20] WARNING: /workspace/src/learner.cc:738: \n",
      "Parameters: { \"use_label_encoder\" } are not used.\n",
      "\n",
      "  bst.update(dtrain, iteration=i, fobj=obj)\n",
      "/home/min/anaconda3/envs/BIO/lib/python3.10/site-packages/xgboost/training.py:183: UserWarning: [16:10:20] WARNING: /workspace/src/learner.cc:738: \n",
      "Parameters: { \"use_label_encoder\" } are not used.\n",
      "\n",
      "  bst.update(dtrain, iteration=i, fobj=obj)\n"
     ]
    },
    {
     "name": "stdout",
     "output_type": "stream",
     "text": [
      "[CV] END colsample_bytree=0.7, learning_rate=0.1, max_depth=7, n_estimators=200, subsample=0.9; total time=   3.0s\n",
      "[CV] END colsample_bytree=0.8, learning_rate=0.01, max_depth=3, n_estimators=100, subsample=0.7; total time=   2.0s\n",
      "[CV] END colsample_bytree=0.7, learning_rate=0.1, max_depth=7, n_estimators=200, subsample=0.9; total time=   3.1s\n",
      "[CV] END colsample_bytree=0.8, learning_rate=0.01, max_depth=3, n_estimators=100, subsample=0.7; total time=   2.1s\n",
      "[CV] END colsample_bytree=0.8, learning_rate=0.01, max_depth=3, n_estimators=100, subsample=0.8; total time=   2.0s\n",
      "[CV] END colsample_bytree=0.8, learning_rate=0.01, max_depth=3, n_estimators=100, subsample=0.8; total time=   2.1s\n"
     ]
    },
    {
     "name": "stderr",
     "output_type": "stream",
     "text": [
      "/home/min/anaconda3/envs/BIO/lib/python3.10/site-packages/xgboost/training.py:183: UserWarning: [16:10:20] WARNING: /workspace/src/learner.cc:738: \n",
      "Parameters: { \"use_label_encoder\" } are not used.\n",
      "\n",
      "  bst.update(dtrain, iteration=i, fobj=obj)\n",
      "/home/min/anaconda3/envs/BIO/lib/python3.10/site-packages/xgboost/training.py:183: UserWarning: [16:10:20] WARNING: /workspace/src/learner.cc:738: \n",
      "Parameters: { \"use_label_encoder\" } are not used.\n",
      "\n",
      "  bst.update(dtrain, iteration=i, fobj=obj)\n",
      "/home/min/anaconda3/envs/BIO/lib/python3.10/site-packages/xgboost/training.py:183: UserWarning: [16:10:20] WARNING: /workspace/src/learner.cc:738: \n",
      "Parameters: { \"use_label_encoder\" } are not used.\n",
      "\n",
      "  bst.update(dtrain, iteration=i, fobj=obj)\n",
      "/home/min/anaconda3/envs/BIO/lib/python3.10/site-packages/xgboost/training.py:183: UserWarning: [16:10:20] WARNING: /workspace/src/learner.cc:738: \n",
      "Parameters: { \"use_label_encoder\" } are not used.\n",
      "\n",
      "  bst.update(dtrain, iteration=i, fobj=obj)\n",
      "/home/min/anaconda3/envs/BIO/lib/python3.10/site-packages/xgboost/training.py:183: UserWarning: [16:10:20] WARNING: /workspace/src/learner.cc:738: \n",
      "Parameters: { \"use_label_encoder\" } are not used.\n",
      "\n",
      "  bst.update(dtrain, iteration=i, fobj=obj)\n"
     ]
    },
    {
     "name": "stdout",
     "output_type": "stream",
     "text": [
      "[CV] END colsample_bytree=0.8, learning_rate=0.01, max_depth=3, n_estimators=100, subsample=0.9; total time=   2.1s\n",
      "[CV] END colsample_bytree=0.8, learning_rate=0.01, max_depth=3, n_estimators=100, subsample=0.9; total time=   2.1s\n"
     ]
    },
    {
     "name": "stderr",
     "output_type": "stream",
     "text": [
      "/home/min/anaconda3/envs/BIO/lib/python3.10/site-packages/xgboost/training.py:183: UserWarning: [16:10:21] WARNING: /workspace/src/learner.cc:738: \n",
      "Parameters: { \"use_label_encoder\" } are not used.\n",
      "\n",
      "  bst.update(dtrain, iteration=i, fobj=obj)\n",
      "/home/min/anaconda3/envs/BIO/lib/python3.10/site-packages/xgboost/training.py:183: UserWarning: [16:10:21] WARNING: /workspace/src/learner.cc:738: \n",
      "Parameters: { \"use_label_encoder\" } are not used.\n",
      "\n",
      "  bst.update(dtrain, iteration=i, fobj=obj)\n",
      "/home/min/anaconda3/envs/BIO/lib/python3.10/site-packages/xgboost/training.py:183: UserWarning: [16:10:21] WARNING: /workspace/src/learner.cc:738: \n",
      "Parameters: { \"use_label_encoder\" } are not used.\n",
      "\n",
      "  bst.update(dtrain, iteration=i, fobj=obj)\n"
     ]
    },
    {
     "name": "stdout",
     "output_type": "stream",
     "text": [
      "[CV] END colsample_bytree=0.8, learning_rate=0.01, max_depth=5, n_estimators=50, subsample=0.7; total time=   1.5s\n",
      "[CV] END colsample_bytree=0.8, learning_rate=0.01, max_depth=5, n_estimators=50, subsample=0.7; total time=   1.5s\n"
     ]
    },
    {
     "name": "stderr",
     "output_type": "stream",
     "text": [
      "/home/min/anaconda3/envs/BIO/lib/python3.10/site-packages/xgboost/training.py:183: UserWarning: [16:10:21] WARNING: /workspace/src/learner.cc:738: \n",
      "Parameters: { \"use_label_encoder\" } are not used.\n",
      "\n",
      "  bst.update(dtrain, iteration=i, fobj=obj)\n",
      "/home/min/anaconda3/envs/BIO/lib/python3.10/site-packages/xgboost/training.py:183: UserWarning: [16:10:21] WARNING: /workspace/src/learner.cc:738: \n",
      "Parameters: { \"use_label_encoder\" } are not used.\n",
      "\n",
      "  bst.update(dtrain, iteration=i, fobj=obj)\n"
     ]
    },
    {
     "name": "stdout",
     "output_type": "stream",
     "text": [
      "[CV] END colsample_bytree=0.8, learning_rate=0.01, max_depth=5, n_estimators=50, subsample=0.8; total time=   1.6s\n",
      "[CV] END colsample_bytree=0.8, learning_rate=0.01, max_depth=5, n_estimators=50, subsample=0.9; total time=   1.6s\n",
      "[CV] END colsample_bytree=0.8, learning_rate=0.01, max_depth=5, n_estimators=50, subsample=0.9; total time=   1.6s\n",
      "[CV] END colsample_bytree=0.8, learning_rate=0.01, max_depth=5, n_estimators=50, subsample=0.8; total time=   1.8s\n"
     ]
    },
    {
     "name": "stderr",
     "output_type": "stream",
     "text": [
      "/home/min/anaconda3/envs/BIO/lib/python3.10/site-packages/xgboost/training.py:183: UserWarning: [16:10:21] WARNING: /workspace/src/learner.cc:738: \n",
      "Parameters: { \"use_label_encoder\" } are not used.\n",
      "\n",
      "  bst.update(dtrain, iteration=i, fobj=obj)\n",
      "/home/min/anaconda3/envs/BIO/lib/python3.10/site-packages/xgboost/training.py:183: UserWarning: [16:10:22] WARNING: /workspace/src/learner.cc:738: \n",
      "Parameters: { \"use_label_encoder\" } are not used.\n",
      "\n",
      "  bst.update(dtrain, iteration=i, fobj=obj)\n"
     ]
    },
    {
     "name": "stdout",
     "output_type": "stream",
     "text": [
      "[CV] END colsample_bytree=0.8, learning_rate=0.01, max_depth=3, n_estimators=200, subsample=0.7; total time=   3.1s\n",
      "[CV] END colsample_bytree=0.8, learning_rate=0.01, max_depth=3, n_estimators=200, subsample=0.7; total time=   3.2s\n",
      "[CV] END colsample_bytree=0.8, learning_rate=0.01, max_depth=3, n_estimators=200, subsample=0.8; total time=   3.0s\n"
     ]
    },
    {
     "name": "stderr",
     "output_type": "stream",
     "text": [
      "/home/min/anaconda3/envs/BIO/lib/python3.10/site-packages/xgboost/training.py:183: UserWarning: [16:10:22] WARNING: /workspace/src/learner.cc:738: \n",
      "Parameters: { \"use_label_encoder\" } are not used.\n",
      "\n",
      "  bst.update(dtrain, iteration=i, fobj=obj)\n",
      "/home/min/anaconda3/envs/BIO/lib/python3.10/site-packages/xgboost/training.py:183: UserWarning: [16:10:22] WARNING: /workspace/src/learner.cc:738: \n",
      "Parameters: { \"use_label_encoder\" } are not used.\n",
      "\n",
      "  bst.update(dtrain, iteration=i, fobj=obj)\n",
      "/home/min/anaconda3/envs/BIO/lib/python3.10/site-packages/xgboost/training.py:183: UserWarning: [16:10:22] WARNING: /workspace/src/learner.cc:738: \n",
      "Parameters: { \"use_label_encoder\" } are not used.\n",
      "\n",
      "  bst.update(dtrain, iteration=i, fobj=obj)\n",
      "/home/min/anaconda3/envs/BIO/lib/python3.10/site-packages/xgboost/training.py:183: UserWarning: [16:10:22] WARNING: /workspace/src/learner.cc:738: \n",
      "Parameters: { \"use_label_encoder\" } are not used.\n",
      "\n",
      "  bst.update(dtrain, iteration=i, fobj=obj)\n"
     ]
    },
    {
     "name": "stdout",
     "output_type": "stream",
     "text": [
      "[CV] END colsample_bytree=0.8, learning_rate=0.01, max_depth=3, n_estimators=200, subsample=0.9; total time=   2.9s\n",
      "[CV] END colsample_bytree=0.8, learning_rate=0.01, max_depth=3, n_estimators=200, subsample=0.8; total time=   3.2s\n",
      "[CV] END colsample_bytree=0.8, learning_rate=0.01, max_depth=5, n_estimators=100, subsample=0.7; total time=   2.1s\n",
      "[CV] END colsample_bytree=0.8, learning_rate=0.01, max_depth=5, n_estimators=100, subsample=0.7; total time=   2.2s\n",
      "[CV] END colsample_bytree=0.8, learning_rate=0.01, max_depth=3, n_estimators=200, subsample=0.9; total time=   3.0s\n"
     ]
    },
    {
     "name": "stderr",
     "output_type": "stream",
     "text": [
      "/home/min/anaconda3/envs/BIO/lib/python3.10/site-packages/xgboost/training.py:183: UserWarning: [16:10:22] WARNING: /workspace/src/learner.cc:738: \n",
      "Parameters: { \"use_label_encoder\" } are not used.\n",
      "\n",
      "  bst.update(dtrain, iteration=i, fobj=obj)\n",
      "/home/min/anaconda3/envs/BIO/lib/python3.10/site-packages/xgboost/training.py:183: UserWarning: [16:10:22] WARNING: /workspace/src/learner.cc:738: \n",
      "Parameters: { \"use_label_encoder\" } are not used.\n",
      "\n",
      "  bst.update(dtrain, iteration=i, fobj=obj)\n",
      "/home/min/anaconda3/envs/BIO/lib/python3.10/site-packages/xgboost/training.py:183: UserWarning: [16:10:22] WARNING: /workspace/src/learner.cc:738: \n",
      "Parameters: { \"use_label_encoder\" } are not used.\n",
      "\n",
      "  bst.update(dtrain, iteration=i, fobj=obj)\n"
     ]
    },
    {
     "name": "stdout",
     "output_type": "stream",
     "text": [
      "[CV] END colsample_bytree=0.8, learning_rate=0.01, max_depth=5, n_estimators=100, subsample=0.8; total time=   2.1s\n",
      "[CV] END colsample_bytree=0.8, learning_rate=0.01, max_depth=5, n_estimators=100, subsample=0.8; total time=   2.0s\n"
     ]
    },
    {
     "name": "stderr",
     "output_type": "stream",
     "text": [
      "/home/min/anaconda3/envs/BIO/lib/python3.10/site-packages/xgboost/training.py:183: UserWarning: [16:10:23] WARNING: /workspace/src/learner.cc:738: \n",
      "Parameters: { \"use_label_encoder\" } are not used.\n",
      "\n",
      "  bst.update(dtrain, iteration=i, fobj=obj)\n",
      "/home/min/anaconda3/envs/BIO/lib/python3.10/site-packages/xgboost/training.py:183: UserWarning: [16:10:23] WARNING: /workspace/src/learner.cc:738: \n",
      "Parameters: { \"use_label_encoder\" } are not used.\n",
      "\n",
      "  bst.update(dtrain, iteration=i, fobj=obj)\n",
      "/home/min/anaconda3/envs/BIO/lib/python3.10/site-packages/xgboost/training.py:183: UserWarning: [16:10:23] WARNING: /workspace/src/learner.cc:738: \n",
      "Parameters: { \"use_label_encoder\" } are not used.\n",
      "\n",
      "  bst.update(dtrain, iteration=i, fobj=obj)\n",
      "/home/min/anaconda3/envs/BIO/lib/python3.10/site-packages/xgboost/training.py:183: UserWarning: [16:10:23] WARNING: /workspace/src/learner.cc:738: \n",
      "Parameters: { \"use_label_encoder\" } are not used.\n",
      "\n",
      "  bst.update(dtrain, iteration=i, fobj=obj)\n"
     ]
    },
    {
     "name": "stdout",
     "output_type": "stream",
     "text": [
      "[CV] END colsample_bytree=0.8, learning_rate=0.01, max_depth=5, n_estimators=100, subsample=0.9; total time=   2.0s\n",
      "[CV] END colsample_bytree=0.8, learning_rate=0.01, max_depth=5, n_estimators=100, subsample=0.9; total time=   2.0s\n"
     ]
    },
    {
     "name": "stderr",
     "output_type": "stream",
     "text": [
      "/home/min/anaconda3/envs/BIO/lib/python3.10/site-packages/xgboost/training.py:183: UserWarning: [16:10:23] WARNING: /workspace/src/learner.cc:738: \n",
      "Parameters: { \"use_label_encoder\" } are not used.\n",
      "\n",
      "  bst.update(dtrain, iteration=i, fobj=obj)\n",
      "/home/min/anaconda3/envs/BIO/lib/python3.10/site-packages/xgboost/training.py:183: UserWarning: [16:10:23] WARNING: /workspace/src/learner.cc:738: \n",
      "Parameters: { \"use_label_encoder\" } are not used.\n",
      "\n",
      "  bst.update(dtrain, iteration=i, fobj=obj)\n",
      "/home/min/anaconda3/envs/BIO/lib/python3.10/site-packages/xgboost/training.py:183: UserWarning: [16:10:23] WARNING: /workspace/src/learner.cc:738: \n",
      "Parameters: { \"use_label_encoder\" } are not used.\n",
      "\n",
      "  bst.update(dtrain, iteration=i, fobj=obj)\n"
     ]
    },
    {
     "name": "stdout",
     "output_type": "stream",
     "text": [
      "[CV] END colsample_bytree=0.8, learning_rate=0.01, max_depth=7, n_estimators=50, subsample=0.7; total time=   1.5s\n",
      "[CV] END colsample_bytree=0.8, learning_rate=0.01, max_depth=7, n_estimators=50, subsample=0.7; total time=   1.5s\n",
      "[CV] END colsample_bytree=0.8, learning_rate=0.01, max_depth=7, n_estimators=50, subsample=0.8; total time=   1.5s\n"
     ]
    },
    {
     "name": "stderr",
     "output_type": "stream",
     "text": [
      "/home/min/anaconda3/envs/BIO/lib/python3.10/site-packages/xgboost/training.py:183: UserWarning: [16:10:23] WARNING: /workspace/src/learner.cc:738: \n",
      "Parameters: { \"use_label_encoder\" } are not used.\n",
      "\n",
      "  bst.update(dtrain, iteration=i, fobj=obj)\n",
      "/home/min/anaconda3/envs/BIO/lib/python3.10/site-packages/xgboost/training.py:183: UserWarning: [16:10:23] WARNING: /workspace/src/learner.cc:738: \n",
      "Parameters: { \"use_label_encoder\" } are not used.\n",
      "\n",
      "  bst.update(dtrain, iteration=i, fobj=obj)\n"
     ]
    },
    {
     "name": "stdout",
     "output_type": "stream",
     "text": [
      "[CV] END colsample_bytree=0.8, learning_rate=0.01, max_depth=7, n_estimators=50, subsample=0.8; total time=   1.5s\n",
      "[CV] END colsample_bytree=0.8, learning_rate=0.01, max_depth=7, n_estimators=50, subsample=0.9; total time=   1.6s\n",
      "[CV] END colsample_bytree=0.8, learning_rate=0.01, max_depth=7, n_estimators=50, subsample=0.9; total time=   1.6s\n"
     ]
    },
    {
     "name": "stderr",
     "output_type": "stream",
     "text": [
      "/home/min/anaconda3/envs/BIO/lib/python3.10/site-packages/xgboost/training.py:183: UserWarning: [16:10:24] WARNING: /workspace/src/learner.cc:738: \n",
      "Parameters: { \"use_label_encoder\" } are not used.\n",
      "\n",
      "  bst.update(dtrain, iteration=i, fobj=obj)\n",
      "/home/min/anaconda3/envs/BIO/lib/python3.10/site-packages/xgboost/training.py:183: UserWarning: [16:10:24] WARNING: /workspace/src/learner.cc:738: \n",
      "Parameters: { \"use_label_encoder\" } are not used.\n",
      "\n",
      "  bst.update(dtrain, iteration=i, fobj=obj)\n",
      "/home/min/anaconda3/envs/BIO/lib/python3.10/site-packages/xgboost/training.py:183: UserWarning: [16:10:24] WARNING: /workspace/src/learner.cc:738: \n",
      "Parameters: { \"use_label_encoder\" } are not used.\n",
      "\n",
      "  bst.update(dtrain, iteration=i, fobj=obj)\n",
      "/home/min/anaconda3/envs/BIO/lib/python3.10/site-packages/xgboost/training.py:183: UserWarning: [16:10:24] WARNING: /workspace/src/learner.cc:738: \n",
      "Parameters: { \"use_label_encoder\" } are not used.\n",
      "\n",
      "  bst.update(dtrain, iteration=i, fobj=obj)\n",
      "/home/min/anaconda3/envs/BIO/lib/python3.10/site-packages/xgboost/training.py:183: UserWarning: [16:10:24] WARNING: /workspace/src/learner.cc:738: \n",
      "Parameters: { \"use_label_encoder\" } are not used.\n",
      "\n",
      "  bst.update(dtrain, iteration=i, fobj=obj)\n",
      "/home/min/anaconda3/envs/BIO/lib/python3.10/site-packages/xgboost/training.py:183: UserWarning: [16:10:24] WARNING: /workspace/src/learner.cc:738: \n",
      "Parameters: { \"use_label_encoder\" } are not used.\n",
      "\n",
      "  bst.update(dtrain, iteration=i, fobj=obj)\n"
     ]
    },
    {
     "name": "stdout",
     "output_type": "stream",
     "text": [
      "[CV] END colsample_bytree=0.8, learning_rate=0.01, max_depth=5, n_estimators=200, subsample=0.8; total time=   3.1s\n",
      "[CV] END colsample_bytree=0.8, learning_rate=0.01, max_depth=5, n_estimators=200, subsample=0.8; total time=   3.1s\n",
      "[CV] END colsample_bytree=0.8, learning_rate=0.01, max_depth=5, n_estimators=200, subsample=0.9; total time=   3.0s\n",
      "[CV] END colsample_bytree=0.8, learning_rate=0.01, max_depth=7, n_estimators=100, subsample=0.7; total time=   2.1s\n",
      "[CV] END colsample_bytree=0.8, learning_rate=0.01, max_depth=5, n_estimators=200, subsample=0.7; total time=   3.3s\n",
      "[CV] END colsample_bytree=0.8, learning_rate=0.01, max_depth=7, n_estimators=100, subsample=0.7; total time=   2.0s\n",
      "[CV] END colsample_bytree=0.8, learning_rate=0.01, max_depth=5, n_estimators=200, subsample=0.7; total time=   3.3s\n",
      "[CV] END colsample_bytree=0.8, learning_rate=0.01, max_depth=5, n_estimators=200, subsample=0.9; total time=   3.1s\n",
      "[CV] END colsample_bytree=0.8, learning_rate=0.01, max_depth=7, n_estimators=100, subsample=0.8; total time=   2.0s\n",
      "[CV] END colsample_bytree=0.8, learning_rate=0.01, max_depth=7, n_estimators=100, subsample=0.8; total time=   2.1s\n"
     ]
    },
    {
     "name": "stderr",
     "output_type": "stream",
     "text": [
      "/home/min/anaconda3/envs/BIO/lib/python3.10/site-packages/xgboost/training.py:183: UserWarning: [16:10:25] WARNING: /workspace/src/learner.cc:738: \n",
      "Parameters: { \"use_label_encoder\" } are not used.\n",
      "\n",
      "  bst.update(dtrain, iteration=i, fobj=obj)\n",
      "/home/min/anaconda3/envs/BIO/lib/python3.10/site-packages/xgboost/training.py:183: UserWarning: [16:10:25] WARNING: /workspace/src/learner.cc:738: \n",
      "Parameters: { \"use_label_encoder\" } are not used.\n",
      "\n",
      "  bst.update(dtrain, iteration=i, fobj=obj)\n",
      "/home/min/anaconda3/envs/BIO/lib/python3.10/site-packages/xgboost/training.py:183: UserWarning: [16:10:25] WARNING: /workspace/src/learner.cc:738: \n",
      "Parameters: { \"use_label_encoder\" } are not used.\n",
      "\n",
      "  bst.update(dtrain, iteration=i, fobj=obj)\n",
      "/home/min/anaconda3/envs/BIO/lib/python3.10/site-packages/xgboost/training.py:183: UserWarning: [16:10:25] WARNING: /workspace/src/learner.cc:738: \n",
      "Parameters: { \"use_label_encoder\" } are not used.\n",
      "\n",
      "  bst.update(dtrain, iteration=i, fobj=obj)\n",
      "/home/min/anaconda3/envs/BIO/lib/python3.10/site-packages/xgboost/training.py:183: UserWarning: [16:10:25] WARNING: /workspace/src/learner.cc:738: \n",
      "Parameters: { \"use_label_encoder\" } are not used.\n",
      "\n",
      "  bst.update(dtrain, iteration=i, fobj=obj)\n",
      "/home/min/anaconda3/envs/BIO/lib/python3.10/site-packages/xgboost/training.py:183: UserWarning: [16:10:25] WARNING: /workspace/src/learner.cc:738: \n",
      "Parameters: { \"use_label_encoder\" } are not used.\n",
      "\n",
      "  bst.update(dtrain, iteration=i, fobj=obj)\n",
      "/home/min/anaconda3/envs/BIO/lib/python3.10/site-packages/xgboost/training.py:183: UserWarning: [16:10:25] WARNING: /workspace/src/learner.cc:738: \n",
      "Parameters: { \"use_label_encoder\" } are not used.\n",
      "\n",
      "  bst.update(dtrain, iteration=i, fobj=obj)\n",
      "/home/min/anaconda3/envs/BIO/lib/python3.10/site-packages/xgboost/training.py:183: UserWarning: [16:10:25] WARNING: /workspace/src/learner.cc:738: \n",
      "Parameters: { \"use_label_encoder\" } are not used.\n",
      "\n",
      "  bst.update(dtrain, iteration=i, fobj=obj)\n"
     ]
    },
    {
     "name": "stdout",
     "output_type": "stream",
     "text": [
      "[CV] END colsample_bytree=0.8, learning_rate=0.01, max_depth=7, n_estimators=100, subsample=0.9; total time=   2.0s\n",
      "[CV] END colsample_bytree=0.8, learning_rate=0.01, max_depth=7, n_estimators=100, subsample=0.9; total time=   2.0s\n"
     ]
    },
    {
     "name": "stderr",
     "output_type": "stream",
     "text": [
      "/home/min/anaconda3/envs/BIO/lib/python3.10/site-packages/xgboost/training.py:183: UserWarning: [16:10:26] WARNING: /workspace/src/learner.cc:738: \n",
      "Parameters: { \"use_label_encoder\" } are not used.\n",
      "\n",
      "  bst.update(dtrain, iteration=i, fobj=obj)\n",
      "/home/min/anaconda3/envs/BIO/lib/python3.10/site-packages/xgboost/training.py:183: UserWarning: [16:10:26] WARNING: /workspace/src/learner.cc:738: \n",
      "Parameters: { \"use_label_encoder\" } are not used.\n",
      "\n",
      "  bst.update(dtrain, iteration=i, fobj=obj)\n",
      "/home/min/anaconda3/envs/BIO/lib/python3.10/site-packages/xgboost/training.py:183: UserWarning: [16:10:26] WARNING: /workspace/src/learner.cc:738: \n",
      "Parameters: { \"use_label_encoder\" } are not used.\n",
      "\n",
      "  bst.update(dtrain, iteration=i, fobj=obj)\n",
      "/home/min/anaconda3/envs/BIO/lib/python3.10/site-packages/xgboost/training.py:183: UserWarning: [16:10:26] WARNING: /workspace/src/learner.cc:738: \n",
      "Parameters: { \"use_label_encoder\" } are not used.\n",
      "\n",
      "  bst.update(dtrain, iteration=i, fobj=obj)\n"
     ]
    },
    {
     "name": "stdout",
     "output_type": "stream",
     "text": [
      "[CV] END colsample_bytree=0.8, learning_rate=0.05, max_depth=3, n_estimators=50, subsample=0.8; total time=   1.5s\n",
      "[CV] END colsample_bytree=0.8, learning_rate=0.05, max_depth=3, n_estimators=50, subsample=0.7; total time=   1.5s\n",
      "[CV] END colsample_bytree=0.8, learning_rate=0.05, max_depth=3, n_estimators=50, subsample=0.7; total time=   1.6s\n",
      "[CV] END colsample_bytree=0.8, learning_rate=0.05, max_depth=3, n_estimators=50, subsample=0.9; total time=   1.6s[CV] END colsample_bytree=0.8, learning_rate=0.05, max_depth=3, n_estimators=50, subsample=0.9; total time=   1.6s\n",
      "\n",
      "[CV] END colsample_bytree=0.8, learning_rate=0.05, max_depth=3, n_estimators=50, subsample=0.8; total time=   1.7s\n",
      "[CV] END colsample_bytree=0.8, learning_rate=0.01, max_depth=7, n_estimators=200, subsample=0.7; total time=   3.1s\n",
      "[CV] END colsample_bytree=0.8, learning_rate=0.01, max_depth=7, n_estimators=200, subsample=0.8; total time=   3.0s\n",
      "[CV] END colsample_bytree=0.8, learning_rate=0.01, max_depth=7, n_estimators=200, subsample=0.7; total time=   3.1s\n",
      "[CV] END colsample_bytree=0.8, learning_rate=0.01, max_depth=7, n_estimators=200, subsample=0.8; total time=   3.0s\n"
     ]
    },
    {
     "name": "stderr",
     "output_type": "stream",
     "text": [
      "/home/min/anaconda3/envs/BIO/lib/python3.10/site-packages/xgboost/training.py:183: UserWarning: [16:10:27] WARNING: /workspace/src/learner.cc:738: \n",
      "Parameters: { \"use_label_encoder\" } are not used.\n",
      "\n",
      "  bst.update(dtrain, iteration=i, fobj=obj)\n",
      "/home/min/anaconda3/envs/BIO/lib/python3.10/site-packages/xgboost/training.py:183: UserWarning: [16:10:27] WARNING: /workspace/src/learner.cc:738: \n",
      "Parameters: { \"use_label_encoder\" } are not used.\n",
      "\n",
      "  bst.update(dtrain, iteration=i, fobj=obj)\n",
      "/home/min/anaconda3/envs/BIO/lib/python3.10/site-packages/xgboost/training.py:183: UserWarning: [16:10:27] WARNING: /workspace/src/learner.cc:738: \n",
      "Parameters: { \"use_label_encoder\" } are not used.\n",
      "\n",
      "  bst.update(dtrain, iteration=i, fobj=obj)\n",
      "/home/min/anaconda3/envs/BIO/lib/python3.10/site-packages/xgboost/training.py:183: UserWarning: [16:10:27] WARNING: /workspace/src/learner.cc:738: \n",
      "Parameters: { \"use_label_encoder\" } are not used.\n",
      "\n",
      "  bst.update(dtrain, iteration=i, fobj=obj)\n",
      "/home/min/anaconda3/envs/BIO/lib/python3.10/site-packages/xgboost/training.py:183: UserWarning: [16:10:27] WARNING: /workspace/src/learner.cc:738: \n",
      "Parameters: { \"use_label_encoder\" } are not used.\n",
      "\n",
      "  bst.update(dtrain, iteration=i, fobj=obj)\n",
      "/home/min/anaconda3/envs/BIO/lib/python3.10/site-packages/xgboost/training.py:183: UserWarning: [16:10:27] WARNING: /workspace/src/learner.cc:738: \n",
      "Parameters: { \"use_label_encoder\" } are not used.\n",
      "\n",
      "  bst.update(dtrain, iteration=i, fobj=obj)\n"
     ]
    },
    {
     "name": "stdout",
     "output_type": "stream",
     "text": [
      "[CV] END colsample_bytree=0.8, learning_rate=0.05, max_depth=3, n_estimators=100, subsample=0.7; total time=   2.1s\n",
      "[CV] END colsample_bytree=0.8, learning_rate=0.05, max_depth=3, n_estimators=100, subsample=0.7; total time=   2.1s\n"
     ]
    },
    {
     "name": "stderr",
     "output_type": "stream",
     "text": [
      "/home/min/anaconda3/envs/BIO/lib/python3.10/site-packages/xgboost/training.py:183: UserWarning: [16:10:27] WARNING: /workspace/src/learner.cc:738: \n",
      "Parameters: { \"use_label_encoder\" } are not used.\n",
      "\n",
      "  bst.update(dtrain, iteration=i, fobj=obj)\n",
      "/home/min/anaconda3/envs/BIO/lib/python3.10/site-packages/xgboost/training.py:183: UserWarning: [16:10:27] WARNING: /workspace/src/learner.cc:738: \n",
      "Parameters: { \"use_label_encoder\" } are not used.\n",
      "\n",
      "  bst.update(dtrain, iteration=i, fobj=obj)\n",
      "/home/min/anaconda3/envs/BIO/lib/python3.10/site-packages/xgboost/training.py:183: UserWarning: [16:10:27] WARNING: /workspace/src/learner.cc:738: \n",
      "Parameters: { \"use_label_encoder\" } are not used.\n",
      "\n",
      "  bst.update(dtrain, iteration=i, fobj=obj)\n",
      "/home/min/anaconda3/envs/BIO/lib/python3.10/site-packages/xgboost/training.py:183: UserWarning: [16:10:27] WARNING: /workspace/src/learner.cc:738: \n",
      "Parameters: { \"use_label_encoder\" } are not used.\n",
      "\n",
      "  bst.update(dtrain, iteration=i, fobj=obj)\n"
     ]
    },
    {
     "name": "stdout",
     "output_type": "stream",
     "text": [
      "[CV] END colsample_bytree=0.8, learning_rate=0.05, max_depth=3, n_estimators=100, subsample=0.8; total time=   1.9s\n",
      "[CV] END colsample_bytree=0.8, learning_rate=0.05, max_depth=3, n_estimators=100, subsample=0.8; total time=   1.9s\n",
      "[CV] END colsample_bytree=0.8, learning_rate=0.01, max_depth=7, n_estimators=200, subsample=0.9; total time=   3.0s\n",
      "[CV] END colsample_bytree=0.8, learning_rate=0.01, max_depth=7, n_estimators=200, subsample=0.9; total time=   3.0s\n"
     ]
    },
    {
     "name": "stderr",
     "output_type": "stream",
     "text": [
      "/home/min/anaconda3/envs/BIO/lib/python3.10/site-packages/xgboost/training.py:183: UserWarning: [16:10:28] WARNING: /workspace/src/learner.cc:738: \n",
      "Parameters: { \"use_label_encoder\" } are not used.\n",
      "\n",
      "  bst.update(dtrain, iteration=i, fobj=obj)\n",
      "/home/min/anaconda3/envs/BIO/lib/python3.10/site-packages/xgboost/training.py:183: UserWarning: [16:10:28] WARNING: /workspace/src/learner.cc:738: \n",
      "Parameters: { \"use_label_encoder\" } are not used.\n",
      "\n",
      "  bst.update(dtrain, iteration=i, fobj=obj)\n",
      "/home/min/anaconda3/envs/BIO/lib/python3.10/site-packages/xgboost/training.py:183: UserWarning: [16:10:28] WARNING: /workspace/src/learner.cc:738: \n",
      "Parameters: { \"use_label_encoder\" } are not used.\n",
      "\n",
      "  bst.update(dtrain, iteration=i, fobj=obj)\n",
      "/home/min/anaconda3/envs/BIO/lib/python3.10/site-packages/xgboost/training.py:183: UserWarning: [16:10:28] WARNING: /workspace/src/learner.cc:738: \n",
      "Parameters: { \"use_label_encoder\" } are not used.\n",
      "\n",
      "  bst.update(dtrain, iteration=i, fobj=obj)\n"
     ]
    },
    {
     "name": "stdout",
     "output_type": "stream",
     "text": [
      "[CV] END colsample_bytree=0.8, learning_rate=0.05, max_depth=3, n_estimators=100, subsample=0.9; total time=   2.0s\n",
      "[CV] END colsample_bytree=0.8, learning_rate=0.05, max_depth=3, n_estimators=100, subsample=0.9; total time=   2.0s\n",
      "[CV] END colsample_bytree=0.8, learning_rate=0.05, max_depth=5, n_estimators=50, subsample=0.7; total time=   1.5s\n",
      "[CV] END colsample_bytree=0.8, learning_rate=0.05, max_depth=5, n_estimators=50, subsample=0.7; total time=   1.5s\n"
     ]
    },
    {
     "name": "stderr",
     "output_type": "stream",
     "text": [
      "/home/min/anaconda3/envs/BIO/lib/python3.10/site-packages/xgboost/training.py:183: UserWarning: [16:10:28] WARNING: /workspace/src/learner.cc:738: \n",
      "Parameters: { \"use_label_encoder\" } are not used.\n",
      "\n",
      "  bst.update(dtrain, iteration=i, fobj=obj)\n",
      "/home/min/anaconda3/envs/BIO/lib/python3.10/site-packages/xgboost/training.py:183: UserWarning: [16:10:28] WARNING: /workspace/src/learner.cc:738: \n",
      "Parameters: { \"use_label_encoder\" } are not used.\n",
      "\n",
      "  bst.update(dtrain, iteration=i, fobj=obj)\n"
     ]
    },
    {
     "name": "stdout",
     "output_type": "stream",
     "text": [
      "[CV] END colsample_bytree=0.8, learning_rate=0.05, max_depth=5, n_estimators=50, subsample=0.8; total time=   1.5s\n",
      "[CV] END colsample_bytree=0.8, learning_rate=0.05, max_depth=5, n_estimators=50, subsample=0.8; total time=   1.7s\n"
     ]
    },
    {
     "name": "stderr",
     "output_type": "stream",
     "text": [
      "/home/min/anaconda3/envs/BIO/lib/python3.10/site-packages/xgboost/training.py:183: UserWarning: [16:10:29] WARNING: /workspace/src/learner.cc:738: \n",
      "Parameters: { \"use_label_encoder\" } are not used.\n",
      "\n",
      "  bst.update(dtrain, iteration=i, fobj=obj)\n",
      "/home/min/anaconda3/envs/BIO/lib/python3.10/site-packages/xgboost/training.py:183: UserWarning: [16:10:29] WARNING: /workspace/src/learner.cc:738: \n",
      "Parameters: { \"use_label_encoder\" } are not used.\n",
      "\n",
      "  bst.update(dtrain, iteration=i, fobj=obj)\n",
      "/home/min/anaconda3/envs/BIO/lib/python3.10/site-packages/xgboost/training.py:183: UserWarning: [16:10:29] WARNING: /workspace/src/learner.cc:738: \n",
      "Parameters: { \"use_label_encoder\" } are not used.\n",
      "\n",
      "  bst.update(dtrain, iteration=i, fobj=obj)\n",
      "/home/min/anaconda3/envs/BIO/lib/python3.10/site-packages/xgboost/training.py:183: UserWarning: [16:10:29] WARNING: /workspace/src/learner.cc:738: \n",
      "Parameters: { \"use_label_encoder\" } are not used.\n",
      "\n",
      "  bst.update(dtrain, iteration=i, fobj=obj)\n"
     ]
    },
    {
     "name": "stdout",
     "output_type": "stream",
     "text": [
      "[CV] END colsample_bytree=0.8, learning_rate=0.05, max_depth=5, n_estimators=50, subsample=0.9; total time=   1.5s\n",
      "[CV] END colsample_bytree=0.8, learning_rate=0.05, max_depth=5, n_estimators=50, subsample=0.9; total time=   1.6s\n",
      "[CV] END colsample_bytree=0.8, learning_rate=0.05, max_depth=3, n_estimators=200, subsample=0.7; total time=   3.0s\n",
      "[CV] END colsample_bytree=0.8, learning_rate=0.05, max_depth=3, n_estimators=200, subsample=0.8; total time=   3.0s\n"
     ]
    },
    {
     "name": "stderr",
     "output_type": "stream",
     "text": [
      "/home/min/anaconda3/envs/BIO/lib/python3.10/site-packages/xgboost/training.py:183: UserWarning: [16:10:29] WARNING: /workspace/src/learner.cc:738: \n",
      "Parameters: { \"use_label_encoder\" } are not used.\n",
      "\n",
      "  bst.update(dtrain, iteration=i, fobj=obj)\n",
      "/home/min/anaconda3/envs/BIO/lib/python3.10/site-packages/xgboost/training.py:183: UserWarning: [16:10:29] WARNING: /workspace/src/learner.cc:738: \n",
      "Parameters: { \"use_label_encoder\" } are not used.\n",
      "\n",
      "  bst.update(dtrain, iteration=i, fobj=obj)\n",
      "/home/min/anaconda3/envs/BIO/lib/python3.10/site-packages/xgboost/training.py:183: UserWarning: [16:10:29] WARNING: /workspace/src/learner.cc:738: \n",
      "Parameters: { \"use_label_encoder\" } are not used.\n",
      "\n",
      "  bst.update(dtrain, iteration=i, fobj=obj)\n",
      "/home/min/anaconda3/envs/BIO/lib/python3.10/site-packages/xgboost/training.py:183: UserWarning: [16:10:30] WARNING: /workspace/src/learner.cc:738: \n",
      "Parameters: { \"use_label_encoder\" } are not used.\n",
      "\n",
      "  bst.update(dtrain, iteration=i, fobj=obj)\n"
     ]
    },
    {
     "name": "stdout",
     "output_type": "stream",
     "text": [
      "[CV] END colsample_bytree=0.8, learning_rate=0.05, max_depth=3, n_estimators=200, subsample=0.8; total time=   3.1s\n",
      "[CV] END colsample_bytree=0.8, learning_rate=0.05, max_depth=3, n_estimators=200, subsample=0.7; total time=   3.2s\n",
      "[CV] END colsample_bytree=0.8, learning_rate=0.05, max_depth=5, n_estimators=100, subsample=0.7; total time=   2.0s\n",
      "[CV] END colsample_bytree=0.8, learning_rate=0.05, max_depth=3, n_estimators=200, subsample=0.9; total time=   3.1s\n",
      "[CV] END colsample_bytree=0.8, learning_rate=0.05, max_depth=3, n_estimators=200, subsample=0.9; total time=   3.2s\n",
      "[CV] END colsample_bytree=0.8, learning_rate=0.05, max_depth=5, n_estimators=100, subsample=0.7; total time=   2.2s\n"
     ]
    },
    {
     "name": "stderr",
     "output_type": "stream",
     "text": [
      "/home/min/anaconda3/envs/BIO/lib/python3.10/site-packages/xgboost/training.py:183: UserWarning: [16:10:30] WARNING: /workspace/src/learner.cc:738: \n",
      "Parameters: { \"use_label_encoder\" } are not used.\n",
      "\n",
      "  bst.update(dtrain, iteration=i, fobj=obj)\n",
      "/home/min/anaconda3/envs/BIO/lib/python3.10/site-packages/xgboost/training.py:183: UserWarning: [16:10:30] WARNING: /workspace/src/learner.cc:738: \n",
      "Parameters: { \"use_label_encoder\" } are not used.\n",
      "\n",
      "  bst.update(dtrain, iteration=i, fobj=obj)\n"
     ]
    },
    {
     "name": "stdout",
     "output_type": "stream",
     "text": [
      "[CV] END colsample_bytree=0.8, learning_rate=0.05, max_depth=5, n_estimators=100, subsample=0.9; total time=   1.9s\n",
      "[CV] END colsample_bytree=0.8, learning_rate=0.05, max_depth=5, n_estimators=100, subsample=0.8; total time=   2.0s\n",
      "[CV] END colsample_bytree=0.8, learning_rate=0.05, max_depth=5, n_estimators=100, subsample=0.8; total time=   2.1s\n",
      "[CV] END colsample_bytree=0.8, learning_rate=0.05, max_depth=5, n_estimators=100, subsample=0.9; total time=   1.9s\n"
     ]
    },
    {
     "name": "stderr",
     "output_type": "stream",
     "text": [
      "/home/min/anaconda3/envs/BIO/lib/python3.10/site-packages/xgboost/training.py:183: UserWarning: [16:10:30] WARNING: /workspace/src/learner.cc:738: \n",
      "Parameters: { \"use_label_encoder\" } are not used.\n",
      "\n",
      "  bst.update(dtrain, iteration=i, fobj=obj)\n",
      "/home/min/anaconda3/envs/BIO/lib/python3.10/site-packages/xgboost/training.py:183: UserWarning: [16:10:30] WARNING: /workspace/src/learner.cc:738: \n",
      "Parameters: { \"use_label_encoder\" } are not used.\n",
      "\n",
      "  bst.update(dtrain, iteration=i, fobj=obj)\n",
      "/home/min/anaconda3/envs/BIO/lib/python3.10/site-packages/xgboost/training.py:183: UserWarning: [16:10:30] WARNING: /workspace/src/learner.cc:738: \n",
      "Parameters: { \"use_label_encoder\" } are not used.\n",
      "\n",
      "  bst.update(dtrain, iteration=i, fobj=obj)\n",
      "/home/min/anaconda3/envs/BIO/lib/python3.10/site-packages/xgboost/training.py:183: UserWarning: [16:10:30] WARNING: /workspace/src/learner.cc:738: \n",
      "Parameters: { \"use_label_encoder\" } are not used.\n",
      "\n",
      "  bst.update(dtrain, iteration=i, fobj=obj)\n",
      "/home/min/anaconda3/envs/BIO/lib/python3.10/site-packages/xgboost/training.py:183: UserWarning: [16:10:30] WARNING: /workspace/src/learner.cc:738: \n",
      "Parameters: { \"use_label_encoder\" } are not used.\n",
      "\n",
      "  bst.update(dtrain, iteration=i, fobj=obj)\n",
      "/home/min/anaconda3/envs/BIO/lib/python3.10/site-packages/xgboost/training.py:183: UserWarning: [16:10:31] WARNING: /workspace/src/learner.cc:738: \n",
      "Parameters: { \"use_label_encoder\" } are not used.\n",
      "\n",
      "  bst.update(dtrain, iteration=i, fobj=obj)\n",
      "/home/min/anaconda3/envs/BIO/lib/python3.10/site-packages/xgboost/training.py:183: UserWarning: [16:10:31] WARNING: /workspace/src/learner.cc:738: \n",
      "Parameters: { \"use_label_encoder\" } are not used.\n",
      "\n",
      "  bst.update(dtrain, iteration=i, fobj=obj)\n",
      "/home/min/anaconda3/envs/BIO/lib/python3.10/site-packages/xgboost/training.py:183: UserWarning: [16:10:31] WARNING: /workspace/src/learner.cc:738: \n",
      "Parameters: { \"use_label_encoder\" } are not used.\n",
      "\n",
      "  bst.update(dtrain, iteration=i, fobj=obj)\n",
      "/home/min/anaconda3/envs/BIO/lib/python3.10/site-packages/xgboost/training.py:183: UserWarning: [16:10:31] WARNING: /workspace/src/learner.cc:738: \n",
      "Parameters: { \"use_label_encoder\" } are not used.\n",
      "\n",
      "  bst.update(dtrain, iteration=i, fobj=obj)\n",
      "/home/min/anaconda3/envs/BIO/lib/python3.10/site-packages/xgboost/training.py:183: UserWarning: [16:10:31] WARNING: /workspace/src/learner.cc:738: \n",
      "Parameters: { \"use_label_encoder\" } are not used.\n",
      "\n",
      "  bst.update(dtrain, iteration=i, fobj=obj)\n"
     ]
    },
    {
     "name": "stdout",
     "output_type": "stream",
     "text": [
      "[CV] END colsample_bytree=0.8, learning_rate=0.05, max_depth=7, n_estimators=50, subsample=0.7; total time=   1.5s\n",
      "[CV] END colsample_bytree=0.8, learning_rate=0.05, max_depth=7, n_estimators=50, subsample=0.7; total time=   1.5s\n",
      "[CV] END colsample_bytree=0.8, learning_rate=0.05, max_depth=7, n_estimators=50, subsample=0.8; total time=   1.6s\n",
      "[CV] END colsample_bytree=0.8, learning_rate=0.05, max_depth=7, n_estimators=50, subsample=0.8; total time=   1.6s\n",
      "[CV] END colsample_bytree=0.8, learning_rate=0.05, max_depth=7, n_estimators=50, subsample=0.9; total time=   1.6s\n",
      "[CV] END colsample_bytree=0.8, learning_rate=0.05, max_depth=7, n_estimators=50, subsample=0.9; total time=   1.6s\n"
     ]
    },
    {
     "name": "stderr",
     "output_type": "stream",
     "text": [
      "/home/min/anaconda3/envs/BIO/lib/python3.10/site-packages/xgboost/training.py:183: UserWarning: [16:10:32] WARNING: /workspace/src/learner.cc:738: \n",
      "Parameters: { \"use_label_encoder\" } are not used.\n",
      "\n",
      "  bst.update(dtrain, iteration=i, fobj=obj)\n",
      "/home/min/anaconda3/envs/BIO/lib/python3.10/site-packages/xgboost/training.py:183: UserWarning: [16:10:32] WARNING: /workspace/src/learner.cc:738: \n",
      "Parameters: { \"use_label_encoder\" } are not used.\n",
      "\n",
      "  bst.update(dtrain, iteration=i, fobj=obj)\n",
      "/home/min/anaconda3/envs/BIO/lib/python3.10/site-packages/xgboost/training.py:183: UserWarning: [16:10:32] WARNING: /workspace/src/learner.cc:738: \n",
      "Parameters: { \"use_label_encoder\" } are not used.\n",
      "\n",
      "  bst.update(dtrain, iteration=i, fobj=obj)\n"
     ]
    },
    {
     "name": "stdout",
     "output_type": "stream",
     "text": [
      "[CV] END colsample_bytree=0.8, learning_rate=0.05, max_depth=5, n_estimators=200, subsample=0.7; total time=   3.1s\n",
      "[CV] END colsample_bytree=0.8, learning_rate=0.05, max_depth=5, n_estimators=200, subsample=0.8; total time=   3.1s\n"
     ]
    },
    {
     "name": "stderr",
     "output_type": "stream",
     "text": [
      "/home/min/anaconda3/envs/BIO/lib/python3.10/site-packages/xgboost/training.py:183: UserWarning: [16:10:32] WARNING: /workspace/src/learner.cc:738: \n",
      "Parameters: { \"use_label_encoder\" } are not used.\n",
      "\n",
      "  bst.update(dtrain, iteration=i, fobj=obj)\n",
      "/home/min/anaconda3/envs/BIO/lib/python3.10/site-packages/xgboost/training.py:183: UserWarning: [16:10:32] WARNING: /workspace/src/learner.cc:738: \n",
      "Parameters: { \"use_label_encoder\" } are not used.\n",
      "\n",
      "  bst.update(dtrain, iteration=i, fobj=obj)\n",
      "/home/min/anaconda3/envs/BIO/lib/python3.10/site-packages/xgboost/training.py:183: UserWarning: [16:10:32] WARNING: /workspace/src/learner.cc:738: \n",
      "Parameters: { \"use_label_encoder\" } are not used.\n",
      "\n",
      "  bst.update(dtrain, iteration=i, fobj=obj)\n"
     ]
    },
    {
     "name": "stdout",
     "output_type": "stream",
     "text": [
      "[CV] END colsample_bytree=0.8, learning_rate=0.05, max_depth=7, n_estimators=100, subsample=0.7; total time=   2.0s\n",
      "[CV] END colsample_bytree=0.8, learning_rate=0.05, max_depth=5, n_estimators=200, subsample=0.8; total time=   3.1s\n",
      "[CV] END colsample_bytree=0.8, learning_rate=0.05, max_depth=7, n_estimators=100, subsample=0.8; total time=   1.9s\n",
      "[CV] END colsample_bytree=0.8, learning_rate=0.05, max_depth=7, n_estimators=100, subsample=0.8; total time=   2.0s\n",
      "[CV] END colsample_bytree=0.8, learning_rate=0.05, max_depth=5, n_estimators=200, subsample=0.7; total time=   3.6s\n",
      "[CV] END colsample_bytree=0.8, learning_rate=0.05, max_depth=7, n_estimators=100, subsample=0.7; total time=   2.1s\n",
      "[CV] END colsample_bytree=0.8, learning_rate=0.05, max_depth=5, n_estimators=200, subsample=0.9; total time=   3.1s\n",
      "[CV] END colsample_bytree=0.8, learning_rate=0.05, max_depth=5, n_estimators=200, subsample=0.9; total time=   3.0s\n"
     ]
    },
    {
     "name": "stderr",
     "output_type": "stream",
     "text": [
      "/home/min/anaconda3/envs/BIO/lib/python3.10/site-packages/xgboost/training.py:183: UserWarning: [16:10:33] WARNING: /workspace/src/learner.cc:738: \n",
      "Parameters: { \"use_label_encoder\" } are not used.\n",
      "\n",
      "  bst.update(dtrain, iteration=i, fobj=obj)\n",
      "/home/min/anaconda3/envs/BIO/lib/python3.10/site-packages/xgboost/training.py:183: UserWarning: [16:10:33] WARNING: /workspace/src/learner.cc:738: \n",
      "Parameters: { \"use_label_encoder\" } are not used.\n",
      "\n",
      "  bst.update(dtrain, iteration=i, fobj=obj)\n",
      "/home/min/anaconda3/envs/BIO/lib/python3.10/site-packages/xgboost/training.py:183: UserWarning: [16:10:33] WARNING: /workspace/src/learner.cc:738: \n",
      "Parameters: { \"use_label_encoder\" } are not used.\n",
      "\n",
      "  bst.update(dtrain, iteration=i, fobj=obj)\n",
      "/home/min/anaconda3/envs/BIO/lib/python3.10/site-packages/xgboost/training.py:183: UserWarning: [16:10:33] WARNING: /workspace/src/learner.cc:738: \n",
      "Parameters: { \"use_label_encoder\" } are not used.\n",
      "\n",
      "  bst.update(dtrain, iteration=i, fobj=obj)\n",
      "/home/min/anaconda3/envs/BIO/lib/python3.10/site-packages/xgboost/training.py:183: UserWarning: [16:10:33] WARNING: /workspace/src/learner.cc:738: \n",
      "Parameters: { \"use_label_encoder\" } are not used.\n",
      "\n",
      "  bst.update(dtrain, iteration=i, fobj=obj)\n",
      "/home/min/anaconda3/envs/BIO/lib/python3.10/site-packages/xgboost/training.py:183: UserWarning: [16:10:33] WARNING: /workspace/src/learner.cc:738: \n",
      "Parameters: { \"use_label_encoder\" } are not used.\n",
      "\n",
      "  bst.update(dtrain, iteration=i, fobj=obj)\n",
      "/home/min/anaconda3/envs/BIO/lib/python3.10/site-packages/xgboost/training.py:183: UserWarning: [16:10:33] WARNING: /workspace/src/learner.cc:738: \n",
      "Parameters: { \"use_label_encoder\" } are not used.\n",
      "\n",
      "  bst.update(dtrain, iteration=i, fobj=obj)\n",
      "/home/min/anaconda3/envs/BIO/lib/python3.10/site-packages/xgboost/training.py:183: UserWarning: [16:10:33] WARNING: /workspace/src/learner.cc:738: \n",
      "Parameters: { \"use_label_encoder\" } are not used.\n",
      "\n",
      "  bst.update(dtrain, iteration=i, fobj=obj)\n",
      "/home/min/anaconda3/envs/BIO/lib/python3.10/site-packages/xgboost/training.py:183: UserWarning: [16:10:33] WARNING: /workspace/src/learner.cc:738: \n",
      "Parameters: { \"use_label_encoder\" } are not used.\n",
      "\n",
      "  bst.update(dtrain, iteration=i, fobj=obj)\n"
     ]
    },
    {
     "name": "stdout",
     "output_type": "stream",
     "text": [
      "[CV] END colsample_bytree=0.8, learning_rate=0.05, max_depth=7, n_estimators=100, subsample=0.9; total time=   2.0s\n",
      "[CV] END colsample_bytree=0.8, learning_rate=0.05, max_depth=7, n_estimators=100, subsample=0.9; total time=   2.0s\n"
     ]
    },
    {
     "name": "stderr",
     "output_type": "stream",
     "text": [
      "/home/min/anaconda3/envs/BIO/lib/python3.10/site-packages/xgboost/training.py:183: UserWarning: [16:10:33] WARNING: /workspace/src/learner.cc:738: \n",
      "Parameters: { \"use_label_encoder\" } are not used.\n",
      "\n",
      "  bst.update(dtrain, iteration=i, fobj=obj)\n",
      "/home/min/anaconda3/envs/BIO/lib/python3.10/site-packages/xgboost/training.py:183: UserWarning: [16:10:34] WARNING: /workspace/src/learner.cc:738: \n",
      "Parameters: { \"use_label_encoder\" } are not used.\n",
      "\n",
      "  bst.update(dtrain, iteration=i, fobj=obj)\n",
      "/home/min/anaconda3/envs/BIO/lib/python3.10/site-packages/xgboost/training.py:183: UserWarning: [16:10:34] WARNING: /workspace/src/learner.cc:738: \n",
      "Parameters: { \"use_label_encoder\" } are not used.\n",
      "\n",
      "  bst.update(dtrain, iteration=i, fobj=obj)\n"
     ]
    },
    {
     "name": "stdout",
     "output_type": "stream",
     "text": [
      "[CV] END colsample_bytree=0.8, learning_rate=0.1, max_depth=3, n_estimators=50, subsample=0.7; total time=   1.5s\n",
      "[CV] END colsample_bytree=0.8, learning_rate=0.1, max_depth=3, n_estimators=50, subsample=0.8; total time=   1.5s\n",
      "[CV] END colsample_bytree=0.8, learning_rate=0.1, max_depth=3, n_estimators=50, subsample=0.7; total time=   1.6s\n",
      "[CV] END colsample_bytree=0.8, learning_rate=0.1, max_depth=3, n_estimators=50, subsample=0.9; total time=   1.6s\n",
      "[CV] END colsample_bytree=0.8, learning_rate=0.1, max_depth=3, n_estimators=50, subsample=0.9; total time=   1.5s\n",
      "[CV] END colsample_bytree=0.8, learning_rate=0.1, max_depth=3, n_estimators=50, subsample=0.8; total time=   1.6s\n"
     ]
    },
    {
     "name": "stderr",
     "output_type": "stream",
     "text": [
      "/home/min/anaconda3/envs/BIO/lib/python3.10/site-packages/xgboost/training.py:183: UserWarning: [16:10:34] WARNING: /workspace/src/learner.cc:738: \n",
      "Parameters: { \"use_label_encoder\" } are not used.\n",
      "\n",
      "  bst.update(dtrain, iteration=i, fobj=obj)\n",
      "/home/min/anaconda3/envs/BIO/lib/python3.10/site-packages/xgboost/training.py:183: UserWarning: [16:10:34] WARNING: /workspace/src/learner.cc:738: \n",
      "Parameters: { \"use_label_encoder\" } are not used.\n",
      "\n",
      "  bst.update(dtrain, iteration=i, fobj=obj)\n",
      "/home/min/anaconda3/envs/BIO/lib/python3.10/site-packages/xgboost/training.py:183: UserWarning: [16:10:34] WARNING: /workspace/src/learner.cc:738: \n",
      "Parameters: { \"use_label_encoder\" } are not used.\n",
      "\n",
      "  bst.update(dtrain, iteration=i, fobj=obj)\n",
      "/home/min/anaconda3/envs/BIO/lib/python3.10/site-packages/xgboost/training.py:183: UserWarning: [16:10:35] WARNING: /workspace/src/learner.cc:738: \n",
      "Parameters: { \"use_label_encoder\" } are not used.\n",
      "\n",
      "  bst.update(dtrain, iteration=i, fobj=obj)\n",
      "/home/min/anaconda3/envs/BIO/lib/python3.10/site-packages/xgboost/training.py:183: UserWarning: [16:10:35] WARNING: /workspace/src/learner.cc:738: \n",
      "Parameters: { \"use_label_encoder\" } are not used.\n",
      "\n",
      "  bst.update(dtrain, iteration=i, fobj=obj)\n"
     ]
    },
    {
     "name": "stdout",
     "output_type": "stream",
     "text": [
      "[CV] END colsample_bytree=0.8, learning_rate=0.1, max_depth=3, n_estimators=100, subsample=0.7; total time=   2.0s\n",
      "[CV] END colsample_bytree=0.8, learning_rate=0.05, max_depth=7, n_estimators=200, subsample=0.7; total time=   3.1s\n",
      "[CV] END colsample_bytree=0.8, learning_rate=0.05, max_depth=7, n_estimators=200, subsample=0.7; total time=   3.1s\n"
     ]
    },
    {
     "name": "stderr",
     "output_type": "stream",
     "text": [
      "/home/min/anaconda3/envs/BIO/lib/python3.10/site-packages/xgboost/training.py:183: UserWarning: [16:10:35] WARNING: /workspace/src/learner.cc:738: \n",
      "Parameters: { \"use_label_encoder\" } are not used.\n",
      "\n",
      "  bst.update(dtrain, iteration=i, fobj=obj)\n"
     ]
    },
    {
     "name": "stdout",
     "output_type": "stream",
     "text": [
      "[CV] END colsample_bytree=0.8, learning_rate=0.05, max_depth=7, n_estimators=200, subsample=0.8; total time=   3.1s\n",
      "[CV] END colsample_bytree=0.8, learning_rate=0.1, max_depth=3, n_estimators=100, subsample=0.7; total time=   2.1s\n",
      "[CV] END colsample_bytree=0.8, learning_rate=0.05, max_depth=7, n_estimators=200, subsample=0.8; total time=   3.3s\n"
     ]
    },
    {
     "name": "stderr",
     "output_type": "stream",
     "text": [
      "/home/min/anaconda3/envs/BIO/lib/python3.10/site-packages/xgboost/training.py:183: UserWarning: [16:10:35] WARNING: /workspace/src/learner.cc:738: \n",
      "Parameters: { \"use_label_encoder\" } are not used.\n",
      "\n",
      "  bst.update(dtrain, iteration=i, fobj=obj)\n",
      "/home/min/anaconda3/envs/BIO/lib/python3.10/site-packages/xgboost/training.py:183: UserWarning: [16:10:35] WARNING: /workspace/src/learner.cc:738: \n",
      "Parameters: { \"use_label_encoder\" } are not used.\n",
      "\n",
      "  bst.update(dtrain, iteration=i, fobj=obj)\n"
     ]
    },
    {
     "name": "stdout",
     "output_type": "stream",
     "text": [
      "[CV] END colsample_bytree=0.8, learning_rate=0.05, max_depth=7, n_estimators=200, subsample=0.9; total time=   2.9s\n",
      "[CV] END colsample_bytree=0.8, learning_rate=0.1, max_depth=3, n_estimators=100, subsample=0.8; total time=   2.0s\n",
      "[CV] END colsample_bytree=0.8, learning_rate=0.05, max_depth=7, n_estimators=200, subsample=0.9; total time=   3.1s\n"
     ]
    },
    {
     "name": "stderr",
     "output_type": "stream",
     "text": [
      "/home/min/anaconda3/envs/BIO/lib/python3.10/site-packages/xgboost/training.py:183: UserWarning: [16:10:35] WARNING: /workspace/src/learner.cc:738: \n",
      "Parameters: { \"use_label_encoder\" } are not used.\n",
      "\n",
      "  bst.update(dtrain, iteration=i, fobj=obj)\n",
      "/home/min/anaconda3/envs/BIO/lib/python3.10/site-packages/xgboost/training.py:183: UserWarning: [16:10:35] WARNING: /workspace/src/learner.cc:738: \n",
      "Parameters: { \"use_label_encoder\" } are not used.\n",
      "\n",
      "  bst.update(dtrain, iteration=i, fobj=obj)\n",
      "/home/min/anaconda3/envs/BIO/lib/python3.10/site-packages/xgboost/training.py:183: UserWarning: [16:10:35] WARNING: /workspace/src/learner.cc:738: \n",
      "Parameters: { \"use_label_encoder\" } are not used.\n",
      "\n",
      "  bst.update(dtrain, iteration=i, fobj=obj)\n"
     ]
    },
    {
     "name": "stdout",
     "output_type": "stream",
     "text": [
      "[CV] END colsample_bytree=0.8, learning_rate=0.1, max_depth=3, n_estimators=100, subsample=0.8; total time=   2.2s\n"
     ]
    },
    {
     "name": "stderr",
     "output_type": "stream",
     "text": [
      "/home/min/anaconda3/envs/BIO/lib/python3.10/site-packages/xgboost/training.py:183: UserWarning: [16:10:35] WARNING: /workspace/src/learner.cc:738: \n",
      "Parameters: { \"use_label_encoder\" } are not used.\n",
      "\n",
      "  bst.update(dtrain, iteration=i, fobj=obj)\n",
      "/home/min/anaconda3/envs/BIO/lib/python3.10/site-packages/xgboost/training.py:183: UserWarning: [16:10:36] WARNING: /workspace/src/learner.cc:738: \n",
      "Parameters: { \"use_label_encoder\" } are not used.\n",
      "\n",
      "  bst.update(dtrain, iteration=i, fobj=obj)\n",
      "/home/min/anaconda3/envs/BIO/lib/python3.10/site-packages/xgboost/training.py:183: UserWarning: [16:10:36] WARNING: /workspace/src/learner.cc:738: \n",
      "Parameters: { \"use_label_encoder\" } are not used.\n",
      "\n",
      "  bst.update(dtrain, iteration=i, fobj=obj)\n",
      "/home/min/anaconda3/envs/BIO/lib/python3.10/site-packages/xgboost/training.py:183: UserWarning: [16:10:36] WARNING: /workspace/src/learner.cc:738: \n",
      "Parameters: { \"use_label_encoder\" } are not used.\n",
      "\n",
      "  bst.update(dtrain, iteration=i, fobj=obj)\n"
     ]
    },
    {
     "name": "stdout",
     "output_type": "stream",
     "text": [
      "[CV] END colsample_bytree=0.8, learning_rate=0.1, max_depth=3, n_estimators=100, subsample=0.9; total time=   2.0s\n",
      "[CV] END colsample_bytree=0.8, learning_rate=0.1, max_depth=3, n_estimators=100, subsample=0.9; total time=   1.9s\n"
     ]
    },
    {
     "name": "stderr",
     "output_type": "stream",
     "text": [
      "/home/min/anaconda3/envs/BIO/lib/python3.10/site-packages/xgboost/training.py:183: UserWarning: [16:10:36] WARNING: /workspace/src/learner.cc:738: \n",
      "Parameters: { \"use_label_encoder\" } are not used.\n",
      "\n",
      "  bst.update(dtrain, iteration=i, fobj=obj)\n"
     ]
    },
    {
     "name": "stdout",
     "output_type": "stream",
     "text": [
      "[CV] END colsample_bytree=0.8, learning_rate=0.1, max_depth=5, n_estimators=50, subsample=0.7; total time=   1.5s\n",
      "[CV] END colsample_bytree=0.8, learning_rate=0.1, max_depth=5, n_estimators=50, subsample=0.7; total time=   1.6s\n",
      "[CV] END colsample_bytree=0.8, learning_rate=0.1, max_depth=5, n_estimators=50, subsample=0.8; total time=   1.6s\n"
     ]
    },
    {
     "name": "stderr",
     "output_type": "stream",
     "text": [
      "/home/min/anaconda3/envs/BIO/lib/python3.10/site-packages/xgboost/training.py:183: UserWarning: [16:10:36] WARNING: /workspace/src/learner.cc:738: \n",
      "Parameters: { \"use_label_encoder\" } are not used.\n",
      "\n",
      "  bst.update(dtrain, iteration=i, fobj=obj)\n",
      "/home/min/anaconda3/envs/BIO/lib/python3.10/site-packages/xgboost/training.py:183: UserWarning: [16:10:36] WARNING: /workspace/src/learner.cc:738: \n",
      "Parameters: { \"use_label_encoder\" } are not used.\n",
      "\n",
      "  bst.update(dtrain, iteration=i, fobj=obj)\n"
     ]
    },
    {
     "name": "stdout",
     "output_type": "stream",
     "text": [
      "[CV] END colsample_bytree=0.8, learning_rate=0.1, max_depth=5, n_estimators=50, subsample=0.8; total time=   1.6s\n",
      "[CV] END colsample_bytree=0.8, learning_rate=0.1, max_depth=5, n_estimators=50, subsample=0.9; total time=   1.5s\n",
      "[CV] END colsample_bytree=0.8, learning_rate=0.1, max_depth=5, n_estimators=50, subsample=0.9; total time=   1.5s\n"
     ]
    },
    {
     "name": "stderr",
     "output_type": "stream",
     "text": [
      "/home/min/anaconda3/envs/BIO/lib/python3.10/site-packages/xgboost/training.py:183: UserWarning: [16:10:37] WARNING: /workspace/src/learner.cc:738: \n",
      "Parameters: { \"use_label_encoder\" } are not used.\n",
      "\n",
      "  bst.update(dtrain, iteration=i, fobj=obj)\n",
      "/home/min/anaconda3/envs/BIO/lib/python3.10/site-packages/xgboost/training.py:183: UserWarning: [16:10:37] WARNING: /workspace/src/learner.cc:738: \n",
      "Parameters: { \"use_label_encoder\" } are not used.\n",
      "\n",
      "  bst.update(dtrain, iteration=i, fobj=obj)\n",
      "/home/min/anaconda3/envs/BIO/lib/python3.10/site-packages/xgboost/training.py:183: UserWarning: [16:10:37] WARNING: /workspace/src/learner.cc:738: \n",
      "Parameters: { \"use_label_encoder\" } are not used.\n",
      "\n",
      "  bst.update(dtrain, iteration=i, fobj=obj)\n"
     ]
    },
    {
     "name": "stdout",
     "output_type": "stream",
     "text": [
      "[CV] END colsample_bytree=0.8, learning_rate=0.1, max_depth=3, n_estimators=200, subsample=0.7; total time=   3.0s\n",
      "[CV] END colsample_bytree=0.8, learning_rate=0.1, max_depth=3, n_estimators=200, subsample=0.7; total time=   3.0s\n",
      "[CV] END colsample_bytree=0.8, learning_rate=0.1, max_depth=3, n_estimators=200, subsample=0.8; total time=   3.0s\n",
      "[CV] END colsample_bytree=0.8, learning_rate=0.1, max_depth=3, n_estimators=200, subsample=0.8; total time=   3.1s\n"
     ]
    },
    {
     "name": "stderr",
     "output_type": "stream",
     "text": [
      "/home/min/anaconda3/envs/BIO/lib/python3.10/site-packages/xgboost/training.py:183: UserWarning: [16:10:37] WARNING: /workspace/src/learner.cc:738: \n",
      "Parameters: { \"use_label_encoder\" } are not used.\n",
      "\n",
      "  bst.update(dtrain, iteration=i, fobj=obj)\n",
      "/home/min/anaconda3/envs/BIO/lib/python3.10/site-packages/xgboost/training.py:183: UserWarning: [16:10:37] WARNING: /workspace/src/learner.cc:738: \n",
      "Parameters: { \"use_label_encoder\" } are not used.\n",
      "\n",
      "  bst.update(dtrain, iteration=i, fobj=obj)\n"
     ]
    },
    {
     "name": "stdout",
     "output_type": "stream",
     "text": [
      "[CV] END colsample_bytree=0.8, learning_rate=0.1, max_depth=5, n_estimators=100, subsample=0.7; total time=   2.0s\n"
     ]
    },
    {
     "name": "stderr",
     "output_type": "stream",
     "text": [
      "/home/min/anaconda3/envs/BIO/lib/python3.10/site-packages/xgboost/training.py:183: UserWarning: [16:10:37] WARNING: /workspace/src/learner.cc:738: \n",
      "Parameters: { \"use_label_encoder\" } are not used.\n",
      "\n",
      "  bst.update(dtrain, iteration=i, fobj=obj)\n"
     ]
    },
    {
     "name": "stdout",
     "output_type": "stream",
     "text": [
      "[CV] END colsample_bytree=0.8, learning_rate=0.1, max_depth=5, n_estimators=100, subsample=0.7; total time=   2.0s\n",
      "[CV] END colsample_bytree=0.8, learning_rate=0.1, max_depth=3, n_estimators=200, subsample=0.9; total time=   3.1s\n"
     ]
    },
    {
     "name": "stderr",
     "output_type": "stream",
     "text": [
      "/home/min/anaconda3/envs/BIO/lib/python3.10/site-packages/xgboost/training.py:183: UserWarning: [16:10:37] WARNING: /workspace/src/learner.cc:738: \n",
      "Parameters: { \"use_label_encoder\" } are not used.\n",
      "\n",
      "  bst.update(dtrain, iteration=i, fobj=obj)\n",
      "/home/min/anaconda3/envs/BIO/lib/python3.10/site-packages/xgboost/training.py:183: UserWarning: [16:10:38] WARNING: /workspace/src/learner.cc:738: \n",
      "Parameters: { \"use_label_encoder\" } are not used.\n",
      "\n",
      "  bst.update(dtrain, iteration=i, fobj=obj)\n",
      "/home/min/anaconda3/envs/BIO/lib/python3.10/site-packages/xgboost/training.py:183: UserWarning: [16:10:38] WARNING: /workspace/src/learner.cc:738: \n",
      "Parameters: { \"use_label_encoder\" } are not used.\n",
      "\n",
      "  bst.update(dtrain, iteration=i, fobj=obj)\n",
      "/home/min/anaconda3/envs/BIO/lib/python3.10/site-packages/xgboost/training.py:183: UserWarning: [16:10:38] WARNING: /workspace/src/learner.cc:738: \n",
      "Parameters: { \"use_label_encoder\" } are not used.\n",
      "\n",
      "  bst.update(dtrain, iteration=i, fobj=obj)\n"
     ]
    },
    {
     "name": "stdout",
     "output_type": "stream",
     "text": [
      "[CV] END colsample_bytree=0.8, learning_rate=0.1, max_depth=3, n_estimators=200, subsample=0.9; total time=   3.1s\n",
      "[CV] END colsample_bytree=0.8, learning_rate=0.1, max_depth=5, n_estimators=100, subsample=0.8; total time=   1.9s\n"
     ]
    },
    {
     "name": "stderr",
     "output_type": "stream",
     "text": [
      "/home/min/anaconda3/envs/BIO/lib/python3.10/site-packages/xgboost/training.py:183: UserWarning: [16:10:38] WARNING: /workspace/src/learner.cc:738: \n",
      "Parameters: { \"use_label_encoder\" } are not used.\n",
      "\n",
      "  bst.update(dtrain, iteration=i, fobj=obj)\n"
     ]
    },
    {
     "name": "stdout",
     "output_type": "stream",
     "text": [
      "[CV] END colsample_bytree=0.8, learning_rate=0.1, max_depth=5, n_estimators=100, subsample=0.8; total time=   2.0s\n"
     ]
    },
    {
     "name": "stderr",
     "output_type": "stream",
     "text": [
      "/home/min/anaconda3/envs/BIO/lib/python3.10/site-packages/xgboost/training.py:183: UserWarning: [16:10:38] WARNING: /workspace/src/learner.cc:738: \n",
      "Parameters: { \"use_label_encoder\" } are not used.\n",
      "\n",
      "  bst.update(dtrain, iteration=i, fobj=obj)\n",
      "/home/min/anaconda3/envs/BIO/lib/python3.10/site-packages/xgboost/training.py:183: UserWarning: [16:10:38] WARNING: /workspace/src/learner.cc:738: \n",
      "Parameters: { \"use_label_encoder\" } are not used.\n",
      "\n",
      "  bst.update(dtrain, iteration=i, fobj=obj)\n",
      "/home/min/anaconda3/envs/BIO/lib/python3.10/site-packages/xgboost/training.py:183: UserWarning: [16:10:38] WARNING: /workspace/src/learner.cc:738: \n",
      "Parameters: { \"use_label_encoder\" } are not used.\n",
      "\n",
      "  bst.update(dtrain, iteration=i, fobj=obj)\n"
     ]
    },
    {
     "name": "stdout",
     "output_type": "stream",
     "text": [
      "[CV] END colsample_bytree=0.8, learning_rate=0.1, max_depth=5, n_estimators=100, subsample=0.9; total time=   2.0s\n"
     ]
    },
    {
     "name": "stderr",
     "output_type": "stream",
     "text": [
      "/home/min/anaconda3/envs/BIO/lib/python3.10/site-packages/xgboost/training.py:183: UserWarning: [16:10:38] WARNING: /workspace/src/learner.cc:738: \n",
      "Parameters: { \"use_label_encoder\" } are not used.\n",
      "\n",
      "  bst.update(dtrain, iteration=i, fobj=obj)\n",
      "/home/min/anaconda3/envs/BIO/lib/python3.10/site-packages/xgboost/training.py:183: UserWarning: [16:10:38] WARNING: /workspace/src/learner.cc:738: \n",
      "Parameters: { \"use_label_encoder\" } are not used.\n",
      "\n",
      "  bst.update(dtrain, iteration=i, fobj=obj)\n"
     ]
    },
    {
     "name": "stdout",
     "output_type": "stream",
     "text": [
      "[CV] END colsample_bytree=0.8, learning_rate=0.1, max_depth=5, n_estimators=100, subsample=0.9; total time=   2.2s\n",
      "[CV] END colsample_bytree=0.8, learning_rate=0.1, max_depth=7, n_estimators=50, subsample=0.7; total time=   1.5s\n",
      "[CV] END colsample_bytree=0.8, learning_rate=0.1, max_depth=7, n_estimators=50, subsample=0.7; total time=   1.5s\n"
     ]
    },
    {
     "name": "stderr",
     "output_type": "stream",
     "text": [
      "/home/min/anaconda3/envs/BIO/lib/python3.10/site-packages/xgboost/training.py:183: UserWarning: [16:10:39] WARNING: /workspace/src/learner.cc:738: \n",
      "Parameters: { \"use_label_encoder\" } are not used.\n",
      "\n",
      "  bst.update(dtrain, iteration=i, fobj=obj)\n"
     ]
    },
    {
     "name": "stdout",
     "output_type": "stream",
     "text": [
      "[CV] END colsample_bytree=0.8, learning_rate=0.1, max_depth=7, n_estimators=50, subsample=0.8; total time=   1.6s\n",
      "[CV] END colsample_bytree=0.8, learning_rate=0.1, max_depth=7, n_estimators=50, subsample=0.8; total time=   1.5s\n",
      "[CV] END colsample_bytree=0.8, learning_rate=0.1, max_depth=7, n_estimators=50, subsample=0.9; total time=   1.5s\n",
      "[CV] END colsample_bytree=0.8, learning_rate=0.1, max_depth=7, n_estimators=50, subsample=0.9; total time=   1.5s\n"
     ]
    },
    {
     "name": "stderr",
     "output_type": "stream",
     "text": [
      "/home/min/anaconda3/envs/BIO/lib/python3.10/site-packages/xgboost/training.py:183: UserWarning: [16:10:39] WARNING: /workspace/src/learner.cc:738: \n",
      "Parameters: { \"use_label_encoder\" } are not used.\n",
      "\n",
      "  bst.update(dtrain, iteration=i, fobj=obj)\n",
      "/home/min/anaconda3/envs/BIO/lib/python3.10/site-packages/xgboost/training.py:183: UserWarning: [16:10:39] WARNING: /workspace/src/learner.cc:738: \n",
      "Parameters: { \"use_label_encoder\" } are not used.\n",
      "\n",
      "  bst.update(dtrain, iteration=i, fobj=obj)\n",
      "/home/min/anaconda3/envs/BIO/lib/python3.10/site-packages/xgboost/training.py:183: UserWarning: [16:10:39] WARNING: /workspace/src/learner.cc:738: \n",
      "Parameters: { \"use_label_encoder\" } are not used.\n",
      "\n",
      "  bst.update(dtrain, iteration=i, fobj=obj)\n"
     ]
    },
    {
     "name": "stdout",
     "output_type": "stream",
     "text": [
      "[CV] END colsample_bytree=0.8, learning_rate=0.1, max_depth=5, n_estimators=200, subsample=0.7; total time=   3.0s\n"
     ]
    },
    {
     "name": "stderr",
     "output_type": "stream",
     "text": [
      "/home/min/anaconda3/envs/BIO/lib/python3.10/site-packages/xgboost/training.py:183: UserWarning: [16:10:39] WARNING: /workspace/src/learner.cc:738: \n",
      "Parameters: { \"use_label_encoder\" } are not used.\n",
      "\n",
      "  bst.update(dtrain, iteration=i, fobj=obj)\n",
      "/home/min/anaconda3/envs/BIO/lib/python3.10/site-packages/xgboost/training.py:183: UserWarning: [16:10:39] WARNING: /workspace/src/learner.cc:738: \n",
      "Parameters: { \"use_label_encoder\" } are not used.\n",
      "\n",
      "  bst.update(dtrain, iteration=i, fobj=obj)\n"
     ]
    },
    {
     "name": "stdout",
     "output_type": "stream",
     "text": [
      "[CV] END colsample_bytree=0.8, learning_rate=0.1, max_depth=5, n_estimators=200, subsample=0.7; total time=   3.1s\n",
      "[CV] END colsample_bytree=0.8, learning_rate=0.1, max_depth=5, n_estimators=200, subsample=0.8; total time=   3.1s\n",
      "[CV] END colsample_bytree=0.8, learning_rate=0.1, max_depth=7, n_estimators=100, subsample=0.7; total time=   2.0s\n"
     ]
    },
    {
     "name": "stderr",
     "output_type": "stream",
     "text": [
      "/home/min/anaconda3/envs/BIO/lib/python3.10/site-packages/xgboost/training.py:183: UserWarning: [16:10:40] WARNING: /workspace/src/learner.cc:738: \n",
      "Parameters: { \"use_label_encoder\" } are not used.\n",
      "\n",
      "  bst.update(dtrain, iteration=i, fobj=obj)\n",
      "/home/min/anaconda3/envs/BIO/lib/python3.10/site-packages/xgboost/training.py:183: UserWarning: [16:10:40] WARNING: /workspace/src/learner.cc:738: \n",
      "Parameters: { \"use_label_encoder\" } are not used.\n",
      "\n",
      "  bst.update(dtrain, iteration=i, fobj=obj)\n"
     ]
    },
    {
     "name": "stdout",
     "output_type": "stream",
     "text": [
      "[CV] END colsample_bytree=0.8, learning_rate=0.1, max_depth=7, n_estimators=100, subsample=0.7; total time=   2.0s\n",
      "[CV] END colsample_bytree=0.8, learning_rate=0.1, max_depth=5, n_estimators=200, subsample=0.8; total time=   3.2s\n"
     ]
    },
    {
     "name": "stderr",
     "output_type": "stream",
     "text": [
      "/home/min/anaconda3/envs/BIO/lib/python3.10/site-packages/xgboost/training.py:183: UserWarning: [16:10:40] WARNING: /workspace/src/learner.cc:738: \n",
      "Parameters: { \"use_label_encoder\" } are not used.\n",
      "\n",
      "  bst.update(dtrain, iteration=i, fobj=obj)\n"
     ]
    },
    {
     "name": "stdout",
     "output_type": "stream",
     "text": [
      "[CV] END colsample_bytree=0.8, learning_rate=0.1, max_depth=5, n_estimators=200, subsample=0.9; total time=   3.2s\n",
      "[CV] END colsample_bytree=0.8, learning_rate=0.1, max_depth=5, n_estimators=200, subsample=0.9; total time=   3.3s\n",
      "[CV] END colsample_bytree=0.8, learning_rate=0.1, max_depth=7, n_estimators=100, subsample=0.8; total time=   2.1s\n"
     ]
    },
    {
     "name": "stderr",
     "output_type": "stream",
     "text": [
      "/home/min/anaconda3/envs/BIO/lib/python3.10/site-packages/xgboost/training.py:183: UserWarning: [16:10:40] WARNING: /workspace/src/learner.cc:738: \n",
      "Parameters: { \"use_label_encoder\" } are not used.\n",
      "\n",
      "  bst.update(dtrain, iteration=i, fobj=obj)\n",
      "/home/min/anaconda3/envs/BIO/lib/python3.10/site-packages/xgboost/training.py:183: UserWarning: [16:10:40] WARNING: /workspace/src/learner.cc:738: \n",
      "Parameters: { \"use_label_encoder\" } are not used.\n",
      "\n",
      "  bst.update(dtrain, iteration=i, fobj=obj)\n"
     ]
    },
    {
     "name": "stdout",
     "output_type": "stream",
     "text": [
      "[CV] END colsample_bytree=0.8, learning_rate=0.1, max_depth=7, n_estimators=100, subsample=0.9; total time=   2.0s\n",
      "[CV] END colsample_bytree=0.8, learning_rate=0.1, max_depth=7, n_estimators=100, subsample=0.9; total time=   2.0s\n",
      "[CV] END colsample_bytree=0.8, learning_rate=0.1, max_depth=7, n_estimators=100, subsample=0.8; total time=   2.2s\n"
     ]
    },
    {
     "name": "stderr",
     "output_type": "stream",
     "text": [
      "/home/min/anaconda3/envs/BIO/lib/python3.10/site-packages/xgboost/training.py:183: UserWarning: [16:10:40] WARNING: /workspace/src/learner.cc:738: \n",
      "Parameters: { \"use_label_encoder\" } are not used.\n",
      "\n",
      "  bst.update(dtrain, iteration=i, fobj=obj)\n",
      "/home/min/anaconda3/envs/BIO/lib/python3.10/site-packages/xgboost/training.py:183: UserWarning: [16:10:40] WARNING: /workspace/src/learner.cc:738: \n",
      "Parameters: { \"use_label_encoder\" } are not used.\n",
      "\n",
      "  bst.update(dtrain, iteration=i, fobj=obj)\n",
      "/home/min/anaconda3/envs/BIO/lib/python3.10/site-packages/xgboost/training.py:183: UserWarning: [16:10:41] WARNING: /workspace/src/learner.cc:738: \n",
      "Parameters: { \"use_label_encoder\" } are not used.\n",
      "\n",
      "  bst.update(dtrain, iteration=i, fobj=obj)\n",
      "/home/min/anaconda3/envs/BIO/lib/python3.10/site-packages/xgboost/training.py:183: UserWarning: [16:10:41] WARNING: /workspace/src/learner.cc:738: \n",
      "Parameters: { \"use_label_encoder\" } are not used.\n",
      "\n",
      "  bst.update(dtrain, iteration=i, fobj=obj)\n",
      "/home/min/anaconda3/envs/BIO/lib/python3.10/site-packages/xgboost/training.py:183: UserWarning: [16:10:41] WARNING: /workspace/src/learner.cc:738: \n",
      "Parameters: { \"use_label_encoder\" } are not used.\n",
      "\n",
      "  bst.update(dtrain, iteration=i, fobj=obj)\n",
      "/home/min/anaconda3/envs/BIO/lib/python3.10/site-packages/xgboost/training.py:183: UserWarning: [16:10:41] WARNING: /workspace/src/learner.cc:738: \n",
      "Parameters: { \"use_label_encoder\" } are not used.\n",
      "\n",
      "  bst.update(dtrain, iteration=i, fobj=obj)\n",
      "/home/min/anaconda3/envs/BIO/lib/python3.10/site-packages/xgboost/training.py:183: UserWarning: [16:10:41] WARNING: /workspace/src/learner.cc:738: \n",
      "Parameters: { \"use_label_encoder\" } are not used.\n",
      "\n",
      "  bst.update(dtrain, iteration=i, fobj=obj)\n",
      "/home/min/anaconda3/envs/BIO/lib/python3.10/site-packages/xgboost/training.py:183: UserWarning: [16:10:41] WARNING: /workspace/src/learner.cc:738: \n",
      "Parameters: { \"use_label_encoder\" } are not used.\n",
      "\n",
      "  bst.update(dtrain, iteration=i, fobj=obj)\n",
      "/home/min/anaconda3/envs/BIO/lib/python3.10/site-packages/xgboost/training.py:183: UserWarning: [16:10:41] WARNING: /workspace/src/learner.cc:738: \n",
      "Parameters: { \"use_label_encoder\" } are not used.\n",
      "\n",
      "  bst.update(dtrain, iteration=i, fobj=obj)\n"
     ]
    },
    {
     "name": "stdout",
     "output_type": "stream",
     "text": [
      "[CV] END colsample_bytree=0.9, learning_rate=0.01, max_depth=3, n_estimators=50, subsample=0.7; total time=   1.6s\n",
      "[CV] END colsample_bytree=0.9, learning_rate=0.01, max_depth=3, n_estimators=50, subsample=0.8; total time=   1.5s\n",
      "[CV] END colsample_bytree=0.9, learning_rate=0.01, max_depth=3, n_estimators=50, subsample=0.8; total time=   1.5s\n",
      "[CV] END colsample_bytree=0.9, learning_rate=0.01, max_depth=3, n_estimators=50, subsample=0.9; total time=   1.5s\n",
      "[CV] END colsample_bytree=0.9, learning_rate=0.01, max_depth=3, n_estimators=50, subsample=0.7; total time=   1.9s\n",
      "[CV] END colsample_bytree=0.9, learning_rate=0.01, max_depth=3, n_estimators=50, subsample=0.9; total time=   1.5s\n",
      "[CV] END colsample_bytree=0.8, learning_rate=0.1, max_depth=7, n_estimators=200, subsample=0.7; total time=   3.0s\n",
      "[CV] END colsample_bytree=0.8, learning_rate=0.1, max_depth=7, n_estimators=200, subsample=0.7; total time=   3.0s\n"
     ]
    },
    {
     "name": "stderr",
     "output_type": "stream",
     "text": [
      "/home/min/anaconda3/envs/BIO/lib/python3.10/site-packages/xgboost/training.py:183: UserWarning: [16:10:42] WARNING: /workspace/src/learner.cc:738: \n",
      "Parameters: { \"use_label_encoder\" } are not used.\n",
      "\n",
      "  bst.update(dtrain, iteration=i, fobj=obj)\n",
      "/home/min/anaconda3/envs/BIO/lib/python3.10/site-packages/xgboost/training.py:183: UserWarning: [16:10:42] WARNING: /workspace/src/learner.cc:738: \n",
      "Parameters: { \"use_label_encoder\" } are not used.\n",
      "\n",
      "  bst.update(dtrain, iteration=i, fobj=obj)\n",
      "/home/min/anaconda3/envs/BIO/lib/python3.10/site-packages/xgboost/training.py:183: UserWarning: [16:10:42] WARNING: /workspace/src/learner.cc:738: \n",
      "Parameters: { \"use_label_encoder\" } are not used.\n",
      "\n",
      "  bst.update(dtrain, iteration=i, fobj=obj)\n",
      "/home/min/anaconda3/envs/BIO/lib/python3.10/site-packages/xgboost/training.py:183: UserWarning: [16:10:42] WARNING: /workspace/src/learner.cc:738: \n",
      "Parameters: { \"use_label_encoder\" } are not used.\n",
      "\n",
      "  bst.update(dtrain, iteration=i, fobj=obj)\n",
      "/home/min/anaconda3/envs/BIO/lib/python3.10/site-packages/xgboost/training.py:183: UserWarning: [16:10:42] WARNING: /workspace/src/learner.cc:738: \n",
      "Parameters: { \"use_label_encoder\" } are not used.\n",
      "\n",
      "  bst.update(dtrain, iteration=i, fobj=obj)\n",
      "/home/min/anaconda3/envs/BIO/lib/python3.10/site-packages/xgboost/training.py:183: UserWarning: [16:10:42] WARNING: /workspace/src/learner.cc:738: \n",
      "Parameters: { \"use_label_encoder\" } are not used.\n",
      "\n",
      "  bst.update(dtrain, iteration=i, fobj=obj)\n"
     ]
    },
    {
     "name": "stdout",
     "output_type": "stream",
     "text": [
      "[CV] END colsample_bytree=0.8, learning_rate=0.1, max_depth=7, n_estimators=200, subsample=0.8; total time=   3.3s\n",
      "[CV] END colsample_bytree=0.9, learning_rate=0.01, max_depth=3, n_estimators=100, subsample=0.7; total time=   2.2s[CV] END colsample_bytree=0.8, learning_rate=0.1, max_depth=7, n_estimators=200, subsample=0.9; total time=   3.2s\n",
      "\n",
      "[CV] END colsample_bytree=0.8, learning_rate=0.1, max_depth=7, n_estimators=200, subsample=0.8; total time=   3.4s\n"
     ]
    },
    {
     "name": "stderr",
     "output_type": "stream",
     "text": [
      "/home/min/anaconda3/envs/BIO/lib/python3.10/site-packages/xgboost/training.py:183: UserWarning: [16:10:42] WARNING: /workspace/src/learner.cc:738: \n",
      "Parameters: { \"use_label_encoder\" } are not used.\n",
      "\n",
      "  bst.update(dtrain, iteration=i, fobj=obj)\n",
      "/home/min/anaconda3/envs/BIO/lib/python3.10/site-packages/xgboost/training.py:183: UserWarning: [16:10:43] WARNING: /workspace/src/learner.cc:738: \n",
      "Parameters: { \"use_label_encoder\" } are not used.\n",
      "\n",
      "  bst.update(dtrain, iteration=i, fobj=obj)\n"
     ]
    },
    {
     "name": "stdout",
     "output_type": "stream",
     "text": [
      "[CV] END colsample_bytree=0.9, learning_rate=0.01, max_depth=3, n_estimators=100, subsample=0.7; total time=   2.1s\n",
      "[CV] END colsample_bytree=0.9, learning_rate=0.01, max_depth=3, n_estimators=100, subsample=0.8; total time=   2.0s\n",
      "[CV] END colsample_bytree=0.8, learning_rate=0.1, max_depth=7, n_estimators=200, subsample=0.9; total time=   3.3s\n",
      "[CV] END colsample_bytree=0.9, learning_rate=0.01, max_depth=3, n_estimators=100, subsample=0.8; total time=   2.2s\n"
     ]
    },
    {
     "name": "stderr",
     "output_type": "stream",
     "text": [
      "/home/min/anaconda3/envs/BIO/lib/python3.10/site-packages/xgboost/training.py:183: UserWarning: [16:10:43] WARNING: /workspace/src/learner.cc:738: \n",
      "Parameters: { \"use_label_encoder\" } are not used.\n",
      "\n",
      "  bst.update(dtrain, iteration=i, fobj=obj)\n",
      "/home/min/anaconda3/envs/BIO/lib/python3.10/site-packages/xgboost/training.py:183: UserWarning: [16:10:43] WARNING: /workspace/src/learner.cc:738: \n",
      "Parameters: { \"use_label_encoder\" } are not used.\n",
      "\n",
      "  bst.update(dtrain, iteration=i, fobj=obj)\n",
      "/home/min/anaconda3/envs/BIO/lib/python3.10/site-packages/xgboost/training.py:183: UserWarning: [16:10:43] WARNING: /workspace/src/learner.cc:738: \n",
      "Parameters: { \"use_label_encoder\" } are not used.\n",
      "\n",
      "  bst.update(dtrain, iteration=i, fobj=obj)\n",
      "/home/min/anaconda3/envs/BIO/lib/python3.10/site-packages/xgboost/training.py:183: UserWarning: [16:10:43] WARNING: /workspace/src/learner.cc:738: \n",
      "Parameters: { \"use_label_encoder\" } are not used.\n",
      "\n",
      "  bst.update(dtrain, iteration=i, fobj=obj)\n",
      "/home/min/anaconda3/envs/BIO/lib/python3.10/site-packages/xgboost/training.py:183: UserWarning: [16:10:43] WARNING: /workspace/src/learner.cc:738: \n",
      "Parameters: { \"use_label_encoder\" } are not used.\n",
      "\n",
      "  bst.update(dtrain, iteration=i, fobj=obj)\n",
      "/home/min/anaconda3/envs/BIO/lib/python3.10/site-packages/xgboost/training.py:183: UserWarning: [16:10:43] WARNING: /workspace/src/learner.cc:738: \n",
      "Parameters: { \"use_label_encoder\" } are not used.\n",
      "\n",
      "  bst.update(dtrain, iteration=i, fobj=obj)\n"
     ]
    },
    {
     "name": "stdout",
     "output_type": "stream",
     "text": [
      "[CV] END colsample_bytree=0.9, learning_rate=0.01, max_depth=3, n_estimators=100, subsample=0.9; total time=   2.0s\n"
     ]
    },
    {
     "name": "stderr",
     "output_type": "stream",
     "text": [
      "/home/min/anaconda3/envs/BIO/lib/python3.10/site-packages/xgboost/training.py:183: UserWarning: [16:10:43] WARNING: /workspace/src/learner.cc:738: \n",
      "Parameters: { \"use_label_encoder\" } are not used.\n",
      "\n",
      "  bst.update(dtrain, iteration=i, fobj=obj)\n",
      "/home/min/anaconda3/envs/BIO/lib/python3.10/site-packages/xgboost/training.py:183: UserWarning: [16:10:43] WARNING: /workspace/src/learner.cc:738: \n",
      "Parameters: { \"use_label_encoder\" } are not used.\n",
      "\n",
      "  bst.update(dtrain, iteration=i, fobj=obj)\n"
     ]
    },
    {
     "name": "stdout",
     "output_type": "stream",
     "text": [
      "[CV] END colsample_bytree=0.9, learning_rate=0.01, max_depth=3, n_estimators=100, subsample=0.9; total time=   2.1s\n",
      "[CV] END colsample_bytree=0.9, learning_rate=0.01, max_depth=5, n_estimators=50, subsample=0.7; total time=   1.5s\n",
      "[CV] END colsample_bytree=0.9, learning_rate=0.01, max_depth=5, n_estimators=50, subsample=0.7; total time=   1.5s\n",
      "[CV] END colsample_bytree=0.9, learning_rate=0.01, max_depth=5, n_estimators=50, subsample=0.8; total time=   1.5s\n",
      "[CV] END colsample_bytree=0.9, learning_rate=0.01, max_depth=5, n_estimators=50, subsample=0.8; total time=   1.5s\n"
     ]
    },
    {
     "name": "stderr",
     "output_type": "stream",
     "text": [
      "/home/min/anaconda3/envs/BIO/lib/python3.10/site-packages/xgboost/training.py:183: UserWarning: [16:10:44] WARNING: /workspace/src/learner.cc:738: \n",
      "Parameters: { \"use_label_encoder\" } are not used.\n",
      "\n",
      "  bst.update(dtrain, iteration=i, fobj=obj)\n",
      "/home/min/anaconda3/envs/BIO/lib/python3.10/site-packages/xgboost/training.py:183: UserWarning: [16:10:44] WARNING: /workspace/src/learner.cc:738: \n",
      "Parameters: { \"use_label_encoder\" } are not used.\n",
      "\n",
      "  bst.update(dtrain, iteration=i, fobj=obj)\n"
     ]
    },
    {
     "name": "stdout",
     "output_type": "stream",
     "text": [
      "[CV] END colsample_bytree=0.9, learning_rate=0.01, max_depth=5, n_estimators=50, subsample=0.9; total time=   1.5s\n",
      "[CV] END colsample_bytree=0.9, learning_rate=0.01, max_depth=5, n_estimators=50, subsample=0.9; total time=   1.6s\n"
     ]
    },
    {
     "name": "stderr",
     "output_type": "stream",
     "text": [
      "/home/min/anaconda3/envs/BIO/lib/python3.10/site-packages/xgboost/training.py:183: UserWarning: [16:10:44] WARNING: /workspace/src/learner.cc:738: \n",
      "Parameters: { \"use_label_encoder\" } are not used.\n",
      "\n",
      "  bst.update(dtrain, iteration=i, fobj=obj)\n",
      "/home/min/anaconda3/envs/BIO/lib/python3.10/site-packages/xgboost/training.py:183: UserWarning: [16:10:45] WARNING: /workspace/src/learner.cc:738: \n",
      "Parameters: { \"use_label_encoder\" } are not used.\n",
      "\n",
      "  bst.update(dtrain, iteration=i, fobj=obj)\n",
      "/home/min/anaconda3/envs/BIO/lib/python3.10/site-packages/xgboost/training.py:183: UserWarning: [16:10:45] WARNING: /workspace/src/learner.cc:738: \n",
      "Parameters: { \"use_label_encoder\" } are not used.\n",
      "\n",
      "  bst.update(dtrain, iteration=i, fobj=obj)\n"
     ]
    },
    {
     "name": "stdout",
     "output_type": "stream",
     "text": [
      "[CV] END colsample_bytree=0.9, learning_rate=0.01, max_depth=3, n_estimators=200, subsample=0.7; total time=   3.1s\n",
      "[CV] END colsample_bytree=0.9, learning_rate=0.01, max_depth=3, n_estimators=200, subsample=0.7; total time=   3.1s\n"
     ]
    },
    {
     "name": "stderr",
     "output_type": "stream",
     "text": [
      "/home/min/anaconda3/envs/BIO/lib/python3.10/site-packages/xgboost/training.py:183: UserWarning: [16:10:45] WARNING: /workspace/src/learner.cc:738: \n",
      "Parameters: { \"use_label_encoder\" } are not used.\n",
      "\n",
      "  bst.update(dtrain, iteration=i, fobj=obj)\n",
      "/home/min/anaconda3/envs/BIO/lib/python3.10/site-packages/xgboost/training.py:183: UserWarning: [16:10:45] WARNING: /workspace/src/learner.cc:738: \n",
      "Parameters: { \"use_label_encoder\" } are not used.\n",
      "\n",
      "  bst.update(dtrain, iteration=i, fobj=obj)\n",
      "/home/min/anaconda3/envs/BIO/lib/python3.10/site-packages/xgboost/training.py:183: UserWarning: [16:10:45] WARNING: /workspace/src/learner.cc:738: \n",
      "Parameters: { \"use_label_encoder\" } are not used.\n",
      "\n",
      "  bst.update(dtrain, iteration=i, fobj=obj)\n"
     ]
    },
    {
     "name": "stdout",
     "output_type": "stream",
     "text": [
      "[CV] END colsample_bytree=0.9, learning_rate=0.01, max_depth=3, n_estimators=200, subsample=0.8; total time=   3.0s\n",
      "[CV] END colsample_bytree=0.9, learning_rate=0.01, max_depth=3, n_estimators=200, subsample=0.9; total time=   2.9s\n",
      "[CV] END colsample_bytree=0.9, learning_rate=0.01, max_depth=3, n_estimators=200, subsample=0.8; total time=   3.2s\n",
      "[CV] END colsample_bytree=0.9, learning_rate=0.01, max_depth=5, n_estimators=100, subsample=0.7; total time=   2.0s\n",
      "[CV] END colsample_bytree=0.9, learning_rate=0.01, max_depth=5, n_estimators=100, subsample=0.7; total time=   2.2s\n",
      "[CV] END colsample_bytree=0.9, learning_rate=0.01, max_depth=3, n_estimators=200, subsample=0.9; total time=   3.1s\n"
     ]
    },
    {
     "name": "stderr",
     "output_type": "stream",
     "text": [
      "/home/min/anaconda3/envs/BIO/lib/python3.10/site-packages/xgboost/training.py:183: UserWarning: [16:10:45] WARNING: /workspace/src/learner.cc:738: \n",
      "Parameters: { \"use_label_encoder\" } are not used.\n",
      "\n",
      "  bst.update(dtrain, iteration=i, fobj=obj)\n",
      "/home/min/anaconda3/envs/BIO/lib/python3.10/site-packages/xgboost/training.py:183: UserWarning: [16:10:45] WARNING: /workspace/src/learner.cc:738: \n",
      "Parameters: { \"use_label_encoder\" } are not used.\n",
      "\n",
      "  bst.update(dtrain, iteration=i, fobj=obj)\n",
      "/home/min/anaconda3/envs/BIO/lib/python3.10/site-packages/xgboost/training.py:183: UserWarning: [16:10:45] WARNING: /workspace/src/learner.cc:738: \n",
      "Parameters: { \"use_label_encoder\" } are not used.\n",
      "\n",
      "  bst.update(dtrain, iteration=i, fobj=obj)\n",
      "/home/min/anaconda3/envs/BIO/lib/python3.10/site-packages/xgboost/training.py:183: UserWarning: [16:10:45] WARNING: /workspace/src/learner.cc:738: \n",
      "Parameters: { \"use_label_encoder\" } are not used.\n",
      "\n",
      "  bst.update(dtrain, iteration=i, fobj=obj)\n",
      "/home/min/anaconda3/envs/BIO/lib/python3.10/site-packages/xgboost/training.py:183: UserWarning: [16:10:45] WARNING: /workspace/src/learner.cc:738: \n",
      "Parameters: { \"use_label_encoder\" } are not used.\n",
      "\n",
      "  bst.update(dtrain, iteration=i, fobj=obj)\n"
     ]
    },
    {
     "name": "stdout",
     "output_type": "stream",
     "text": [
      "[CV] END colsample_bytree=0.9, learning_rate=0.01, max_depth=5, n_estimators=100, subsample=0.8; total time=   2.1s\n"
     ]
    },
    {
     "name": "stderr",
     "output_type": "stream",
     "text": [
      "/home/min/anaconda3/envs/BIO/lib/python3.10/site-packages/xgboost/training.py:183: UserWarning: [16:10:45] WARNING: /workspace/src/learner.cc:738: \n",
      "Parameters: { \"use_label_encoder\" } are not used.\n",
      "\n",
      "  bst.update(dtrain, iteration=i, fobj=obj)\n",
      "/home/min/anaconda3/envs/BIO/lib/python3.10/site-packages/xgboost/training.py:183: UserWarning: [16:10:46] WARNING: /workspace/src/learner.cc:738: \n",
      "Parameters: { \"use_label_encoder\" } are not used.\n",
      "\n",
      "  bst.update(dtrain, iteration=i, fobj=obj)\n",
      "/home/min/anaconda3/envs/BIO/lib/python3.10/site-packages/xgboost/training.py:183: UserWarning: [16:10:46] WARNING: /workspace/src/learner.cc:738: \n",
      "Parameters: { \"use_label_encoder\" } are not used.\n",
      "\n",
      "  bst.update(dtrain, iteration=i, fobj=obj)\n"
     ]
    },
    {
     "name": "stdout",
     "output_type": "stream",
     "text": [
      "[CV] END colsample_bytree=0.9, learning_rate=0.01, max_depth=5, n_estimators=100, subsample=0.8; total time=   2.1s\n",
      "[CV] END colsample_bytree=0.9, learning_rate=0.01, max_depth=5, n_estimators=100, subsample=0.9; total time=   2.0s\n",
      "[CV] END colsample_bytree=0.9, learning_rate=0.01, max_depth=5, n_estimators=100, subsample=0.9; total time=   2.0s\n"
     ]
    },
    {
     "name": "stderr",
     "output_type": "stream",
     "text": [
      "/home/min/anaconda3/envs/BIO/lib/python3.10/site-packages/xgboost/training.py:183: UserWarning: [16:10:46] WARNING: /workspace/src/learner.cc:738: \n",
      "Parameters: { \"use_label_encoder\" } are not used.\n",
      "\n",
      "  bst.update(dtrain, iteration=i, fobj=obj)\n",
      "/home/min/anaconda3/envs/BIO/lib/python3.10/site-packages/xgboost/training.py:183: UserWarning: [16:10:46] WARNING: /workspace/src/learner.cc:738: \n",
      "Parameters: { \"use_label_encoder\" } are not used.\n",
      "\n",
      "  bst.update(dtrain, iteration=i, fobj=obj)\n"
     ]
    },
    {
     "name": "stdout",
     "output_type": "stream",
     "text": [
      "[CV] END colsample_bytree=0.9, learning_rate=0.01, max_depth=7, n_estimators=50, subsample=0.7; total time=   1.5s\n",
      "[CV] END colsample_bytree=0.9, learning_rate=0.01, max_depth=7, n_estimators=50, subsample=0.7; total time=   1.5s\n",
      "[CV] END colsample_bytree=0.9, learning_rate=0.01, max_depth=7, n_estimators=50, subsample=0.8; total time=   1.6s\n",
      "[CV] END colsample_bytree=0.9, learning_rate=0.01, max_depth=7, n_estimators=50, subsample=0.8; total time=   1.6s\n"
     ]
    },
    {
     "name": "stderr",
     "output_type": "stream",
     "text": [
      "/home/min/anaconda3/envs/BIO/lib/python3.10/site-packages/xgboost/training.py:183: UserWarning: [16:10:46] WARNING: /workspace/src/learner.cc:738: \n",
      "Parameters: { \"use_label_encoder\" } are not used.\n",
      "\n",
      "  bst.update(dtrain, iteration=i, fobj=obj)\n",
      "/home/min/anaconda3/envs/BIO/lib/python3.10/site-packages/xgboost/training.py:183: UserWarning: [16:10:47] WARNING: /workspace/src/learner.cc:738: \n",
      "Parameters: { \"use_label_encoder\" } are not used.\n",
      "\n",
      "  bst.update(dtrain, iteration=i, fobj=obj)\n"
     ]
    },
    {
     "name": "stdout",
     "output_type": "stream",
     "text": [
      "[CV] END colsample_bytree=0.9, learning_rate=0.01, max_depth=7, n_estimators=50, subsample=0.9; total time=   1.6s\n",
      "[CV] END colsample_bytree=0.9, learning_rate=0.01, max_depth=7, n_estimators=50, subsample=0.9; total time=   1.5s\n"
     ]
    },
    {
     "name": "stderr",
     "output_type": "stream",
     "text": [
      "/home/min/anaconda3/envs/BIO/lib/python3.10/site-packages/xgboost/training.py:183: UserWarning: [16:10:47] WARNING: /workspace/src/learner.cc:738: \n",
      "Parameters: { \"use_label_encoder\" } are not used.\n",
      "\n",
      "  bst.update(dtrain, iteration=i, fobj=obj)\n",
      "/home/min/anaconda3/envs/BIO/lib/python3.10/site-packages/xgboost/training.py:183: UserWarning: [16:10:47] WARNING: /workspace/src/learner.cc:738: \n",
      "Parameters: { \"use_label_encoder\" } are not used.\n",
      "\n",
      "  bst.update(dtrain, iteration=i, fobj=obj)\n",
      "/home/min/anaconda3/envs/BIO/lib/python3.10/site-packages/xgboost/training.py:183: UserWarning: [16:10:47] WARNING: /workspace/src/learner.cc:738: \n",
      "Parameters: { \"use_label_encoder\" } are not used.\n",
      "\n",
      "  bst.update(dtrain, iteration=i, fobj=obj)\n",
      "/home/min/anaconda3/envs/BIO/lib/python3.10/site-packages/xgboost/training.py:183: UserWarning: [16:10:47] WARNING: /workspace/src/learner.cc:738: \n",
      "Parameters: { \"use_label_encoder\" } are not used.\n",
      "\n",
      "  bst.update(dtrain, iteration=i, fobj=obj)\n"
     ]
    },
    {
     "name": "stdout",
     "output_type": "stream",
     "text": [
      "[CV] END colsample_bytree=0.9, learning_rate=0.01, max_depth=5, n_estimators=200, subsample=0.7; total time=   3.0s\n",
      "[CV] END colsample_bytree=0.9, learning_rate=0.01, max_depth=5, n_estimators=200, subsample=0.7; total time=   3.1s\n"
     ]
    },
    {
     "name": "stderr",
     "output_type": "stream",
     "text": [
      "/home/min/anaconda3/envs/BIO/lib/python3.10/site-packages/xgboost/training.py:183: UserWarning: [16:10:47] WARNING: /workspace/src/learner.cc:738: \n",
      "Parameters: { \"use_label_encoder\" } are not used.\n",
      "\n",
      "  bst.update(dtrain, iteration=i, fobj=obj)\n",
      "/home/min/anaconda3/envs/BIO/lib/python3.10/site-packages/xgboost/training.py:183: UserWarning: [16:10:47] WARNING: /workspace/src/learner.cc:738: \n",
      "Parameters: { \"use_label_encoder\" } are not used.\n",
      "\n",
      "  bst.update(dtrain, iteration=i, fobj=obj)\n"
     ]
    },
    {
     "name": "stdout",
     "output_type": "stream",
     "text": [
      "[CV] END colsample_bytree=0.9, learning_rate=0.01, max_depth=5, n_estimators=200, subsample=0.8; total time=   3.1s\n",
      "[CV] END colsample_bytree=0.9, learning_rate=0.01, max_depth=7, n_estimators=100, subsample=0.7; total time=   2.0s\n",
      "[CV] END colsample_bytree=0.9, learning_rate=0.01, max_depth=5, n_estimators=200, subsample=0.8; total time=   3.2s\n",
      "[CV] END colsample_bytree=0.9, learning_rate=0.01, max_depth=5, n_estimators=200, subsample=0.9; total time=   2.9s\n"
     ]
    },
    {
     "name": "stderr",
     "output_type": "stream",
     "text": [
      "/home/min/anaconda3/envs/BIO/lib/python3.10/site-packages/xgboost/training.py:183: UserWarning: [16:10:48] WARNING: /workspace/src/learner.cc:738: \n",
      "Parameters: { \"use_label_encoder\" } are not used.\n",
      "\n",
      "  bst.update(dtrain, iteration=i, fobj=obj)\n",
      "/home/min/anaconda3/envs/BIO/lib/python3.10/site-packages/xgboost/training.py:183: UserWarning: [16:10:48] WARNING: /workspace/src/learner.cc:738: \n",
      "Parameters: { \"use_label_encoder\" } are not used.\n",
      "\n",
      "  bst.update(dtrain, iteration=i, fobj=obj)\n"
     ]
    },
    {
     "name": "stdout",
     "output_type": "stream",
     "text": [
      "[CV] END colsample_bytree=0.9, learning_rate=0.01, max_depth=7, n_estimators=100, subsample=0.7; total time=   2.1s\n",
      "[CV] END colsample_bytree=0.9, learning_rate=0.01, max_depth=5, n_estimators=200, subsample=0.9; total time=   3.0s\n",
      "[CV] END colsample_bytree=0.9, learning_rate=0.01, max_depth=7, n_estimators=100, subsample=0.8; total time=   2.0s\n"
     ]
    },
    {
     "name": "stderr",
     "output_type": "stream",
     "text": [
      "/home/min/anaconda3/envs/BIO/lib/python3.10/site-packages/xgboost/training.py:183: UserWarning: [16:10:48] WARNING: /workspace/src/learner.cc:738: \n",
      "Parameters: { \"use_label_encoder\" } are not used.\n",
      "\n",
      "  bst.update(dtrain, iteration=i, fobj=obj)\n",
      "/home/min/anaconda3/envs/BIO/lib/python3.10/site-packages/xgboost/training.py:183: UserWarning: [16:10:48] WARNING: /workspace/src/learner.cc:738: \n",
      "Parameters: { \"use_label_encoder\" } are not used.\n",
      "\n",
      "  bst.update(dtrain, iteration=i, fobj=obj)\n",
      "/home/min/anaconda3/envs/BIO/lib/python3.10/site-packages/xgboost/training.py:183: UserWarning: [16:10:48] WARNING: /workspace/src/learner.cc:738: \n",
      "Parameters: { \"use_label_encoder\" } are not used.\n",
      "\n",
      "  bst.update(dtrain, iteration=i, fobj=obj)\n",
      "/home/min/anaconda3/envs/BIO/lib/python3.10/site-packages/xgboost/training.py:183: UserWarning: [16:10:48] WARNING: /workspace/src/learner.cc:738: \n",
      "Parameters: { \"use_label_encoder\" } are not used.\n",
      "\n",
      "  bst.update(dtrain, iteration=i, fobj=obj)\n"
     ]
    },
    {
     "name": "stdout",
     "output_type": "stream",
     "text": [
      "[CV] END colsample_bytree=0.9, learning_rate=0.01, max_depth=7, n_estimators=100, subsample=0.8; total time=   2.1s\n"
     ]
    },
    {
     "name": "stderr",
     "output_type": "stream",
     "text": [
      "/home/min/anaconda3/envs/BIO/lib/python3.10/site-packages/xgboost/training.py:183: UserWarning: [16:10:48] WARNING: /workspace/src/learner.cc:738: \n",
      "Parameters: { \"use_label_encoder\" } are not used.\n",
      "\n",
      "  bst.update(dtrain, iteration=i, fobj=obj)\n",
      "/home/min/anaconda3/envs/BIO/lib/python3.10/site-packages/xgboost/training.py:183: UserWarning: [16:10:48] WARNING: /workspace/src/learner.cc:738: \n",
      "Parameters: { \"use_label_encoder\" } are not used.\n",
      "\n",
      "  bst.update(dtrain, iteration=i, fobj=obj)\n",
      "/home/min/anaconda3/envs/BIO/lib/python3.10/site-packages/xgboost/training.py:183: UserWarning: [16:10:48] WARNING: /workspace/src/learner.cc:738: \n",
      "Parameters: { \"use_label_encoder\" } are not used.\n",
      "\n",
      "  bst.update(dtrain, iteration=i, fobj=obj)\n"
     ]
    },
    {
     "name": "stdout",
     "output_type": "stream",
     "text": [
      "[CV] END colsample_bytree=0.9, learning_rate=0.01, max_depth=7, n_estimators=100, subsample=0.9; total time=   2.0s\n",
      "[CV] END colsample_bytree=0.9, learning_rate=0.01, max_depth=7, n_estimators=100, subsample=0.9; total time=   2.3s\n",
      "[CV] END colsample_bytree=0.9, learning_rate=0.05, max_depth=3, n_estimators=50, subsample=0.7; total time=   1.5s\n"
     ]
    },
    {
     "name": "stderr",
     "output_type": "stream",
     "text": [
      "/home/min/anaconda3/envs/BIO/lib/python3.10/site-packages/xgboost/training.py:183: UserWarning: [16:10:49] WARNING: /workspace/src/learner.cc:738: \n",
      "Parameters: { \"use_label_encoder\" } are not used.\n",
      "\n",
      "  bst.update(dtrain, iteration=i, fobj=obj)\n"
     ]
    },
    {
     "name": "stdout",
     "output_type": "stream",
     "text": [
      "[CV] END colsample_bytree=0.9, learning_rate=0.05, max_depth=3, n_estimators=50, subsample=0.8; total time=   1.6s\n",
      "[CV] END colsample_bytree=0.9, learning_rate=0.05, max_depth=3, n_estimators=50, subsample=0.7; total time=   1.6s\n",
      "[CV] END colsample_bytree=0.9, learning_rate=0.05, max_depth=3, n_estimators=50, subsample=0.8; total time=   1.6s\n"
     ]
    },
    {
     "name": "stderr",
     "output_type": "stream",
     "text": [
      "/home/min/anaconda3/envs/BIO/lib/python3.10/site-packages/xgboost/training.py:183: UserWarning: [16:10:49] WARNING: /workspace/src/learner.cc:738: \n",
      "Parameters: { \"use_label_encoder\" } are not used.\n",
      "\n",
      "  bst.update(dtrain, iteration=i, fobj=obj)\n"
     ]
    },
    {
     "name": "stdout",
     "output_type": "stream",
     "text": [
      "[CV] END colsample_bytree=0.9, learning_rate=0.05, max_depth=3, n_estimators=50, subsample=0.9; total time=   1.5s\n",
      "[CV] END colsample_bytree=0.9, learning_rate=0.05, max_depth=3, n_estimators=50, subsample=0.9; total time=   1.6s\n"
     ]
    },
    {
     "name": "stderr",
     "output_type": "stream",
     "text": [
      "/home/min/anaconda3/envs/BIO/lib/python3.10/site-packages/xgboost/training.py:183: UserWarning: [16:10:49] WARNING: /workspace/src/learner.cc:738: \n",
      "Parameters: { \"use_label_encoder\" } are not used.\n",
      "\n",
      "  bst.update(dtrain, iteration=i, fobj=obj)\n",
      "/home/min/anaconda3/envs/BIO/lib/python3.10/site-packages/xgboost/training.py:183: UserWarning: [16:10:49] WARNING: /workspace/src/learner.cc:738: \n",
      "Parameters: { \"use_label_encoder\" } are not used.\n",
      "\n",
      "  bst.update(dtrain, iteration=i, fobj=obj)\n"
     ]
    },
    {
     "name": "stdout",
     "output_type": "stream",
     "text": [
      "[CV] END colsample_bytree=0.9, learning_rate=0.01, max_depth=7, n_estimators=200, subsample=0.7; total time=   3.1s\n",
      "[CV] END colsample_bytree=0.9, learning_rate=0.01, max_depth=7, n_estimators=200, subsample=0.7; total time=   3.0s\n",
      "[CV] END colsample_bytree=0.9, learning_rate=0.01, max_depth=7, n_estimators=200, subsample=0.8; total time=   3.0s\n"
     ]
    },
    {
     "name": "stderr",
     "output_type": "stream",
     "text": [
      "/home/min/anaconda3/envs/BIO/lib/python3.10/site-packages/xgboost/training.py:183: UserWarning: [16:10:50] WARNING: /workspace/src/learner.cc:738: \n",
      "Parameters: { \"use_label_encoder\" } are not used.\n",
      "\n",
      "  bst.update(dtrain, iteration=i, fobj=obj)\n",
      "/home/min/anaconda3/envs/BIO/lib/python3.10/site-packages/xgboost/training.py:183: UserWarning: [16:10:50] WARNING: /workspace/src/learner.cc:738: \n",
      "Parameters: { \"use_label_encoder\" } are not used.\n",
      "\n",
      "  bst.update(dtrain, iteration=i, fobj=obj)\n",
      "/home/min/anaconda3/envs/BIO/lib/python3.10/site-packages/xgboost/training.py:183: UserWarning: [16:10:50] WARNING: /workspace/src/learner.cc:738: \n",
      "Parameters: { \"use_label_encoder\" } are not used.\n",
      "\n",
      "  bst.update(dtrain, iteration=i, fobj=obj)\n"
     ]
    },
    {
     "name": "stdout",
     "output_type": "stream",
     "text": [
      "[CV] END colsample_bytree=0.9, learning_rate=0.05, max_depth=3, n_estimators=100, subsample=0.7; total time=   2.0s\n",
      "[CV] END colsample_bytree=0.9, learning_rate=0.01, max_depth=7, n_estimators=200, subsample=0.8; total time=   3.3s\n",
      "[CV] END colsample_bytree=0.9, learning_rate=0.01, max_depth=7, n_estimators=200, subsample=0.9; total time=   3.0s\n"
     ]
    },
    {
     "name": "stderr",
     "output_type": "stream",
     "text": [
      "/home/min/anaconda3/envs/BIO/lib/python3.10/site-packages/xgboost/training.py:183: UserWarning: [16:10:50] WARNING: /workspace/src/learner.cc:738: \n",
      "Parameters: { \"use_label_encoder\" } are not used.\n",
      "\n",
      "  bst.update(dtrain, iteration=i, fobj=obj)\n",
      "/home/min/anaconda3/envs/BIO/lib/python3.10/site-packages/xgboost/training.py:183: UserWarning: [16:10:50] WARNING: /workspace/src/learner.cc:738: \n",
      "Parameters: { \"use_label_encoder\" } are not used.\n",
      "\n",
      "  bst.update(dtrain, iteration=i, fobj=obj)\n",
      "/home/min/anaconda3/envs/BIO/lib/python3.10/site-packages/xgboost/training.py:183: UserWarning: [16:10:50] WARNING: /workspace/src/learner.cc:738: \n",
      "Parameters: { \"use_label_encoder\" } are not used.\n",
      "\n",
      "  bst.update(dtrain, iteration=i, fobj=obj)\n",
      "/home/min/anaconda3/envs/BIO/lib/python3.10/site-packages/xgboost/training.py:183: UserWarning: [16:10:50] WARNING: /workspace/src/learner.cc:738: \n",
      "Parameters: { \"use_label_encoder\" } are not used.\n",
      "\n",
      "  bst.update(dtrain, iteration=i, fobj=obj)\n"
     ]
    },
    {
     "name": "stdout",
     "output_type": "stream",
     "text": [
      "[CV] END colsample_bytree=0.9, learning_rate=0.05, max_depth=3, n_estimators=100, subsample=0.7; total time=   2.0s\n"
     ]
    },
    {
     "name": "stderr",
     "output_type": "stream",
     "text": [
      "/home/min/anaconda3/envs/BIO/lib/python3.10/site-packages/xgboost/training.py:183: UserWarning: [16:10:50] WARNING: /workspace/src/learner.cc:738: \n",
      "Parameters: { \"use_label_encoder\" } are not used.\n",
      "\n",
      "  bst.update(dtrain, iteration=i, fobj=obj)\n",
      "/home/min/anaconda3/envs/BIO/lib/python3.10/site-packages/xgboost/training.py:183: UserWarning: [16:10:50] WARNING: /workspace/src/learner.cc:738: \n",
      "Parameters: { \"use_label_encoder\" } are not used.\n",
      "\n",
      "  bst.update(dtrain, iteration=i, fobj=obj)\n",
      "/home/min/anaconda3/envs/BIO/lib/python3.10/site-packages/xgboost/training.py:183: UserWarning: [16:10:50] WARNING: /workspace/src/learner.cc:738: \n",
      "Parameters: { \"use_label_encoder\" } are not used.\n",
      "\n",
      "  bst.update(dtrain, iteration=i, fobj=obj)\n"
     ]
    },
    {
     "name": "stdout",
     "output_type": "stream",
     "text": [
      "[CV] END colsample_bytree=0.9, learning_rate=0.01, max_depth=7, n_estimators=200, subsample=0.9; total time=   3.2s\n",
      "[CV] END colsample_bytree=0.9, learning_rate=0.05, max_depth=3, n_estimators=100, subsample=0.8; total time=   2.0s\n"
     ]
    },
    {
     "name": "stderr",
     "output_type": "stream",
     "text": [
      "/home/min/anaconda3/envs/BIO/lib/python3.10/site-packages/xgboost/training.py:183: UserWarning: [16:10:51] WARNING: /workspace/src/learner.cc:738: \n",
      "Parameters: { \"use_label_encoder\" } are not used.\n",
      "\n",
      "  bst.update(dtrain, iteration=i, fobj=obj)\n",
      "/home/min/anaconda3/envs/BIO/lib/python3.10/site-packages/xgboost/training.py:183: UserWarning: [16:10:51] WARNING: /workspace/src/learner.cc:738: \n",
      "Parameters: { \"use_label_encoder\" } are not used.\n",
      "\n",
      "  bst.update(dtrain, iteration=i, fobj=obj)\n"
     ]
    },
    {
     "name": "stdout",
     "output_type": "stream",
     "text": [
      "[CV] END colsample_bytree=0.9, learning_rate=0.05, max_depth=3, n_estimators=100, subsample=0.8; total time=   2.1s\n",
      "[CV] END colsample_bytree=0.9, learning_rate=0.05, max_depth=3, n_estimators=100, subsample=0.9; total time=   2.0s\n"
     ]
    },
    {
     "name": "stderr",
     "output_type": "stream",
     "text": [
      "/home/min/anaconda3/envs/BIO/lib/python3.10/site-packages/xgboost/training.py:183: UserWarning: [16:10:51] WARNING: /workspace/src/learner.cc:738: \n",
      "Parameters: { \"use_label_encoder\" } are not used.\n",
      "\n",
      "  bst.update(dtrain, iteration=i, fobj=obj)\n",
      "/home/min/anaconda3/envs/BIO/lib/python3.10/site-packages/xgboost/training.py:183: UserWarning: [16:10:51] WARNING: /workspace/src/learner.cc:738: \n",
      "Parameters: { \"use_label_encoder\" } are not used.\n",
      "\n",
      "  bst.update(dtrain, iteration=i, fobj=obj)\n"
     ]
    },
    {
     "name": "stdout",
     "output_type": "stream",
     "text": [
      "[CV] END colsample_bytree=0.9, learning_rate=0.05, max_depth=3, n_estimators=100, subsample=0.9; total time=   2.1s\n",
      "[CV] END colsample_bytree=0.9, learning_rate=0.05, max_depth=5, n_estimators=50, subsample=0.7; total time=   1.6s\n",
      "[CV] END colsample_bytree=0.9, learning_rate=0.05, max_depth=5, n_estimators=50, subsample=0.7; total time=   1.5s\n",
      "[CV] END colsample_bytree=0.9, learning_rate=0.05, max_depth=5, n_estimators=50, subsample=0.8; total time=   1.6s\n"
     ]
    },
    {
     "name": "stderr",
     "output_type": "stream",
     "text": [
      "/home/min/anaconda3/envs/BIO/lib/python3.10/site-packages/xgboost/training.py:183: UserWarning: [16:10:51] WARNING: /workspace/src/learner.cc:738: \n",
      "Parameters: { \"use_label_encoder\" } are not used.\n",
      "\n",
      "  bst.update(dtrain, iteration=i, fobj=obj)\n",
      "/home/min/anaconda3/envs/BIO/lib/python3.10/site-packages/xgboost/training.py:183: UserWarning: [16:10:51] WARNING: /workspace/src/learner.cc:738: \n",
      "Parameters: { \"use_label_encoder\" } are not used.\n",
      "\n",
      "  bst.update(dtrain, iteration=i, fobj=obj)\n"
     ]
    },
    {
     "name": "stdout",
     "output_type": "stream",
     "text": [
      "[CV] END colsample_bytree=0.9, learning_rate=0.05, max_depth=5, n_estimators=50, subsample=0.8; total time=   1.5s\n",
      "[CV] END colsample_bytree=0.9, learning_rate=0.05, max_depth=5, n_estimators=50, subsample=0.9; total time=   1.6s\n"
     ]
    },
    {
     "name": "stderr",
     "output_type": "stream",
     "text": [
      "/home/min/anaconda3/envs/BIO/lib/python3.10/site-packages/xgboost/training.py:183: UserWarning: [16:10:52] WARNING: /workspace/src/learner.cc:738: \n",
      "Parameters: { \"use_label_encoder\" } are not used.\n",
      "\n",
      "  bst.update(dtrain, iteration=i, fobj=obj)\n",
      "/home/min/anaconda3/envs/BIO/lib/python3.10/site-packages/xgboost/training.py:183: UserWarning: [16:10:52] WARNING: /workspace/src/learner.cc:738: \n",
      "Parameters: { \"use_label_encoder\" } are not used.\n",
      "\n",
      "  bst.update(dtrain, iteration=i, fobj=obj)\n"
     ]
    },
    {
     "name": "stdout",
     "output_type": "stream",
     "text": [
      "[CV] END colsample_bytree=0.9, learning_rate=0.05, max_depth=5, n_estimators=50, subsample=0.9; total time=   1.5s\n",
      "[CV] END colsample_bytree=0.9, learning_rate=0.05, max_depth=3, n_estimators=200, subsample=0.7; total time=   3.0s\n"
     ]
    },
    {
     "name": "stderr",
     "output_type": "stream",
     "text": [
      "/home/min/anaconda3/envs/BIO/lib/python3.10/site-packages/xgboost/training.py:183: UserWarning: [16:10:52] WARNING: /workspace/src/learner.cc:738: \n",
      "Parameters: { \"use_label_encoder\" } are not used.\n",
      "\n",
      "  bst.update(dtrain, iteration=i, fobj=obj)\n",
      "/home/min/anaconda3/envs/BIO/lib/python3.10/site-packages/xgboost/training.py:183: UserWarning: [16:10:52] WARNING: /workspace/src/learner.cc:738: \n",
      "Parameters: { \"use_label_encoder\" } are not used.\n",
      "\n",
      "  bst.update(dtrain, iteration=i, fobj=obj)\n"
     ]
    },
    {
     "name": "stdout",
     "output_type": "stream",
     "text": [
      "[CV] END colsample_bytree=0.9, learning_rate=0.05, max_depth=3, n_estimators=200, subsample=0.7; total time=   3.0s\n",
      "[CV] END colsample_bytree=0.9, learning_rate=0.05, max_depth=3, n_estimators=200, subsample=0.8; total time=   3.0s\n",
      "[CV] END colsample_bytree=0.9, learning_rate=0.05, max_depth=3, n_estimators=200, subsample=0.8; total time=   3.1s\n"
     ]
    },
    {
     "name": "stderr",
     "output_type": "stream",
     "text": [
      "/home/min/anaconda3/envs/BIO/lib/python3.10/site-packages/xgboost/training.py:183: UserWarning: [16:10:52] WARNING: /workspace/src/learner.cc:738: \n",
      "Parameters: { \"use_label_encoder\" } are not used.\n",
      "\n",
      "  bst.update(dtrain, iteration=i, fobj=obj)\n",
      "/home/min/anaconda3/envs/BIO/lib/python3.10/site-packages/xgboost/training.py:183: UserWarning: [16:10:52] WARNING: /workspace/src/learner.cc:738: \n",
      "Parameters: { \"use_label_encoder\" } are not used.\n",
      "\n",
      "  bst.update(dtrain, iteration=i, fobj=obj)\n"
     ]
    },
    {
     "name": "stdout",
     "output_type": "stream",
     "text": [
      "[CV] END colsample_bytree=0.9, learning_rate=0.05, max_depth=5, n_estimators=100, subsample=0.7; total time=   2.0s\n",
      "[CV] END colsample_bytree=0.9, learning_rate=0.05, max_depth=3, n_estimators=200, subsample=0.9; total time=   2.9s\n"
     ]
    },
    {
     "name": "stderr",
     "output_type": "stream",
     "text": [
      "/home/min/anaconda3/envs/BIO/lib/python3.10/site-packages/xgboost/training.py:183: UserWarning: [16:10:53] WARNING: /workspace/src/learner.cc:738: \n",
      "Parameters: { \"use_label_encoder\" } are not used.\n",
      "\n",
      "  bst.update(dtrain, iteration=i, fobj=obj)\n",
      "/home/min/anaconda3/envs/BIO/lib/python3.10/site-packages/xgboost/training.py:183: UserWarning: [16:10:53] WARNING: /workspace/src/learner.cc:738: \n",
      "Parameters: { \"use_label_encoder\" } are not used.\n",
      "\n",
      "  bst.update(dtrain, iteration=i, fobj=obj)\n"
     ]
    },
    {
     "name": "stdout",
     "output_type": "stream",
     "text": [
      "[CV] END colsample_bytree=0.9, learning_rate=0.05, max_depth=3, n_estimators=200, subsample=0.9; total time=   3.1s\n",
      "[CV] END colsample_bytree=0.9, learning_rate=0.05, max_depth=5, n_estimators=100, subsample=0.7; total time=   2.0s\n",
      "[CV] END colsample_bytree=0.9, learning_rate=0.05, max_depth=5, n_estimators=100, subsample=0.8; total time=   2.0s\n"
     ]
    },
    {
     "name": "stderr",
     "output_type": "stream",
     "text": [
      "/home/min/anaconda3/envs/BIO/lib/python3.10/site-packages/xgboost/training.py:183: UserWarning: [16:10:53] WARNING: /workspace/src/learner.cc:738: \n",
      "Parameters: { \"use_label_encoder\" } are not used.\n",
      "\n",
      "  bst.update(dtrain, iteration=i, fobj=obj)\n",
      "/home/min/anaconda3/envs/BIO/lib/python3.10/site-packages/xgboost/training.py:183: UserWarning: [16:10:53] WARNING: /workspace/src/learner.cc:738: \n",
      "Parameters: { \"use_label_encoder\" } are not used.\n",
      "\n",
      "  bst.update(dtrain, iteration=i, fobj=obj)\n",
      "/home/min/anaconda3/envs/BIO/lib/python3.10/site-packages/xgboost/training.py:183: UserWarning: [16:10:53] WARNING: /workspace/src/learner.cc:738: \n",
      "Parameters: { \"use_label_encoder\" } are not used.\n",
      "\n",
      "  bst.update(dtrain, iteration=i, fobj=obj)\n",
      "/home/min/anaconda3/envs/BIO/lib/python3.10/site-packages/xgboost/training.py:183: UserWarning: [16:10:53] WARNING: /workspace/src/learner.cc:738: \n",
      "Parameters: { \"use_label_encoder\" } are not used.\n",
      "\n",
      "  bst.update(dtrain, iteration=i, fobj=obj)\n",
      "/home/min/anaconda3/envs/BIO/lib/python3.10/site-packages/xgboost/training.py:183: UserWarning: [16:10:53] WARNING: /workspace/src/learner.cc:738: \n",
      "Parameters: { \"use_label_encoder\" } are not used.\n",
      "\n",
      "  bst.update(dtrain, iteration=i, fobj=obj)\n"
     ]
    },
    {
     "name": "stdout",
     "output_type": "stream",
     "text": [
      "[CV] END colsample_bytree=0.9, learning_rate=0.05, max_depth=5, n_estimators=100, subsample=0.8; total time=   2.0s\n"
     ]
    },
    {
     "name": "stderr",
     "output_type": "stream",
     "text": [
      "/home/min/anaconda3/envs/BIO/lib/python3.10/site-packages/xgboost/training.py:183: UserWarning: [16:10:53] WARNING: /workspace/src/learner.cc:738: \n",
      "Parameters: { \"use_label_encoder\" } are not used.\n",
      "\n",
      "  bst.update(dtrain, iteration=i, fobj=obj)\n",
      "/home/min/anaconda3/envs/BIO/lib/python3.10/site-packages/xgboost/training.py:183: UserWarning: [16:10:53] WARNING: /workspace/src/learner.cc:738: \n",
      "Parameters: { \"use_label_encoder\" } are not used.\n",
      "\n",
      "  bst.update(dtrain, iteration=i, fobj=obj)\n",
      "/home/min/anaconda3/envs/BIO/lib/python3.10/site-packages/xgboost/training.py:183: UserWarning: [16:10:53] WARNING: /workspace/src/learner.cc:738: \n",
      "Parameters: { \"use_label_encoder\" } are not used.\n",
      "\n",
      "  bst.update(dtrain, iteration=i, fobj=obj)\n"
     ]
    },
    {
     "name": "stdout",
     "output_type": "stream",
     "text": [
      "[CV] END colsample_bytree=0.9, learning_rate=0.05, max_depth=5, n_estimators=100, subsample=0.9; total time=   1.9s\n",
      "[CV] END colsample_bytree=0.9, learning_rate=0.05, max_depth=5, n_estimators=100, subsample=0.9; total time=   2.1s\n"
     ]
    },
    {
     "name": "stderr",
     "output_type": "stream",
     "text": [
      "/home/min/anaconda3/envs/BIO/lib/python3.10/site-packages/xgboost/training.py:183: UserWarning: [16:10:54] WARNING: /workspace/src/learner.cc:738: \n",
      "Parameters: { \"use_label_encoder\" } are not used.\n",
      "\n",
      "  bst.update(dtrain, iteration=i, fobj=obj)\n",
      "/home/min/anaconda3/envs/BIO/lib/python3.10/site-packages/xgboost/training.py:183: UserWarning: [16:10:54] WARNING: /workspace/src/learner.cc:738: \n",
      "Parameters: { \"use_label_encoder\" } are not used.\n",
      "\n",
      "  bst.update(dtrain, iteration=i, fobj=obj)\n"
     ]
    },
    {
     "name": "stdout",
     "output_type": "stream",
     "text": [
      "[CV] END colsample_bytree=0.9, learning_rate=0.05, max_depth=7, n_estimators=50, subsample=0.7; total time=   1.5s\n",
      "[CV] END colsample_bytree=0.9, learning_rate=0.05, max_depth=7, n_estimators=50, subsample=0.8; total time=   1.6s\n",
      "[CV] END colsample_bytree=0.9, learning_rate=0.05, max_depth=7, n_estimators=50, subsample=0.7; total time=   1.6s\n",
      "[CV] END colsample_bytree=0.9, learning_rate=0.05, max_depth=7, n_estimators=50, subsample=0.8; total time=   1.5s\n"
     ]
    },
    {
     "name": "stderr",
     "output_type": "stream",
     "text": [
      "/home/min/anaconda3/envs/BIO/lib/python3.10/site-packages/xgboost/training.py:183: UserWarning: [16:10:54] WARNING: /workspace/src/learner.cc:738: \n",
      "Parameters: { \"use_label_encoder\" } are not used.\n",
      "\n",
      "  bst.update(dtrain, iteration=i, fobj=obj)\n"
     ]
    },
    {
     "name": "stdout",
     "output_type": "stream",
     "text": [
      "[CV] END colsample_bytree=0.9, learning_rate=0.05, max_depth=7, n_estimators=50, subsample=0.9; total time=   1.5s\n",
      "[CV] END colsample_bytree=0.9, learning_rate=0.05, max_depth=7, n_estimators=50, subsample=0.9; total time=   1.6s\n"
     ]
    },
    {
     "name": "stderr",
     "output_type": "stream",
     "text": [
      "/home/min/anaconda3/envs/BIO/lib/python3.10/site-packages/xgboost/training.py:183: UserWarning: [16:10:54] WARNING: /workspace/src/learner.cc:738: \n",
      "Parameters: { \"use_label_encoder\" } are not used.\n",
      "\n",
      "  bst.update(dtrain, iteration=i, fobj=obj)\n",
      "/home/min/anaconda3/envs/BIO/lib/python3.10/site-packages/xgboost/training.py:183: UserWarning: [16:10:55] WARNING: /workspace/src/learner.cc:738: \n",
      "Parameters: { \"use_label_encoder\" } are not used.\n",
      "\n",
      "  bst.update(dtrain, iteration=i, fobj=obj)\n",
      "/home/min/anaconda3/envs/BIO/lib/python3.10/site-packages/xgboost/training.py:183: UserWarning: [16:10:55] WARNING: /workspace/src/learner.cc:738: \n",
      "Parameters: { \"use_label_encoder\" } are not used.\n",
      "\n",
      "  bst.update(dtrain, iteration=i, fobj=obj)\n"
     ]
    },
    {
     "name": "stdout",
     "output_type": "stream",
     "text": [
      "[CV] END colsample_bytree=0.9, learning_rate=0.05, max_depth=5, n_estimators=200, subsample=0.7; total time=   3.2s\n",
      "[CV] END colsample_bytree=0.9, learning_rate=0.05, max_depth=5, n_estimators=200, subsample=0.8; total time=   3.0s\n",
      "[CV] END colsample_bytree=0.9, learning_rate=0.05, max_depth=5, n_estimators=200, subsample=0.7; total time=   3.2s\n",
      "[CV] END colsample_bytree=0.9, learning_rate=0.05, max_depth=7, n_estimators=100, subsample=0.7; total time=   2.0s\n"
     ]
    },
    {
     "name": "stderr",
     "output_type": "stream",
     "text": [
      "/home/min/anaconda3/envs/BIO/lib/python3.10/site-packages/xgboost/training.py:183: UserWarning: [16:10:55] WARNING: /workspace/src/learner.cc:738: \n",
      "Parameters: { \"use_label_encoder\" } are not used.\n",
      "\n",
      "  bst.update(dtrain, iteration=i, fobj=obj)\n",
      "/home/min/anaconda3/envs/BIO/lib/python3.10/site-packages/xgboost/training.py:183: UserWarning: [16:10:55] WARNING: /workspace/src/learner.cc:738: \n",
      "Parameters: { \"use_label_encoder\" } are not used.\n",
      "\n",
      "  bst.update(dtrain, iteration=i, fobj=obj)\n",
      "/home/min/anaconda3/envs/BIO/lib/python3.10/site-packages/xgboost/training.py:183: UserWarning: [16:10:55] WARNING: /workspace/src/learner.cc:738: \n",
      "Parameters: { \"use_label_encoder\" } are not used.\n",
      "\n",
      "  bst.update(dtrain, iteration=i, fobj=obj)\n"
     ]
    },
    {
     "name": "stdout",
     "output_type": "stream",
     "text": [
      "[CV] END colsample_bytree=0.9, learning_rate=0.05, max_depth=5, n_estimators=200, subsample=0.9; total time=   3.0s\n",
      "[CV] END colsample_bytree=0.9, learning_rate=0.05, max_depth=5, n_estimators=200, subsample=0.8; total time=   3.1s\n",
      "[CV] END colsample_bytree=0.9, learning_rate=0.05, max_depth=7, n_estimators=100, subsample=0.7; total time=   2.1s\n",
      "[CV] END colsample_bytree=0.9, learning_rate=0.05, max_depth=5, n_estimators=200, subsample=0.9; total time=   3.1s\n"
     ]
    },
    {
     "name": "stderr",
     "output_type": "stream",
     "text": [
      "/home/min/anaconda3/envs/BIO/lib/python3.10/site-packages/xgboost/training.py:183: UserWarning: [16:10:55] WARNING: /workspace/src/learner.cc:738: \n",
      "Parameters: { \"use_label_encoder\" } are not used.\n",
      "\n",
      "  bst.update(dtrain, iteration=i, fobj=obj)\n",
      "/home/min/anaconda3/envs/BIO/lib/python3.10/site-packages/xgboost/training.py:183: UserWarning: [16:10:55] WARNING: /workspace/src/learner.cc:738: \n",
      "Parameters: { \"use_label_encoder\" } are not used.\n",
      "\n",
      "  bst.update(dtrain, iteration=i, fobj=obj)\n",
      "/home/min/anaconda3/envs/BIO/lib/python3.10/site-packages/xgboost/training.py:183: UserWarning: [16:10:55] WARNING: /workspace/src/learner.cc:738: \n",
      "Parameters: { \"use_label_encoder\" } are not used.\n",
      "\n",
      "  bst.update(dtrain, iteration=i, fobj=obj)\n",
      "/home/min/anaconda3/envs/BIO/lib/python3.10/site-packages/xgboost/training.py:183: UserWarning: [16:10:55] WARNING: /workspace/src/learner.cc:738: \n",
      "Parameters: { \"use_label_encoder\" } are not used.\n",
      "\n",
      "  bst.update(dtrain, iteration=i, fobj=obj)\n"
     ]
    },
    {
     "name": "stdout",
     "output_type": "stream",
     "text": [
      "[CV] END colsample_bytree=0.9, learning_rate=0.05, max_depth=7, n_estimators=100, subsample=0.8; total time=   2.2s\n",
      "[CV] END colsample_bytree=0.9, learning_rate=0.05, max_depth=7, n_estimators=100, subsample=0.8; total time=   2.2s\n"
     ]
    },
    {
     "name": "stderr",
     "output_type": "stream",
     "text": [
      "/home/min/anaconda3/envs/BIO/lib/python3.10/site-packages/xgboost/training.py:183: UserWarning: [16:10:56] WARNING: /workspace/src/learner.cc:738: \n",
      "Parameters: { \"use_label_encoder\" } are not used.\n",
      "\n",
      "  bst.update(dtrain, iteration=i, fobj=obj)\n",
      "/home/min/anaconda3/envs/BIO/lib/python3.10/site-packages/xgboost/training.py:183: UserWarning: [16:10:56] WARNING: /workspace/src/learner.cc:738: \n",
      "Parameters: { \"use_label_encoder\" } are not used.\n",
      "\n",
      "  bst.update(dtrain, iteration=i, fobj=obj)\n"
     ]
    },
    {
     "name": "stdout",
     "output_type": "stream",
     "text": [
      "[CV] END colsample_bytree=0.9, learning_rate=0.05, max_depth=7, n_estimators=100, subsample=0.9; total time=   2.0s\n"
     ]
    },
    {
     "name": "stderr",
     "output_type": "stream",
     "text": [
      "/home/min/anaconda3/envs/BIO/lib/python3.10/site-packages/xgboost/training.py:183: UserWarning: [16:10:56] WARNING: /workspace/src/learner.cc:738: \n",
      "Parameters: { \"use_label_encoder\" } are not used.\n",
      "\n",
      "  bst.update(dtrain, iteration=i, fobj=obj)\n",
      "/home/min/anaconda3/envs/BIO/lib/python3.10/site-packages/xgboost/training.py:183: UserWarning: [16:10:56] WARNING: /workspace/src/learner.cc:738: \n",
      "Parameters: { \"use_label_encoder\" } are not used.\n",
      "\n",
      "  bst.update(dtrain, iteration=i, fobj=obj)\n"
     ]
    },
    {
     "name": "stdout",
     "output_type": "stream",
     "text": [
      "[CV] END colsample_bytree=0.9, learning_rate=0.05, max_depth=7, n_estimators=100, subsample=0.9; total time=   2.1s\n"
     ]
    },
    {
     "name": "stderr",
     "output_type": "stream",
     "text": [
      "/home/min/anaconda3/envs/BIO/lib/python3.10/site-packages/xgboost/training.py:183: UserWarning: [16:10:56] WARNING: /workspace/src/learner.cc:738: \n",
      "Parameters: { \"use_label_encoder\" } are not used.\n",
      "\n",
      "  bst.update(dtrain, iteration=i, fobj=obj)\n",
      "/home/min/anaconda3/envs/BIO/lib/python3.10/site-packages/xgboost/training.py:183: UserWarning: [16:10:56] WARNING: /workspace/src/learner.cc:738: \n",
      "Parameters: { \"use_label_encoder\" } are not used.\n",
      "\n",
      "  bst.update(dtrain, iteration=i, fobj=obj)\n"
     ]
    },
    {
     "name": "stdout",
     "output_type": "stream",
     "text": [
      "[CV] END colsample_bytree=0.9, learning_rate=0.1, max_depth=3, n_estimators=50, subsample=0.7; total time=   1.5s[CV] END colsample_bytree=0.9, learning_rate=0.1, max_depth=3, n_estimators=50, subsample=0.7; total time=   1.5s\n",
      "\n",
      "[CV] END colsample_bytree=0.9, learning_rate=0.1, max_depth=3, n_estimators=50, subsample=0.8; total time=   1.5s\n"
     ]
    },
    {
     "name": "stderr",
     "output_type": "stream",
     "text": [
      "/home/min/anaconda3/envs/BIO/lib/python3.10/site-packages/xgboost/training.py:183: UserWarning: [16:10:56] WARNING: /workspace/src/learner.cc:738: \n",
      "Parameters: { \"use_label_encoder\" } are not used.\n",
      "\n",
      "  bst.update(dtrain, iteration=i, fobj=obj)\n"
     ]
    },
    {
     "name": "stdout",
     "output_type": "stream",
     "text": [
      "[CV] END colsample_bytree=0.9, learning_rate=0.1, max_depth=3, n_estimators=50, subsample=0.8; total time=   1.6s\n",
      "[CV] END colsample_bytree=0.9, learning_rate=0.1, max_depth=3, n_estimators=50, subsample=0.9; total time=   1.5s\n",
      "[CV] END colsample_bytree=0.9, learning_rate=0.1, max_depth=3, n_estimators=50, subsample=0.9; total time=   1.5s\n"
     ]
    },
    {
     "name": "stderr",
     "output_type": "stream",
     "text": [
      "/home/min/anaconda3/envs/BIO/lib/python3.10/site-packages/xgboost/training.py:183: UserWarning: [16:10:57] WARNING: /workspace/src/learner.cc:738: \n",
      "Parameters: { \"use_label_encoder\" } are not used.\n",
      "\n",
      "  bst.update(dtrain, iteration=i, fobj=obj)\n",
      "/home/min/anaconda3/envs/BIO/lib/python3.10/site-packages/xgboost/training.py:183: UserWarning: [16:10:57] WARNING: /workspace/src/learner.cc:738: \n",
      "Parameters: { \"use_label_encoder\" } are not used.\n",
      "\n",
      "  bst.update(dtrain, iteration=i, fobj=obj)\n",
      "/home/min/anaconda3/envs/BIO/lib/python3.10/site-packages/xgboost/training.py:183: UserWarning: [16:10:57] WARNING: /workspace/src/learner.cc:738: \n",
      "Parameters: { \"use_label_encoder\" } are not used.\n",
      "\n",
      "  bst.update(dtrain, iteration=i, fobj=obj)\n",
      "/home/min/anaconda3/envs/BIO/lib/python3.10/site-packages/xgboost/training.py:183: UserWarning: [16:10:57] WARNING: /workspace/src/learner.cc:738: \n",
      "Parameters: { \"use_label_encoder\" } are not used.\n",
      "\n",
      "  bst.update(dtrain, iteration=i, fobj=obj)\n"
     ]
    },
    {
     "name": "stdout",
     "output_type": "stream",
     "text": [
      "[CV] END colsample_bytree=0.9, learning_rate=0.05, max_depth=7, n_estimators=200, subsample=0.7; total time=   3.0s\n",
      "[CV] END colsample_bytree=0.9, learning_rate=0.05, max_depth=7, n_estimators=200, subsample=0.7; total time=   3.0s\n"
     ]
    },
    {
     "name": "stderr",
     "output_type": "stream",
     "text": [
      "/home/min/anaconda3/envs/BIO/lib/python3.10/site-packages/xgboost/training.py:183: UserWarning: [16:10:57] WARNING: /workspace/src/learner.cc:738: \n",
      "Parameters: { \"use_label_encoder\" } are not used.\n",
      "\n",
      "  bst.update(dtrain, iteration=i, fobj=obj)\n",
      "/home/min/anaconda3/envs/BIO/lib/python3.10/site-packages/xgboost/training.py:183: UserWarning: [16:10:57] WARNING: /workspace/src/learner.cc:738: \n",
      "Parameters: { \"use_label_encoder\" } are not used.\n",
      "\n",
      "  bst.update(dtrain, iteration=i, fobj=obj)\n",
      "/home/min/anaconda3/envs/BIO/lib/python3.10/site-packages/xgboost/training.py:183: UserWarning: [16:10:57] WARNING: /workspace/src/learner.cc:738: \n",
      "Parameters: { \"use_label_encoder\" } are not used.\n",
      "\n",
      "  bst.update(dtrain, iteration=i, fobj=obj)\n"
     ]
    },
    {
     "name": "stdout",
     "output_type": "stream",
     "text": [
      "[CV] END colsample_bytree=0.9, learning_rate=0.05, max_depth=7, n_estimators=200, subsample=0.8; total time=   3.1s\n",
      "[CV] END colsample_bytree=0.9, learning_rate=0.05, max_depth=7, n_estimators=200, subsample=0.8; total time=   3.1s\n",
      "[CV] END colsample_bytree=0.9, learning_rate=0.1, max_depth=3, n_estimators=100, subsample=0.7; total time=   1.9s\n"
     ]
    },
    {
     "name": "stderr",
     "output_type": "stream",
     "text": [
      "/home/min/anaconda3/envs/BIO/lib/python3.10/site-packages/xgboost/training.py:183: UserWarning: [16:10:57] WARNING: /workspace/src/learner.cc:738: \n",
      "Parameters: { \"use_label_encoder\" } are not used.\n",
      "\n",
      "  bst.update(dtrain, iteration=i, fobj=obj)\n",
      "/home/min/anaconda3/envs/BIO/lib/python3.10/site-packages/xgboost/training.py:183: UserWarning: [16:10:58] WARNING: /workspace/src/learner.cc:738: \n",
      "Parameters: { \"use_label_encoder\" } are not used.\n",
      "\n",
      "  bst.update(dtrain, iteration=i, fobj=obj)\n"
     ]
    },
    {
     "name": "stdout",
     "output_type": "stream",
     "text": [
      "[CV] END colsample_bytree=0.9, learning_rate=0.1, max_depth=3, n_estimators=100, subsample=0.7; total time=   2.0s\n",
      "[CV] END colsample_bytree=0.9, learning_rate=0.05, max_depth=7, n_estimators=200, subsample=0.9; total time=   2.9s\n",
      "[CV] END colsample_bytree=0.9, learning_rate=0.05, max_depth=7, n_estimators=200, subsample=0.9; total time=   3.0s\n"
     ]
    },
    {
     "name": "stderr",
     "output_type": "stream",
     "text": [
      "/home/min/anaconda3/envs/BIO/lib/python3.10/site-packages/xgboost/training.py:183: UserWarning: [16:10:58] WARNING: /workspace/src/learner.cc:738: \n",
      "Parameters: { \"use_label_encoder\" } are not used.\n",
      "\n",
      "  bst.update(dtrain, iteration=i, fobj=obj)\n",
      "/home/min/anaconda3/envs/BIO/lib/python3.10/site-packages/xgboost/training.py:183: UserWarning: [16:10:58] WARNING: /workspace/src/learner.cc:738: \n",
      "Parameters: { \"use_label_encoder\" } are not used.\n",
      "\n",
      "  bst.update(dtrain, iteration=i, fobj=obj)\n",
      "/home/min/anaconda3/envs/BIO/lib/python3.10/site-packages/xgboost/training.py:183: UserWarning: [16:10:58] WARNING: /workspace/src/learner.cc:738: \n",
      "Parameters: { \"use_label_encoder\" } are not used.\n",
      "\n",
      "  bst.update(dtrain, iteration=i, fobj=obj)\n"
     ]
    },
    {
     "name": "stdout",
     "output_type": "stream",
     "text": [
      "[CV] END colsample_bytree=0.9, learning_rate=0.1, max_depth=3, n_estimators=100, subsample=0.8; total time=   2.2s\n",
      "[CV] END colsample_bytree=0.9, learning_rate=0.1, max_depth=3, n_estimators=100, subsample=0.8; total time=   2.0s\n"
     ]
    },
    {
     "name": "stderr",
     "output_type": "stream",
     "text": [
      "/home/min/anaconda3/envs/BIO/lib/python3.10/site-packages/xgboost/training.py:183: UserWarning: [16:10:58] WARNING: /workspace/src/learner.cc:738: \n",
      "Parameters: { \"use_label_encoder\" } are not used.\n",
      "\n",
      "  bst.update(dtrain, iteration=i, fobj=obj)\n",
      "/home/min/anaconda3/envs/BIO/lib/python3.10/site-packages/xgboost/training.py:183: UserWarning: [16:10:58] WARNING: /workspace/src/learner.cc:738: \n",
      "Parameters: { \"use_label_encoder\" } are not used.\n",
      "\n",
      "  bst.update(dtrain, iteration=i, fobj=obj)\n"
     ]
    },
    {
     "name": "stdout",
     "output_type": "stream",
     "text": [
      "[CV] END colsample_bytree=0.9, learning_rate=0.1, max_depth=3, n_estimators=100, subsample=0.9; total time=   1.9s\n",
      "[CV] END colsample_bytree=0.9, learning_rate=0.1, max_depth=3, n_estimators=100, subsample=0.9; total time=   1.9s\n"
     ]
    },
    {
     "name": "stderr",
     "output_type": "stream",
     "text": [
      "/home/min/anaconda3/envs/BIO/lib/python3.10/site-packages/xgboost/training.py:183: UserWarning: [16:10:58] WARNING: /workspace/src/learner.cc:738: \n",
      "Parameters: { \"use_label_encoder\" } are not used.\n",
      "\n",
      "  bst.update(dtrain, iteration=i, fobj=obj)\n",
      "/home/min/anaconda3/envs/BIO/lib/python3.10/site-packages/xgboost/training.py:183: UserWarning: [16:10:59] WARNING: /workspace/src/learner.cc:738: \n",
      "Parameters: { \"use_label_encoder\" } are not used.\n",
      "\n",
      "  bst.update(dtrain, iteration=i, fobj=obj)\n",
      "/home/min/anaconda3/envs/BIO/lib/python3.10/site-packages/xgboost/training.py:183: UserWarning: [16:10:59] WARNING: /workspace/src/learner.cc:738: \n",
      "Parameters: { \"use_label_encoder\" } are not used.\n",
      "\n",
      "  bst.update(dtrain, iteration=i, fobj=obj)\n",
      "/home/min/anaconda3/envs/BIO/lib/python3.10/site-packages/xgboost/training.py:183: UserWarning: [16:10:59] WARNING: /workspace/src/learner.cc:738: \n",
      "Parameters: { \"use_label_encoder\" } are not used.\n",
      "\n",
      "  bst.update(dtrain, iteration=i, fobj=obj)\n",
      "/home/min/anaconda3/envs/BIO/lib/python3.10/site-packages/xgboost/training.py:183: UserWarning: [16:10:59] WARNING: /workspace/src/learner.cc:738: \n",
      "Parameters: { \"use_label_encoder\" } are not used.\n",
      "\n",
      "  bst.update(dtrain, iteration=i, fobj=obj)\n"
     ]
    },
    {
     "name": "stdout",
     "output_type": "stream",
     "text": [
      "[CV] END colsample_bytree=0.9, learning_rate=0.1, max_depth=5, n_estimators=50, subsample=0.7; total time=   1.5s\n",
      "[CV] END colsample_bytree=0.9, learning_rate=0.1, max_depth=5, n_estimators=50, subsample=0.7; total time=   1.6s\n",
      "[CV] END colsample_bytree=0.9, learning_rate=0.1, max_depth=5, n_estimators=50, subsample=0.8; total time=   1.5s\n",
      "[CV] END colsample_bytree=0.9, learning_rate=0.1, max_depth=5, n_estimators=50, subsample=0.9; total time=   1.4s\n",
      "[CV] END colsample_bytree=0.9, learning_rate=0.1, max_depth=5, n_estimators=50, subsample=0.8; total time=   1.5s\n",
      "[CV] END colsample_bytree=0.9, learning_rate=0.1, max_depth=5, n_estimators=50, subsample=0.9; total time=   1.5s\n",
      "[CV] END colsample_bytree=0.9, learning_rate=0.1, max_depth=3, n_estimators=200, subsample=0.7; total time=   3.0s\n",
      "[CV] END colsample_bytree=0.9, learning_rate=0.1, max_depth=3, n_estimators=200, subsample=0.7; total time=   3.0s\n",
      "[CV] END colsample_bytree=0.9, learning_rate=0.1, max_depth=3, n_estimators=200, subsample=0.8; total time=   2.9s\n"
     ]
    },
    {
     "name": "stderr",
     "output_type": "stream",
     "text": [
      "/home/min/anaconda3/envs/BIO/lib/python3.10/site-packages/xgboost/training.py:183: UserWarning: [16:10:59] WARNING: /workspace/src/learner.cc:738: \n",
      "Parameters: { \"use_label_encoder\" } are not used.\n",
      "\n",
      "  bst.update(dtrain, iteration=i, fobj=obj)\n",
      "/home/min/anaconda3/envs/BIO/lib/python3.10/site-packages/xgboost/training.py:183: UserWarning: [16:11:00] WARNING: /workspace/src/learner.cc:738: \n",
      "Parameters: { \"use_label_encoder\" } are not used.\n",
      "\n",
      "  bst.update(dtrain, iteration=i, fobj=obj)\n",
      "/home/min/anaconda3/envs/BIO/lib/python3.10/site-packages/xgboost/training.py:183: UserWarning: [16:11:00] WARNING: /workspace/src/learner.cc:738: \n",
      "Parameters: { \"use_label_encoder\" } are not used.\n",
      "\n",
      "  bst.update(dtrain, iteration=i, fobj=obj)\n",
      "/home/min/anaconda3/envs/BIO/lib/python3.10/site-packages/xgboost/training.py:183: UserWarning: [16:11:00] WARNING: /workspace/src/learner.cc:738: \n",
      "Parameters: { \"use_label_encoder\" } are not used.\n",
      "\n",
      "  bst.update(dtrain, iteration=i, fobj=obj)\n",
      "/home/min/anaconda3/envs/BIO/lib/python3.10/site-packages/xgboost/training.py:183: UserWarning: [16:11:00] WARNING: /workspace/src/learner.cc:738: \n",
      "Parameters: { \"use_label_encoder\" } are not used.\n",
      "\n",
      "  bst.update(dtrain, iteration=i, fobj=obj)\n"
     ]
    },
    {
     "name": "stdout",
     "output_type": "stream",
     "text": [
      "[CV] END colsample_bytree=0.9, learning_rate=0.1, max_depth=3, n_estimators=200, subsample=0.8; total time=   3.0s\n",
      "[CV] END colsample_bytree=0.9, learning_rate=0.1, max_depth=3, n_estimators=200, subsample=0.9; total time=   3.0s\n"
     ]
    },
    {
     "name": "stderr",
     "output_type": "stream",
     "text": [
      "/home/min/anaconda3/envs/BIO/lib/python3.10/site-packages/xgboost/training.py:183: UserWarning: [16:11:00] WARNING: /workspace/src/learner.cc:738: \n",
      "Parameters: { \"use_label_encoder\" } are not used.\n",
      "\n",
      "  bst.update(dtrain, iteration=i, fobj=obj)\n",
      "/home/min/anaconda3/envs/BIO/lib/python3.10/site-packages/xgboost/training.py:183: UserWarning: [16:11:00] WARNING: /workspace/src/learner.cc:738: \n",
      "Parameters: { \"use_label_encoder\" } are not used.\n",
      "\n",
      "  bst.update(dtrain, iteration=i, fobj=obj)\n"
     ]
    },
    {
     "name": "stdout",
     "output_type": "stream",
     "text": [
      "[CV] END colsample_bytree=0.9, learning_rate=0.1, max_depth=3, n_estimators=200, subsample=0.9; total time=   3.0s\n",
      "[CV] END colsample_bytree=0.9, learning_rate=0.1, max_depth=5, n_estimators=100, subsample=0.7; total time=   2.1s\n",
      "[CV] END colsample_bytree=0.9, learning_rate=0.1, max_depth=5, n_estimators=100, subsample=0.7; total time=   2.1s\n"
     ]
    },
    {
     "name": "stderr",
     "output_type": "stream",
     "text": [
      "/home/min/anaconda3/envs/BIO/lib/python3.10/site-packages/xgboost/training.py:183: UserWarning: [16:11:00] WARNING: /workspace/src/learner.cc:738: \n",
      "Parameters: { \"use_label_encoder\" } are not used.\n",
      "\n",
      "  bst.update(dtrain, iteration=i, fobj=obj)\n"
     ]
    },
    {
     "name": "stdout",
     "output_type": "stream",
     "text": [
      "[CV] END colsample_bytree=0.9, learning_rate=0.1, max_depth=5, n_estimators=100, subsample=0.8; total time=   2.1s\n",
      "[CV] END colsample_bytree=0.9, learning_rate=0.1, max_depth=5, n_estimators=100, subsample=0.8; total time=   2.0s\n"
     ]
    },
    {
     "name": "stderr",
     "output_type": "stream",
     "text": [
      "/home/min/anaconda3/envs/BIO/lib/python3.10/site-packages/xgboost/training.py:183: UserWarning: [16:11:00] WARNING: /workspace/src/learner.cc:738: \n",
      "Parameters: { \"use_label_encoder\" } are not used.\n",
      "\n",
      "  bst.update(dtrain, iteration=i, fobj=obj)\n",
      "/home/min/anaconda3/envs/BIO/lib/python3.10/site-packages/xgboost/training.py:183: UserWarning: [16:11:01] WARNING: /workspace/src/learner.cc:738: \n",
      "Parameters: { \"use_label_encoder\" } are not used.\n",
      "\n",
      "  bst.update(dtrain, iteration=i, fobj=obj)\n",
      "/home/min/anaconda3/envs/BIO/lib/python3.10/site-packages/xgboost/training.py:183: UserWarning: [16:11:01] WARNING: /workspace/src/learner.cc:738: \n",
      "Parameters: { \"use_label_encoder\" } are not used.\n",
      "\n",
      "  bst.update(dtrain, iteration=i, fobj=obj)\n",
      "/home/min/anaconda3/envs/BIO/lib/python3.10/site-packages/xgboost/training.py:183: UserWarning: [16:11:01] WARNING: /workspace/src/learner.cc:738: \n",
      "Parameters: { \"use_label_encoder\" } are not used.\n",
      "\n",
      "  bst.update(dtrain, iteration=i, fobj=obj)\n",
      "/home/min/anaconda3/envs/BIO/lib/python3.10/site-packages/xgboost/training.py:183: UserWarning: [16:11:01] WARNING: /workspace/src/learner.cc:738: \n",
      "Parameters: { \"use_label_encoder\" } are not used.\n",
      "\n",
      "  bst.update(dtrain, iteration=i, fobj=obj)\n",
      "/home/min/anaconda3/envs/BIO/lib/python3.10/site-packages/xgboost/training.py:183: UserWarning: [16:11:01] WARNING: /workspace/src/learner.cc:738: \n",
      "Parameters: { \"use_label_encoder\" } are not used.\n",
      "\n",
      "  bst.update(dtrain, iteration=i, fobj=obj)\n",
      "/home/min/anaconda3/envs/BIO/lib/python3.10/site-packages/xgboost/training.py:183: UserWarning: [16:11:01] WARNING: /workspace/src/learner.cc:738: \n",
      "Parameters: { \"use_label_encoder\" } are not used.\n",
      "\n",
      "  bst.update(dtrain, iteration=i, fobj=obj)\n",
      "/home/min/anaconda3/envs/BIO/lib/python3.10/site-packages/xgboost/training.py:183: UserWarning: [16:11:01] WARNING: /workspace/src/learner.cc:738: \n",
      "Parameters: { \"use_label_encoder\" } are not used.\n",
      "\n",
      "  bst.update(dtrain, iteration=i, fobj=obj)\n"
     ]
    },
    {
     "name": "stdout",
     "output_type": "stream",
     "text": [
      "[CV] END colsample_bytree=0.9, learning_rate=0.1, max_depth=5, n_estimators=100, subsample=0.9; total time=   2.2s\n",
      "[CV] END colsample_bytree=0.9, learning_rate=0.1, max_depth=5, n_estimators=100, subsample=0.9; total time=   2.2s\n",
      "[CV] END colsample_bytree=0.9, learning_rate=0.1, max_depth=7, n_estimators=50, subsample=0.7; total time=   1.7s\n",
      "[CV] END colsample_bytree=0.9, learning_rate=0.1, max_depth=7, n_estimators=50, subsample=0.7; total time=   1.8s\n",
      "[CV] END colsample_bytree=0.9, learning_rate=0.1, max_depth=7, n_estimators=50, subsample=0.8; total time=   1.6s\n",
      "[CV] END colsample_bytree=0.9, learning_rate=0.1, max_depth=7, n_estimators=50, subsample=0.8; total time=   1.7s\n",
      "[CV] END colsample_bytree=0.9, learning_rate=0.1, max_depth=7, n_estimators=50, subsample=0.9; total time=   1.6s\n"
     ]
    },
    {
     "name": "stderr",
     "output_type": "stream",
     "text": [
      "/home/min/anaconda3/envs/BIO/lib/python3.10/site-packages/xgboost/training.py:183: UserWarning: [16:11:02] WARNING: /workspace/src/learner.cc:738: \n",
      "Parameters: { \"use_label_encoder\" } are not used.\n",
      "\n",
      "  bst.update(dtrain, iteration=i, fobj=obj)\n",
      "/home/min/anaconda3/envs/BIO/lib/python3.10/site-packages/xgboost/training.py:183: UserWarning: [16:11:02] WARNING: /workspace/src/learner.cc:738: \n",
      "Parameters: { \"use_label_encoder\" } are not used.\n",
      "\n",
      "  bst.update(dtrain, iteration=i, fobj=obj)\n"
     ]
    },
    {
     "name": "stdout",
     "output_type": "stream",
     "text": [
      "[CV] END colsample_bytree=0.9, learning_rate=0.1, max_depth=7, n_estimators=50, subsample=0.9; total time=   1.6s\n",
      "[CV] END colsample_bytree=0.9, learning_rate=0.1, max_depth=5, n_estimators=200, subsample=0.7; total time=   3.1s\n",
      "[CV] END colsample_bytree=0.9, learning_rate=0.1, max_depth=5, n_estimators=200, subsample=0.8; total time=   3.0s\n",
      "[CV] END colsample_bytree=0.9, learning_rate=0.1, max_depth=5, n_estimators=200, subsample=0.7; total time=   3.1s\n"
     ]
    },
    {
     "name": "stderr",
     "output_type": "stream",
     "text": [
      "/home/min/anaconda3/envs/BIO/lib/python3.10/site-packages/xgboost/training.py:183: UserWarning: [16:11:02] WARNING: /workspace/src/learner.cc:738: \n",
      "Parameters: { \"use_label_encoder\" } are not used.\n",
      "\n",
      "  bst.update(dtrain, iteration=i, fobj=obj)\n",
      "/home/min/anaconda3/envs/BIO/lib/python3.10/site-packages/xgboost/training.py:183: UserWarning: [16:11:02] WARNING: /workspace/src/learner.cc:738: \n",
      "Parameters: { \"use_label_encoder\" } are not used.\n",
      "\n",
      "  bst.update(dtrain, iteration=i, fobj=obj)\n",
      "/home/min/anaconda3/envs/BIO/lib/python3.10/site-packages/xgboost/training.py:183: UserWarning: [16:11:02] WARNING: /workspace/src/learner.cc:738: \n",
      "Parameters: { \"use_label_encoder\" } are not used.\n",
      "\n",
      "  bst.update(dtrain, iteration=i, fobj=obj)\n",
      "/home/min/anaconda3/envs/BIO/lib/python3.10/site-packages/xgboost/training.py:183: UserWarning: [16:11:02] WARNING: /workspace/src/learner.cc:738: \n",
      "Parameters: { \"use_label_encoder\" } are not used.\n",
      "\n",
      "  bst.update(dtrain, iteration=i, fobj=obj)\n"
     ]
    },
    {
     "name": "stdout",
     "output_type": "stream",
     "text": [
      "[CV] END colsample_bytree=0.9, learning_rate=0.1, max_depth=7, n_estimators=100, subsample=0.7; total time=   2.0s\n",
      "[CV] END colsample_bytree=0.9, learning_rate=0.1, max_depth=7, n_estimators=100, subsample=0.7; total time=   2.0s\n",
      "[CV] END colsample_bytree=0.9, learning_rate=0.1, max_depth=5, n_estimators=200, subsample=0.8; total time=   3.1s\n",
      "[CV] END colsample_bytree=0.9, learning_rate=0.1, max_depth=5, n_estimators=200, subsample=0.9; total time=   2.9s\n"
     ]
    },
    {
     "name": "stderr",
     "output_type": "stream",
     "text": [
      "/home/min/anaconda3/envs/BIO/lib/python3.10/site-packages/xgboost/training.py:183: UserWarning: [16:11:02] WARNING: /workspace/src/learner.cc:738: \n",
      "Parameters: { \"use_label_encoder\" } are not used.\n",
      "\n",
      "  bst.update(dtrain, iteration=i, fobj=obj)\n",
      "/home/min/anaconda3/envs/BIO/lib/python3.10/site-packages/xgboost/training.py:183: UserWarning: [16:11:02] WARNING: /workspace/src/learner.cc:738: \n",
      "Parameters: { \"use_label_encoder\" } are not used.\n",
      "\n",
      "  bst.update(dtrain, iteration=i, fobj=obj)\n",
      "Exception ignored on calling ctypes callback function: <bound method DataIter._next_wrapper of <xgboost.data.SingleBatchInternalIter object at 0x7f6bc0087340>>\n",
      "Traceback (most recent call last):\n",
      "  File \"/home/min/anaconda3/envs/BIO/lib/python3.10/site-packages/xgboost/core.py\", line 640, in _next_wrapper\n",
      "    return self._handle_exception(lambda: int(self.next(input_data)), 0)\n",
      "  File \"/home/min/anaconda3/envs/BIO/lib/python3.10/site-packages/xgboost/core.py\", line 553, in _handle_exception\n",
      "    return fn()\n",
      "  File \"/home/min/anaconda3/envs/BIO/lib/python3.10/site-packages/xgboost/core.py\", line 640, in <lambda>\n",
      "    return self._handle_exception(lambda: int(self.next(input_data)), 0)\n",
      "  File \"/home/min/anaconda3/envs/BIO/lib/python3.10/site-packages/xgboost/data.py\", line 1654, in next\n",
      "Exception ignored on calling ctypes callback function: <bound method DataIter._next_wrapper of <xgboost.data.SingleBatchInternalIter object at 0x7f49e478ab00>>\n",
      "Traceback (most recent call last):\n",
      "  File \"/home/min/anaconda3/envs/BIO/lib/python3.10/site-packages/xgboost/core.py\", line 640, in _next_wrapper\n",
      "    return self._handle_exception(lambda: int(self.next(input_data)), 0)\n",
      "  File \"/home/min/anaconda3/envs/BIO/lib/python3.10/site-packages/xgboost/core.py\", line 553, in _handle_exception\n",
      "    return fn()\n",
      "  File \"/home/min/anaconda3/envs/BIO/lib/python3.10/site-packages/xgboost/core.py\", line 640, in <lambda>\n",
      "    return self._handle_exception(lambda: int(self.next(input_data)), 0)\n",
      "  File \"/home/min/anaconda3/envs/BIO/lib/python3.10/site-packages/xgboost/data.py\", line 1654, in next\n",
      "    input_data(**self.kwargs)\n",
      "    input_data(**self.kwargs)\n",
      "  File \"/home/min/anaconda3/envs/BIO/lib/python3.10/site-packages/xgboost/core.py\", line 729, in inner_f\n",
      "  File \"/home/min/anaconda3/envs/BIO/lib/python3.10/site-packages/xgboost/core.py\", line 729, in inner_f\n",
      "        return func(**kwargs)\n",
      "  File \"/home/min/anaconda3/envs/BIO/lib/python3.10/site-packages/xgboost/core.py\", line 628, in input_data\n",
      "return func(**kwargs)\n",
      "  File \"/home/min/anaconda3/envs/BIO/lib/python3.10/site-packages/xgboost/core.py\", line 628, in input_data\n",
      "    dispatch_proxy_set_data(self.proxy, new, cat_codes)\n",
      "    dispatch_proxy_set_data(self.proxy, new, cat_codes)\n",
      "  File \"/home/min/anaconda3/envs/BIO/lib/python3.10/site-packages/xgboost/data.py\", line 1749, in dispatch_proxy_set_data\n",
      "  File \"/home/min/anaconda3/envs/BIO/lib/python3.10/site-packages/xgboost/data.py\", line 1749, in dispatch_proxy_set_data\n",
      "    proxy._ref_data_from_columnar(data)  # pylint: disable=W0212\n",
      "  File \"/home/min/anaconda3/envs/BIO/lib/python3.10/site-packages/xgboost/core.py\", line 1467, in _ref_data_from_columnar\n",
      "    proxy._ref_data_from_columnar(data)  # pylint: disable=W0212\n",
      "  File \"/home/min/anaconda3/envs/BIO/lib/python3.10/site-packages/xgboost/core.py\", line 1467, in _ref_data_from_columnar\n",
      "    _LIB.XGProxyDMatrixSetDataColumnar(self.handle, data.array_interface())\n",
      "    _LIB.XGProxyDMatrixSetDataColumnar(self.handle, data.array_interface())\n",
      "KeyboardInterrupt: KeyboardInterrupt: \n",
      "\n",
      "/home/min/anaconda3/envs/BIO/lib/python3.10/site-packages/xgboost/training.py:183: UserWarning: [16:11:03] WARNING: /workspace/src/learner.cc:738: \n",
      "Parameters: { \"use_label_encoder\" } are not used.\n",
      "\n",
      "  bst.update(dtrain, iteration=i, fobj=obj)\n"
     ]
    },
    {
     "name": "stdout",
     "output_type": "stream",
     "text": [
      "[CV] END colsample_bytree=0.9, learning_rate=0.1, max_depth=7, n_estimators=200, subsample=0.9; total time=   0.6s\n"
     ]
    },
    {
     "ename": "KeyboardInterrupt",
     "evalue": "",
     "output_type": "error",
     "traceback": [
      "\u001b[0;31m---------------------------------------------------------------------------\u001b[0m",
      "\u001b[0;31mKeyboardInterrupt\u001b[0m                         Traceback (most recent call last)",
      "Cell \u001b[0;32mIn[30], line 34\u001b[0m\n\u001b[1;32m     17\u001b[0m param_grid \u001b[38;5;241m=\u001b[39m {\n\u001b[1;32m     18\u001b[0m     \u001b[38;5;124m'\u001b[39m\u001b[38;5;124mn_estimators\u001b[39m\u001b[38;5;124m'\u001b[39m: [\u001b[38;5;241m50\u001b[39m, \u001b[38;5;241m100\u001b[39m, \u001b[38;5;241m200\u001b[39m],\n\u001b[1;32m     19\u001b[0m     \u001b[38;5;124m'\u001b[39m\u001b[38;5;124mmax_depth\u001b[39m\u001b[38;5;124m'\u001b[39m: [\u001b[38;5;241m3\u001b[39m, \u001b[38;5;241m5\u001b[39m, \u001b[38;5;241m7\u001b[39m],\n\u001b[0;32m   (...)\u001b[0m\n\u001b[1;32m     22\u001b[0m     \u001b[38;5;124m'\u001b[39m\u001b[38;5;124mcolsample_bytree\u001b[39m\u001b[38;5;124m'\u001b[39m: [\u001b[38;5;241m0.7\u001b[39m, \u001b[38;5;241m0.8\u001b[39m, \u001b[38;5;241m0.9\u001b[39m]\n\u001b[1;32m     23\u001b[0m }\n\u001b[1;32m     25\u001b[0m grid_search \u001b[38;5;241m=\u001b[39m GridSearchCV(\n\u001b[1;32m     26\u001b[0m     estimator\u001b[38;5;241m=\u001b[39mxgb_clf,\n\u001b[1;32m     27\u001b[0m     param_grid\u001b[38;5;241m=\u001b[39mparam_grid,\n\u001b[0;32m   (...)\u001b[0m\n\u001b[1;32m     31\u001b[0m     n_jobs\u001b[38;5;241m=\u001b[39m\u001b[38;5;241m-\u001b[39m\u001b[38;5;241m1\u001b[39m\n\u001b[1;32m     32\u001b[0m )\n\u001b[0;32m---> 34\u001b[0m \u001b[43mgrid_search\u001b[49m\u001b[38;5;241;43m.\u001b[39;49m\u001b[43mfit\u001b[49m\u001b[43m(\u001b[49m\u001b[43mX_train\u001b[49m\u001b[43m,\u001b[49m\u001b[43m \u001b[49m\u001b[43my_train\u001b[49m\u001b[43m)\u001b[49m\n\u001b[1;32m     36\u001b[0m \u001b[38;5;66;03m# 최적 하이퍼파라미터 결과\u001b[39;00m\n\u001b[1;32m     37\u001b[0m \u001b[38;5;28mprint\u001b[39m(\u001b[38;5;124m\"\u001b[39m\u001b[38;5;124m최적의 하이퍼파라미터:\u001b[39m\u001b[38;5;124m\"\u001b[39m, grid_search\u001b[38;5;241m.\u001b[39mbest_params_)\n",
      "File \u001b[0;32m~/anaconda3/envs/BIO/lib/python3.10/site-packages/sklearn/base.py:1473\u001b[0m, in \u001b[0;36m_fit_context.<locals>.decorator.<locals>.wrapper\u001b[0;34m(estimator, *args, **kwargs)\u001b[0m\n\u001b[1;32m   1466\u001b[0m     estimator\u001b[38;5;241m.\u001b[39m_validate_params()\n\u001b[1;32m   1468\u001b[0m \u001b[38;5;28;01mwith\u001b[39;00m config_context(\n\u001b[1;32m   1469\u001b[0m     skip_parameter_validation\u001b[38;5;241m=\u001b[39m(\n\u001b[1;32m   1470\u001b[0m         prefer_skip_nested_validation \u001b[38;5;129;01mor\u001b[39;00m global_skip_validation\n\u001b[1;32m   1471\u001b[0m     )\n\u001b[1;32m   1472\u001b[0m ):\n\u001b[0;32m-> 1473\u001b[0m     \u001b[38;5;28;01mreturn\u001b[39;00m \u001b[43mfit_method\u001b[49m\u001b[43m(\u001b[49m\u001b[43mestimator\u001b[49m\u001b[43m,\u001b[49m\u001b[43m \u001b[49m\u001b[38;5;241;43m*\u001b[39;49m\u001b[43margs\u001b[49m\u001b[43m,\u001b[49m\u001b[43m \u001b[49m\u001b[38;5;241;43m*\u001b[39;49m\u001b[38;5;241;43m*\u001b[39;49m\u001b[43mkwargs\u001b[49m\u001b[43m)\u001b[49m\n",
      "File \u001b[0;32m~/anaconda3/envs/BIO/lib/python3.10/site-packages/sklearn/model_selection/_search.py:1019\u001b[0m, in \u001b[0;36mBaseSearchCV.fit\u001b[0;34m(self, X, y, **params)\u001b[0m\n\u001b[1;32m   1013\u001b[0m     results \u001b[38;5;241m=\u001b[39m \u001b[38;5;28mself\u001b[39m\u001b[38;5;241m.\u001b[39m_format_results(\n\u001b[1;32m   1014\u001b[0m         all_candidate_params, n_splits, all_out, all_more_results\n\u001b[1;32m   1015\u001b[0m     )\n\u001b[1;32m   1017\u001b[0m     \u001b[38;5;28;01mreturn\u001b[39;00m results\n\u001b[0;32m-> 1019\u001b[0m \u001b[38;5;28;43mself\u001b[39;49m\u001b[38;5;241;43m.\u001b[39;49m\u001b[43m_run_search\u001b[49m\u001b[43m(\u001b[49m\u001b[43mevaluate_candidates\u001b[49m\u001b[43m)\u001b[49m\n\u001b[1;32m   1021\u001b[0m \u001b[38;5;66;03m# multimetric is determined here because in the case of a callable\u001b[39;00m\n\u001b[1;32m   1022\u001b[0m \u001b[38;5;66;03m# self.scoring the return type is only known after calling\u001b[39;00m\n\u001b[1;32m   1023\u001b[0m first_test_score \u001b[38;5;241m=\u001b[39m all_out[\u001b[38;5;241m0\u001b[39m][\u001b[38;5;124m\"\u001b[39m\u001b[38;5;124mtest_scores\u001b[39m\u001b[38;5;124m\"\u001b[39m]\n",
      "File \u001b[0;32m~/anaconda3/envs/BIO/lib/python3.10/site-packages/sklearn/model_selection/_search.py:1573\u001b[0m, in \u001b[0;36mGridSearchCV._run_search\u001b[0;34m(self, evaluate_candidates)\u001b[0m\n\u001b[1;32m   1571\u001b[0m \u001b[38;5;28;01mdef\u001b[39;00m\u001b[38;5;250m \u001b[39m\u001b[38;5;21m_run_search\u001b[39m(\u001b[38;5;28mself\u001b[39m, evaluate_candidates):\n\u001b[1;32m   1572\u001b[0m \u001b[38;5;250m    \u001b[39m\u001b[38;5;124;03m\"\"\"Search all candidates in param_grid\"\"\"\u001b[39;00m\n\u001b[0;32m-> 1573\u001b[0m     \u001b[43mevaluate_candidates\u001b[49m\u001b[43m(\u001b[49m\u001b[43mParameterGrid\u001b[49m\u001b[43m(\u001b[49m\u001b[38;5;28;43mself\u001b[39;49m\u001b[38;5;241;43m.\u001b[39;49m\u001b[43mparam_grid\u001b[49m\u001b[43m)\u001b[49m\u001b[43m)\u001b[49m\n",
      "File \u001b[0;32m~/anaconda3/envs/BIO/lib/python3.10/site-packages/sklearn/model_selection/_search.py:965\u001b[0m, in \u001b[0;36mBaseSearchCV.fit.<locals>.evaluate_candidates\u001b[0;34m(candidate_params, cv, more_results)\u001b[0m\n\u001b[1;32m    957\u001b[0m \u001b[38;5;28;01mif\u001b[39;00m \u001b[38;5;28mself\u001b[39m\u001b[38;5;241m.\u001b[39mverbose \u001b[38;5;241m>\u001b[39m \u001b[38;5;241m0\u001b[39m:\n\u001b[1;32m    958\u001b[0m     \u001b[38;5;28mprint\u001b[39m(\n\u001b[1;32m    959\u001b[0m         \u001b[38;5;124m\"\u001b[39m\u001b[38;5;124mFitting \u001b[39m\u001b[38;5;132;01m{0}\u001b[39;00m\u001b[38;5;124m folds for each of \u001b[39m\u001b[38;5;132;01m{1}\u001b[39;00m\u001b[38;5;124m candidates,\u001b[39m\u001b[38;5;124m\"\u001b[39m\n\u001b[1;32m    960\u001b[0m         \u001b[38;5;124m\"\u001b[39m\u001b[38;5;124m totalling \u001b[39m\u001b[38;5;132;01m{2}\u001b[39;00m\u001b[38;5;124m fits\u001b[39m\u001b[38;5;124m\"\u001b[39m\u001b[38;5;241m.\u001b[39mformat(\n\u001b[1;32m    961\u001b[0m             n_splits, n_candidates, n_candidates \u001b[38;5;241m*\u001b[39m n_splits\n\u001b[1;32m    962\u001b[0m         )\n\u001b[1;32m    963\u001b[0m     )\n\u001b[0;32m--> 965\u001b[0m out \u001b[38;5;241m=\u001b[39m \u001b[43mparallel\u001b[49m\u001b[43m(\u001b[49m\n\u001b[1;32m    966\u001b[0m \u001b[43m    \u001b[49m\u001b[43mdelayed\u001b[49m\u001b[43m(\u001b[49m\u001b[43m_fit_and_score\u001b[49m\u001b[43m)\u001b[49m\u001b[43m(\u001b[49m\n\u001b[1;32m    967\u001b[0m \u001b[43m        \u001b[49m\u001b[43mclone\u001b[49m\u001b[43m(\u001b[49m\u001b[43mbase_estimator\u001b[49m\u001b[43m)\u001b[49m\u001b[43m,\u001b[49m\n\u001b[1;32m    968\u001b[0m \u001b[43m        \u001b[49m\u001b[43mX\u001b[49m\u001b[43m,\u001b[49m\n\u001b[1;32m    969\u001b[0m \u001b[43m        \u001b[49m\u001b[43my\u001b[49m\u001b[43m,\u001b[49m\n\u001b[1;32m    970\u001b[0m \u001b[43m        \u001b[49m\u001b[43mtrain\u001b[49m\u001b[38;5;241;43m=\u001b[39;49m\u001b[43mtrain\u001b[49m\u001b[43m,\u001b[49m\n\u001b[1;32m    971\u001b[0m \u001b[43m        \u001b[49m\u001b[43mtest\u001b[49m\u001b[38;5;241;43m=\u001b[39;49m\u001b[43mtest\u001b[49m\u001b[43m,\u001b[49m\n\u001b[1;32m    972\u001b[0m \u001b[43m        \u001b[49m\u001b[43mparameters\u001b[49m\u001b[38;5;241;43m=\u001b[39;49m\u001b[43mparameters\u001b[49m\u001b[43m,\u001b[49m\n\u001b[1;32m    973\u001b[0m \u001b[43m        \u001b[49m\u001b[43msplit_progress\u001b[49m\u001b[38;5;241;43m=\u001b[39;49m\u001b[43m(\u001b[49m\u001b[43msplit_idx\u001b[49m\u001b[43m,\u001b[49m\u001b[43m \u001b[49m\u001b[43mn_splits\u001b[49m\u001b[43m)\u001b[49m\u001b[43m,\u001b[49m\n\u001b[1;32m    974\u001b[0m \u001b[43m        \u001b[49m\u001b[43mcandidate_progress\u001b[49m\u001b[38;5;241;43m=\u001b[39;49m\u001b[43m(\u001b[49m\u001b[43mcand_idx\u001b[49m\u001b[43m,\u001b[49m\u001b[43m \u001b[49m\u001b[43mn_candidates\u001b[49m\u001b[43m)\u001b[49m\u001b[43m,\u001b[49m\n\u001b[1;32m    975\u001b[0m \u001b[43m        \u001b[49m\u001b[38;5;241;43m*\u001b[39;49m\u001b[38;5;241;43m*\u001b[39;49m\u001b[43mfit_and_score_kwargs\u001b[49m\u001b[43m,\u001b[49m\n\u001b[1;32m    976\u001b[0m \u001b[43m    \u001b[49m\u001b[43m)\u001b[49m\n\u001b[1;32m    977\u001b[0m \u001b[43m    \u001b[49m\u001b[38;5;28;43;01mfor\u001b[39;49;00m\u001b[43m \u001b[49m\u001b[43m(\u001b[49m\u001b[43mcand_idx\u001b[49m\u001b[43m,\u001b[49m\u001b[43m \u001b[49m\u001b[43mparameters\u001b[49m\u001b[43m)\u001b[49m\u001b[43m,\u001b[49m\u001b[43m \u001b[49m\u001b[43m(\u001b[49m\u001b[43msplit_idx\u001b[49m\u001b[43m,\u001b[49m\u001b[43m \u001b[49m\u001b[43m(\u001b[49m\u001b[43mtrain\u001b[49m\u001b[43m,\u001b[49m\u001b[43m \u001b[49m\u001b[43mtest\u001b[49m\u001b[43m)\u001b[49m\u001b[43m)\u001b[49m\u001b[43m \u001b[49m\u001b[38;5;129;43;01min\u001b[39;49;00m\u001b[43m \u001b[49m\u001b[43mproduct\u001b[49m\u001b[43m(\u001b[49m\n\u001b[1;32m    978\u001b[0m \u001b[43m        \u001b[49m\u001b[38;5;28;43menumerate\u001b[39;49m\u001b[43m(\u001b[49m\u001b[43mcandidate_params\u001b[49m\u001b[43m)\u001b[49m\u001b[43m,\u001b[49m\n\u001b[1;32m    979\u001b[0m \u001b[43m        \u001b[49m\u001b[38;5;28;43menumerate\u001b[39;49m\u001b[43m(\u001b[49m\u001b[43mcv\u001b[49m\u001b[38;5;241;43m.\u001b[39;49m\u001b[43msplit\u001b[49m\u001b[43m(\u001b[49m\u001b[43mX\u001b[49m\u001b[43m,\u001b[49m\u001b[43m \u001b[49m\u001b[43my\u001b[49m\u001b[43m,\u001b[49m\u001b[43m \u001b[49m\u001b[38;5;241;43m*\u001b[39;49m\u001b[38;5;241;43m*\u001b[39;49m\u001b[43mrouted_params\u001b[49m\u001b[38;5;241;43m.\u001b[39;49m\u001b[43msplitter\u001b[49m\u001b[38;5;241;43m.\u001b[39;49m\u001b[43msplit\u001b[49m\u001b[43m)\u001b[49m\u001b[43m)\u001b[49m\u001b[43m,\u001b[49m\n\u001b[1;32m    980\u001b[0m \u001b[43m    \u001b[49m\u001b[43m)\u001b[49m\n\u001b[1;32m    981\u001b[0m \u001b[43m\u001b[49m\u001b[43m)\u001b[49m\n\u001b[1;32m    983\u001b[0m \u001b[38;5;28;01mif\u001b[39;00m \u001b[38;5;28mlen\u001b[39m(out) \u001b[38;5;241m<\u001b[39m \u001b[38;5;241m1\u001b[39m:\n\u001b[1;32m    984\u001b[0m     \u001b[38;5;28;01mraise\u001b[39;00m \u001b[38;5;167;01mValueError\u001b[39;00m(\n\u001b[1;32m    985\u001b[0m         \u001b[38;5;124m\"\u001b[39m\u001b[38;5;124mNo fits were performed. \u001b[39m\u001b[38;5;124m\"\u001b[39m\n\u001b[1;32m    986\u001b[0m         \u001b[38;5;124m\"\u001b[39m\u001b[38;5;124mWas the CV iterator empty? \u001b[39m\u001b[38;5;124m\"\u001b[39m\n\u001b[1;32m    987\u001b[0m         \u001b[38;5;124m\"\u001b[39m\u001b[38;5;124mWere there no candidates?\u001b[39m\u001b[38;5;124m\"\u001b[39m\n\u001b[1;32m    988\u001b[0m     )\n",
      "File \u001b[0;32m~/anaconda3/envs/BIO/lib/python3.10/site-packages/sklearn/utils/parallel.py:74\u001b[0m, in \u001b[0;36mParallel.__call__\u001b[0;34m(self, iterable)\u001b[0m\n\u001b[1;32m     69\u001b[0m config \u001b[38;5;241m=\u001b[39m get_config()\n\u001b[1;32m     70\u001b[0m iterable_with_config \u001b[38;5;241m=\u001b[39m (\n\u001b[1;32m     71\u001b[0m     (_with_config(delayed_func, config), args, kwargs)\n\u001b[1;32m     72\u001b[0m     \u001b[38;5;28;01mfor\u001b[39;00m delayed_func, args, kwargs \u001b[38;5;129;01min\u001b[39;00m iterable\n\u001b[1;32m     73\u001b[0m )\n\u001b[0;32m---> 74\u001b[0m \u001b[38;5;28;01mreturn\u001b[39;00m \u001b[38;5;28;43msuper\u001b[39;49m\u001b[43m(\u001b[49m\u001b[43m)\u001b[49m\u001b[38;5;241;43m.\u001b[39;49m\u001b[38;5;21;43m__call__\u001b[39;49m\u001b[43m(\u001b[49m\u001b[43miterable_with_config\u001b[49m\u001b[43m)\u001b[49m\n",
      "File \u001b[0;32m~/anaconda3/envs/BIO/lib/python3.10/site-packages/joblib/parallel.py:2007\u001b[0m, in \u001b[0;36mParallel.__call__\u001b[0;34m(self, iterable)\u001b[0m\n\u001b[1;32m   2001\u001b[0m \u001b[38;5;66;03m# The first item from the output is blank, but it makes the interpreter\u001b[39;00m\n\u001b[1;32m   2002\u001b[0m \u001b[38;5;66;03m# progress until it enters the Try/Except block of the generator and\u001b[39;00m\n\u001b[1;32m   2003\u001b[0m \u001b[38;5;66;03m# reaches the first `yield` statement. This starts the asynchronous\u001b[39;00m\n\u001b[1;32m   2004\u001b[0m \u001b[38;5;66;03m# dispatch of the tasks to the workers.\u001b[39;00m\n\u001b[1;32m   2005\u001b[0m \u001b[38;5;28mnext\u001b[39m(output)\n\u001b[0;32m-> 2007\u001b[0m \u001b[38;5;28;01mreturn\u001b[39;00m output \u001b[38;5;28;01mif\u001b[39;00m \u001b[38;5;28mself\u001b[39m\u001b[38;5;241m.\u001b[39mreturn_generator \u001b[38;5;28;01melse\u001b[39;00m \u001b[38;5;28;43mlist\u001b[39;49m\u001b[43m(\u001b[49m\u001b[43moutput\u001b[49m\u001b[43m)\u001b[49m\n",
      "File \u001b[0;32m~/anaconda3/envs/BIO/lib/python3.10/site-packages/joblib/parallel.py:1650\u001b[0m, in \u001b[0;36mParallel._get_outputs\u001b[0;34m(self, iterator, pre_dispatch)\u001b[0m\n\u001b[1;32m   1647\u001b[0m     \u001b[38;5;28;01myield\u001b[39;00m\n\u001b[1;32m   1649\u001b[0m     \u001b[38;5;28;01mwith\u001b[39;00m \u001b[38;5;28mself\u001b[39m\u001b[38;5;241m.\u001b[39m_backend\u001b[38;5;241m.\u001b[39mretrieval_context():\n\u001b[0;32m-> 1650\u001b[0m         \u001b[38;5;28;01myield from\u001b[39;00m \u001b[38;5;28mself\u001b[39m\u001b[38;5;241m.\u001b[39m_retrieve()\n\u001b[1;32m   1652\u001b[0m \u001b[38;5;28;01mexcept\u001b[39;00m \u001b[38;5;167;01mGeneratorExit\u001b[39;00m:\n\u001b[1;32m   1653\u001b[0m     \u001b[38;5;66;03m# The generator has been garbage collected before being fully\u001b[39;00m\n\u001b[1;32m   1654\u001b[0m     \u001b[38;5;66;03m# consumed. This aborts the remaining tasks if possible and warn\u001b[39;00m\n\u001b[1;32m   1655\u001b[0m     \u001b[38;5;66;03m# the user if necessary.\u001b[39;00m\n\u001b[1;32m   1656\u001b[0m     \u001b[38;5;28mself\u001b[39m\u001b[38;5;241m.\u001b[39m_exception \u001b[38;5;241m=\u001b[39m \u001b[38;5;28;01mTrue\u001b[39;00m\n",
      "File \u001b[0;32m~/anaconda3/envs/BIO/lib/python3.10/site-packages/joblib/parallel.py:1762\u001b[0m, in \u001b[0;36mParallel._retrieve\u001b[0;34m(self)\u001b[0m\n\u001b[1;32m   1757\u001b[0m \u001b[38;5;66;03m# If the next job is not ready for retrieval yet, we just wait for\u001b[39;00m\n\u001b[1;32m   1758\u001b[0m \u001b[38;5;66;03m# async callbacks to progress.\u001b[39;00m\n\u001b[1;32m   1759\u001b[0m \u001b[38;5;28;01mif\u001b[39;00m ((\u001b[38;5;28mlen\u001b[39m(\u001b[38;5;28mself\u001b[39m\u001b[38;5;241m.\u001b[39m_jobs) \u001b[38;5;241m==\u001b[39m \u001b[38;5;241m0\u001b[39m) \u001b[38;5;129;01mor\u001b[39;00m\n\u001b[1;32m   1760\u001b[0m     (\u001b[38;5;28mself\u001b[39m\u001b[38;5;241m.\u001b[39m_jobs[\u001b[38;5;241m0\u001b[39m]\u001b[38;5;241m.\u001b[39mget_status(\n\u001b[1;32m   1761\u001b[0m         timeout\u001b[38;5;241m=\u001b[39m\u001b[38;5;28mself\u001b[39m\u001b[38;5;241m.\u001b[39mtimeout) \u001b[38;5;241m==\u001b[39m TASK_PENDING)):\n\u001b[0;32m-> 1762\u001b[0m     \u001b[43mtime\u001b[49m\u001b[38;5;241;43m.\u001b[39;49m\u001b[43msleep\u001b[49m\u001b[43m(\u001b[49m\u001b[38;5;241;43m0.01\u001b[39;49m\u001b[43m)\u001b[49m\n\u001b[1;32m   1763\u001b[0m     \u001b[38;5;28;01mcontinue\u001b[39;00m\n\u001b[1;32m   1765\u001b[0m \u001b[38;5;66;03m# We need to be careful: the job list can be filling up as\u001b[39;00m\n\u001b[1;32m   1766\u001b[0m \u001b[38;5;66;03m# we empty it and Python list are not thread-safe by\u001b[39;00m\n\u001b[1;32m   1767\u001b[0m \u001b[38;5;66;03m# default hence the use of the lock\u001b[39;00m\n",
      "\u001b[0;31mKeyboardInterrupt\u001b[0m: "
     ]
    }
   ],
   "source": [
    "import pandas as pd\n",
    "import numpy as np\n",
    "from sklearn.model_selection import train_test_split, GridSearchCV\n",
    "from sklearn.metrics import accuracy_score, classification_report, confusion_matrix, roc_auc_score\n",
    "import xgboost as xgb\n",
    "\n",
    "# 라벨 생성 (Tumor: 1, Normal: 0)\n",
    "y = np.array([1, 1, 1, 0, 0, 0])\n",
    "\n",
    "# Train-Test split (stratify로 클래스 균형 유지)\n",
    "X_train, X_test, y_train, y_test = train_test_split(X_log, y, test_size=0.33, random_state=42, stratify=y)\n",
    "\n",
    "# XGBoost 분류기 초기화\n",
    "xgb_clf = xgb.XGBClassifier(use_label_encoder=False, eval_metric='logloss')\n",
    "\n",
    "# GridSearch를 통한 하이퍼파라미터 튜닝\n",
    "param_grid = {\n",
    "    'n_estimators': [50, 100, 200],\n",
    "    'max_depth': [3, 5, 7],\n",
    "    'learning_rate': [0.01, 0.05, 0.1],\n",
    "    'subsample': [0.7, 0.8, 0.9],\n",
    "    'colsample_bytree': [0.7, 0.8, 0.9]\n",
    "}\n",
    "\n",
    "grid_search = GridSearchCV(\n",
    "    estimator=xgb_clf,\n",
    "    param_grid=param_grid,\n",
    "    scoring='roc_auc',\n",
    "    cv=2,\n",
    "    verbose=2,\n",
    "    n_jobs=-1\n",
    ")\n",
    "\n",
    "grid_search.fit(X_train, y_train)\n",
    "\n",
    "# 최적 하이퍼파라미터 결과\n",
    "print(\"최적의 하이퍼파라미터:\", grid_search.best_params_)\n",
    "\n",
    "# 최적 모델로 평가\n",
    "best_xgb = grid_search.best_estimator_\n",
    "\n",
    "y_pred = best_xgb.predict(X_test)\n",
    "y_pred_proba = best_xgb.predict_proba(X_test)[:, 1]\n",
    "\n",
    "# 평가 지표 출력\n",
    "accuracy = accuracy_score(y_test, y_pred)\n",
    "roc_auc = roc_auc_score(y_test, y_pred_proba)\n",
    "\n",
    "print(f'Accuracy: {accuracy:.4f}')\n",
    "print(f'ROC AUC Score: {roc_auc:.4f}')\n",
    "\n",
    "print(\"Classification Report:\")\n",
    "print(classification_report(y_test, y_pred, target_names=['Normal', 'Tumor']))\n",
    "\n",
    "print(\"Confusion Matrix:\")\n",
    "print(confusion_matrix(y_test, y_pred))"
   ]
  },
  {
   "cell_type": "code",
   "execution_count": 21,
   "metadata": {},
   "outputs": [
    {
     "name": "stdout",
     "output_type": "stream",
     "text": [
      "Collecting xgboost\n",
      "  Downloading xgboost-3.0.0-py3-none-manylinux_2_28_x86_64.whl.metadata (2.1 kB)\n",
      "Requirement already satisfied: numpy in /home/min/anaconda3/envs/BIO/lib/python3.10/site-packages (from xgboost) (2.2.2)\n",
      "Collecting nvidia-nccl-cu12 (from xgboost)\n",
      "  Downloading nvidia_nccl_cu12-2.26.2-py3-none-manylinux2014_x86_64.manylinux_2_17_x86_64.whl.metadata (2.0 kB)\n",
      "Requirement already satisfied: scipy in /home/min/anaconda3/envs/BIO/lib/python3.10/site-packages (from xgboost) (1.15.2)\n",
      "Downloading xgboost-3.0.0-py3-none-manylinux_2_28_x86_64.whl (253.9 MB)\n",
      "\u001b[2K   \u001b[90m━━━━━━━━━━━━━━━━━━━━━━━━━━━━━━━━━━━━━━━━\u001b[0m \u001b[32m253.9/253.9 MB\u001b[0m \u001b[31m36.8 MB/s\u001b[0m eta \u001b[36m0:00:00\u001b[0m00:01\u001b[0m00:01\u001b[0m\n",
      "\u001b[?25hDownloading nvidia_nccl_cu12-2.26.2-py3-none-manylinux2014_x86_64.manylinux_2_17_x86_64.whl (201.3 MB)\n",
      "\u001b[2K   \u001b[90m━━━━━━━━━━━━━━━━━━━━━━━━━━━━━━━━━━━━━━━━\u001b[0m \u001b[32m201.3/201.3 MB\u001b[0m \u001b[31m63.4 MB/s\u001b[0m eta \u001b[36m0:00:00\u001b[0m00:01\u001b[0m00:01\u001b[0m\n",
      "\u001b[?25hInstalling collected packages: nvidia-nccl-cu12, xgboost\n",
      "Successfully installed nvidia-nccl-cu12-2.26.2 xgboost-3.0.0\n"
     ]
    }
   ],
   "source": [
    "!pip install xgboost"
   ]
  }
 ],
 "metadata": {
  "kernelspec": {
   "display_name": "BIO",
   "language": "python",
   "name": "python3"
  },
  "language_info": {
   "codemirror_mode": {
    "name": "ipython",
    "version": 3
   },
   "file_extension": ".py",
   "mimetype": "text/x-python",
   "name": "python",
   "nbconvert_exporter": "python",
   "pygments_lexer": "ipython3",
   "version": "3.10.16"
  }
 },
 "nbformat": 4,
 "nbformat_minor": 2
}
