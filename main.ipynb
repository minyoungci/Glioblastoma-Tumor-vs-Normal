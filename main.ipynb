{
 "cells": [
  {
   "cell_type": "markdown",
   "metadata": {},
   "source": [
    "현재 상태:\n",
    "\n",
    "Tumor 디렉토리:\n",
    "\n",
    "    - SRR30510137: ✅ 완료\n",
    "\n",
    "    - SRR30510151: ✅ 완료\n",
    "\n",
    "    - SRR30510181: ✅ 완료\n",
    "\n",
    "Normal 디렉토리:\n",
    "\n",
    "    - SRR28602760: ✅ 완료\n",
    "\n",
    "    - SRR28602761: ✅ 완료\n",
    "\n",
    "    - SRR28602767: ✅ 완료\n",
    "\n",
    "각 디렉토리 별로 아래 단계가 완료된 상태입니다.\n",
    "\n",
    "- fastqc (품질 체크)\n",
    "\n",
    "- trim_galore (트리밍)\n",
    "\n",
    "- STAR (정렬 및 BAM 파일 생성)\n",
    "\n",
    "- featureCounts (유전자 발현량 정량화, counts.txt 생성)"
   ]
  },
  {
   "cell_type": "markdown",
   "metadata": {},
   "source": []
  },
  {
   "cell_type": "code",
   "execution_count": null,
   "metadata": {},
   "outputs": [
    {
     "name": "stdout",
     "output_type": "stream",
     "text": [
      "Sample           SRR30510137  SRR30510151  SRR30510181  SRR28602760  \\\n",
      "Geneid                                                                \n",
      "ENSG00000279928            6            0            2            2   \n",
      "ENSG00000228037            0            0            7           15   \n",
      "ENSG00000142611         2403          735          168         1128   \n",
      "ENSG00000284616            0            0            0            0   \n",
      "ENSG00000157911         1369          537          889          805   \n",
      "\n",
      "Sample           SRR28602761  SRR28602767  \n",
      "Geneid                                     \n",
      "ENSG00000279928            2            6  \n",
      "ENSG00000228037            8            6  \n",
      "ENSG00000142611         1247          504  \n",
      "ENSG00000284616            0            0  \n",
      "ENSG00000157911         1177         1301  \n"
     ]
    }
   ],
   "source": [
    "import pandas as pd\n",
    "import glob\n",
    "import os\n",
    "\n",
    "tumor_paths = glob.glob('./Tumor/*/counts.txt')\n",
    "normal_paths = glob.glob('./Normal/*/counts.txt')\n",
    "\n",
    "usecols = ['Geneid', 'SRR']\n",
    "\n",
    "counts_tumor = []\n",
    "for path in tumor_paths:\n",
    "    sample_name = os.path.basename(os.path.dirname(path))\n",
    "    df = pd.read_csv(path, sep='\\t', comment='#', usecols=[0, 6], names=['Geneid', sample_name], header=0)\n",
    "    counts_tumor.append(df.set_index('Geneid'))\n",
    "\n",
    "counts_tumor_df = pd.concat(counts_tumor, axis=1)\n",
    "\n",
    "counts_normal = []\n",
    "for path in normal_paths:\n",
    "    sample_name = os.path.basename(os.path.dirname(path))\n",
    "    df = pd.read_csv(path, sep='\\t', comment='#', usecols=[0, 6], names=['Geneid', sample_name], header=0)\n",
    "    counts_normal.append(df.set_index('Geneid'))\n",
    "\n",
    "counts_normal_df = pd.concat(counts_normal, axis=1)\n",
    "\n",
    "combined_counts_df = pd.concat([counts_tumor_df, counts_normal_df], axis=1)\n",
    "combined_counts_df.columns.name = 'Sample'\n",
    "\n",
    "print(combined_counts_df.head())"
   ]
  },
  {
   "cell_type": "code",
   "execution_count": 2,
   "metadata": {},
   "outputs": [],
   "source": [
    "combined_counts_df.columns = [\n",
    "    'Tumor_SRR30510137',\n",
    "    'Tumor_SRR30510151',\n",
    "    'Tumor_SRR30510181',\n",
    "    'Normal_SRR28602760',\n",
    "    'Normal_SRR28602761',\n",
    "    'Normal_SRR28602767'\n",
    "]"
   ]
  },
  {
   "cell_type": "code",
   "execution_count": null,
   "metadata": {},
   "outputs": [],
   "source": [
    "combined_counts_df.to_csv(\"combined_counts_df.csv\", index=False)"
   ]
  },
  {
   "cell_type": "code",
   "execution_count": 11,
   "metadata": {},
   "outputs": [
    {
     "data": {
      "text/html": [
       "<div>\n",
       "<style scoped>\n",
       "    .dataframe tbody tr th:only-of-type {\n",
       "        vertical-align: middle;\n",
       "    }\n",
       "\n",
       "    .dataframe tbody tr th {\n",
       "        vertical-align: top;\n",
       "    }\n",
       "\n",
       "    .dataframe thead th {\n",
       "        text-align: right;\n",
       "    }\n",
       "</style>\n",
       "<table border=\"1\" class=\"dataframe\">\n",
       "  <thead>\n",
       "    <tr style=\"text-align: right;\">\n",
       "      <th></th>\n",
       "      <th>Tumor_SRR30510137</th>\n",
       "      <th>Tumor_SRR30510151</th>\n",
       "      <th>Tumor_SRR30510181</th>\n",
       "      <th>Normal_SRR28602760</th>\n",
       "      <th>Normal_SRR28602761</th>\n",
       "      <th>Normal_SRR28602767</th>\n",
       "    </tr>\n",
       "    <tr>\n",
       "      <th>Geneid</th>\n",
       "      <th></th>\n",
       "      <th></th>\n",
       "      <th></th>\n",
       "      <th></th>\n",
       "      <th></th>\n",
       "      <th></th>\n",
       "    </tr>\n",
       "  </thead>\n",
       "  <tbody>\n",
       "    <tr>\n",
       "      <th>ENSG00000279928</th>\n",
       "      <td>6</td>\n",
       "      <td>0</td>\n",
       "      <td>2</td>\n",
       "      <td>2</td>\n",
       "      <td>2</td>\n",
       "      <td>6</td>\n",
       "    </tr>\n",
       "    <tr>\n",
       "      <th>ENSG00000228037</th>\n",
       "      <td>0</td>\n",
       "      <td>0</td>\n",
       "      <td>7</td>\n",
       "      <td>15</td>\n",
       "      <td>8</td>\n",
       "      <td>6</td>\n",
       "    </tr>\n",
       "    <tr>\n",
       "      <th>ENSG00000142611</th>\n",
       "      <td>2403</td>\n",
       "      <td>735</td>\n",
       "      <td>168</td>\n",
       "      <td>1128</td>\n",
       "      <td>1247</td>\n",
       "      <td>504</td>\n",
       "    </tr>\n",
       "    <tr>\n",
       "      <th>ENSG00000284616</th>\n",
       "      <td>0</td>\n",
       "      <td>0</td>\n",
       "      <td>0</td>\n",
       "      <td>0</td>\n",
       "      <td>0</td>\n",
       "      <td>0</td>\n",
       "    </tr>\n",
       "    <tr>\n",
       "      <th>ENSG00000157911</th>\n",
       "      <td>1369</td>\n",
       "      <td>537</td>\n",
       "      <td>889</td>\n",
       "      <td>805</td>\n",
       "      <td>1177</td>\n",
       "      <td>1301</td>\n",
       "    </tr>\n",
       "  </tbody>\n",
       "</table>\n",
       "</div>"
      ],
      "text/plain": [
       "                 Tumor_SRR30510137  Tumor_SRR30510151  Tumor_SRR30510181  \\\n",
       "Geneid                                                                     \n",
       "ENSG00000279928                  6                  0                  2   \n",
       "ENSG00000228037                  0                  0                  7   \n",
       "ENSG00000142611               2403                735                168   \n",
       "ENSG00000284616                  0                  0                  0   \n",
       "ENSG00000157911               1369                537                889   \n",
       "\n",
       "                 Normal_SRR28602760  Normal_SRR28602761  Normal_SRR28602767  \n",
       "Geneid                                                                       \n",
       "ENSG00000279928                   2                   2                   6  \n",
       "ENSG00000228037                  15                   8                   6  \n",
       "ENSG00000142611                1128                1247                 504  \n",
       "ENSG00000284616                   0                   0                   0  \n",
       "ENSG00000157911                 805                1177                1301  "
      ]
     },
     "execution_count": 11,
     "metadata": {},
     "output_type": "execute_result"
    }
   ],
   "source": [
    "combined_counts_df.head()"
   ]
  },
  {
   "cell_type": "markdown",
   "metadata": {},
   "source": [
    "### 정규화(Normalization)\n",
    "\n",
    "- RNA-Seq 데이터 분석의 필수 단계입니다. \n",
    "- 다양한 방법 중 CPM(Counts Per Million)과 log 변환을 추천합니다."
   ]
  },
  {
   "cell_type": "code",
   "execution_count": 1,
   "metadata": {},
   "outputs": [
    {
     "name": "stdout",
     "output_type": "stream",
     "text": [
      "   Tumor_SRR30510137  Tumor_SRR30510151  Tumor_SRR30510181  \\\n",
      "0           0.114254           0.000000           0.083805   \n",
      "1           0.000000           0.000000           0.274213   \n",
      "2           5.087772           3.979975           2.590725   \n",
      "3           0.000000           0.000000           0.000000   \n",
      "4           4.307749           3.560476           4.785833   \n",
      "\n",
      "   Normal_SRR28602760  Normal_SRR28602761  Normal_SRR28602767  \n",
      "0            0.038284            0.031208            0.109349  \n",
      "1            0.265062            0.120976            0.109349  \n",
      "2            4.014973            3.871297            2.928702  \n",
      "3            0.000000            0.000000            0.000000  \n",
      "4            3.563635            3.793801            4.175820  \n"
     ]
    }
   ],
   "source": [
    "import numpy as np\n",
    "import pandas as pd\n",
    "\n",
    "combined_counts_df = pd.read_csv('combined_counts_df.csv')\n",
    "\n",
    "def cpm(counts):\n",
    "    return (counts / counts.sum()) * 1e6\n",
    "\n",
    "normalized_df = combined_counts_df.apply(cpm, axis=0)\n",
    "normalized_log_df = np.log2(normalized_df + 1)\n",
    "\n",
    "normalized_log_df.to_csv('normalized_counts.csv', index=False)\n",
    "\n",
    "print(normalized_log_df.head())"
   ]
  },
  {
   "cell_type": "markdown",
   "metadata": {},
   "source": [
    "### PCA(Principal Component Analysis)\n",
    "\n",
    "정규화 후 PCA를 통해 샘플 간 유사성을 탐색하고, 각 군(Tumor vs Normal)의 명확한 분리를 확인할 수 있음"
   ]
  },
  {
   "cell_type": "code",
   "execution_count": 2,
   "metadata": {},
   "outputs": [
    {
     "data": {
      "image/png": "[encoded data removed]",
      "text/plain": [
       "<Figure size 800x600 with 1 Axes>"
      ]
     },
     "metadata": {},
     "output_type": "display_data"
    }
   ],
   "source": [
    "import pandas as pd\n",
    "from sklearn.decomposition import PCA\n",
    "import matplotlib.pyplot as plt\n",
    "import seaborn as sns\n",
    "\n",
    "data = pd.read_csv('normalized_counts.csv')\n",
    "\n",
    "pca = PCA(n_components=2)\n",
    "pca_result = pca.fit_transform(data.T)\n",
    "\n",
    "pca_df = pd.DataFrame(pca_result, columns=['PC1', 'PC2'])\n",
    "pca_df['Sample'] = ['Tumor', 'Tumor', 'Tumor', 'Normal', 'Normal', 'Normal']\n",
    "\n",
    "plt.figure(figsize=(8,6))\n",
    "sns.scatterplot(data=pca_df, x='PC1', y='PC2', hue='Sample', s=100)\n",
    "\n",
    "plt.title('PCA of Glioblastoma RNA-seq Samples')\n",
    "plt.xlabel('Principal Component 1')\n",
    "plt.ylabel('Principal Component 2')\n",
    "plt.legend(title='Sample type')\n",
    "plt.grid(True)\n",
    "\n",
    "plt.savefig('PCA_plot.png')\n",
    "plt.show()"
   ]
  },
  {
   "cell_type": "code",
   "execution_count": null,
   "metadata": {},
   "outputs": [],
   "source": []
  }
 ],
 "metadata": {
  "kernelspec": {
   "display_name": "BIO",
   "language": "python",
   "name": "python3"
  },
  "language_info": {
   "codemirror_mode": {
    "name": "ipython",
    "version": 3
   },
   "file_extension": ".py",
   "mimetype": "text/x-python",
   "name": "python",
   "nbconvert_exporter": "python",
   "pygments_lexer": "ipython3",
   "version": "3.10.16"
  }
 },
 "nbformat": 4,
 "nbformat_minor": 2
}
